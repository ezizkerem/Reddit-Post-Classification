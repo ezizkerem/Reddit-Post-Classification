{
 "cells": [
  {
   "cell_type": "markdown",
   "id": "422f2180",
   "metadata": {},
   "source": [
    "# Extract Reddit Posts"
   ]
  },
  {
   "cell_type": "code",
   "execution_count": 39,
   "id": "8d8ecad5",
   "metadata": {},
   "outputs": [],
   "source": [
    "import requests\n",
    "import pandas as pd\n",
    "from datetime import datetime\n",
    "from time import sleep\n",
    "import numpy as np"
   ]
  },
  {
   "cell_type": "code",
   "execution_count": 40,
   "id": "8c30c799",
   "metadata": {},
   "outputs": [],
   "source": [
    "def red_posts(subreddit, num_posts):\n",
    "    url = 'https://api.pushshift.io/reddit/search/submission'\n",
    "    time = datetime.now().strftime('%s')\n",
    "    posts = pd.DataFrame()\n",
    "    \n",
    "    for _ in range(num_posts):\n",
    "        params = {\n",
    "        'subreddit' : subreddit,\n",
    "        'size' : 100,\n",
    "        'before': time\n",
    "        }\n",
    "\n",
    "        sleep(0.5)\n",
    "        \n",
    "        res = requests.get(url, params)\n",
    "\n",
    "        print(res.status_code)\n",
    "\n",
    "        data = res.json()\n",
    "        \n",
    "        posts = posts.append(pd.DataFrame(data['data']), ignore_index=True)\n",
    "        \n",
    "        time = posts['created_utc'].iloc[-1]\n",
    "        \n",
    "    print('Done')\n",
    "    return posts"
   ]
  },
  {
   "cell_type": "code",
   "execution_count": 65,
   "id": "eceecef8",
   "metadata": {},
   "outputs": [
    {
     "name": "stdout",
     "output_type": "stream",
     "text": [
      "200\n"
     ]
    },
    {
     "name": "stderr",
     "output_type": "stream",
     "text": [
      "/var/folders/n2/2x1h8gm12hg272zzsml3ns500000gn/T/ipykernel_33828/3000572554.py:21: FutureWarning: The frame.append method is deprecated and will be removed from pandas in a future version. Use pandas.concat instead.\n",
      "  posts = posts.append(pd.DataFrame(data['data']), ignore_index=True)\n"
     ]
    },
    {
     "name": "stdout",
     "output_type": "stream",
     "text": [
      "200\n"
     ]
    },
    {
     "name": "stderr",
     "output_type": "stream",
     "text": [
      "/var/folders/n2/2x1h8gm12hg272zzsml3ns500000gn/T/ipykernel_33828/3000572554.py:21: FutureWarning: The frame.append method is deprecated and will be removed from pandas in a future version. Use pandas.concat instead.\n",
      "  posts = posts.append(pd.DataFrame(data['data']), ignore_index=True)\n"
     ]
    },
    {
     "name": "stdout",
     "output_type": "stream",
     "text": [
      "200\n"
     ]
    },
    {
     "name": "stderr",
     "output_type": "stream",
     "text": [
      "/var/folders/n2/2x1h8gm12hg272zzsml3ns500000gn/T/ipykernel_33828/3000572554.py:21: FutureWarning: The frame.append method is deprecated and will be removed from pandas in a future version. Use pandas.concat instead.\n",
      "  posts = posts.append(pd.DataFrame(data['data']), ignore_index=True)\n"
     ]
    },
    {
     "name": "stdout",
     "output_type": "stream",
     "text": [
      "200\n"
     ]
    },
    {
     "name": "stderr",
     "output_type": "stream",
     "text": [
      "/var/folders/n2/2x1h8gm12hg272zzsml3ns500000gn/T/ipykernel_33828/3000572554.py:21: FutureWarning: The frame.append method is deprecated and will be removed from pandas in a future version. Use pandas.concat instead.\n",
      "  posts = posts.append(pd.DataFrame(data['data']), ignore_index=True)\n"
     ]
    },
    {
     "name": "stdout",
     "output_type": "stream",
     "text": [
      "200\n"
     ]
    },
    {
     "name": "stderr",
     "output_type": "stream",
     "text": [
      "/var/folders/n2/2x1h8gm12hg272zzsml3ns500000gn/T/ipykernel_33828/3000572554.py:21: FutureWarning: The frame.append method is deprecated and will be removed from pandas in a future version. Use pandas.concat instead.\n",
      "  posts = posts.append(pd.DataFrame(data['data']), ignore_index=True)\n"
     ]
    },
    {
     "name": "stdout",
     "output_type": "stream",
     "text": [
      "200\n"
     ]
    },
    {
     "name": "stderr",
     "output_type": "stream",
     "text": [
      "/var/folders/n2/2x1h8gm12hg272zzsml3ns500000gn/T/ipykernel_33828/3000572554.py:21: FutureWarning: The frame.append method is deprecated and will be removed from pandas in a future version. Use pandas.concat instead.\n",
      "  posts = posts.append(pd.DataFrame(data['data']), ignore_index=True)\n"
     ]
    },
    {
     "name": "stdout",
     "output_type": "stream",
     "text": [
      "200\n"
     ]
    },
    {
     "name": "stderr",
     "output_type": "stream",
     "text": [
      "/var/folders/n2/2x1h8gm12hg272zzsml3ns500000gn/T/ipykernel_33828/3000572554.py:21: FutureWarning: The frame.append method is deprecated and will be removed from pandas in a future version. Use pandas.concat instead.\n",
      "  posts = posts.append(pd.DataFrame(data['data']), ignore_index=True)\n"
     ]
    },
    {
     "name": "stdout",
     "output_type": "stream",
     "text": [
      "200\n"
     ]
    },
    {
     "name": "stderr",
     "output_type": "stream",
     "text": [
      "/var/folders/n2/2x1h8gm12hg272zzsml3ns500000gn/T/ipykernel_33828/3000572554.py:21: FutureWarning: The frame.append method is deprecated and will be removed from pandas in a future version. Use pandas.concat instead.\n",
      "  posts = posts.append(pd.DataFrame(data['data']), ignore_index=True)\n"
     ]
    },
    {
     "name": "stdout",
     "output_type": "stream",
     "text": [
      "200\n"
     ]
    },
    {
     "name": "stderr",
     "output_type": "stream",
     "text": [
      "/var/folders/n2/2x1h8gm12hg272zzsml3ns500000gn/T/ipykernel_33828/3000572554.py:21: FutureWarning: The frame.append method is deprecated and will be removed from pandas in a future version. Use pandas.concat instead.\n",
      "  posts = posts.append(pd.DataFrame(data['data']), ignore_index=True)\n"
     ]
    },
    {
     "name": "stdout",
     "output_type": "stream",
     "text": [
      "200\n"
     ]
    },
    {
     "name": "stderr",
     "output_type": "stream",
     "text": [
      "/var/folders/n2/2x1h8gm12hg272zzsml3ns500000gn/T/ipykernel_33828/3000572554.py:21: FutureWarning: The frame.append method is deprecated and will be removed from pandas in a future version. Use pandas.concat instead.\n",
      "  posts = posts.append(pd.DataFrame(data['data']), ignore_index=True)\n"
     ]
    },
    {
     "name": "stdout",
     "output_type": "stream",
     "text": [
      "200\n"
     ]
    },
    {
     "name": "stderr",
     "output_type": "stream",
     "text": [
      "/var/folders/n2/2x1h8gm12hg272zzsml3ns500000gn/T/ipykernel_33828/3000572554.py:21: FutureWarning: The frame.append method is deprecated and will be removed from pandas in a future version. Use pandas.concat instead.\n",
      "  posts = posts.append(pd.DataFrame(data['data']), ignore_index=True)\n"
     ]
    },
    {
     "name": "stdout",
     "output_type": "stream",
     "text": [
      "200\n"
     ]
    },
    {
     "name": "stderr",
     "output_type": "stream",
     "text": [
      "/var/folders/n2/2x1h8gm12hg272zzsml3ns500000gn/T/ipykernel_33828/3000572554.py:21: FutureWarning: The frame.append method is deprecated and will be removed from pandas in a future version. Use pandas.concat instead.\n",
      "  posts = posts.append(pd.DataFrame(data['data']), ignore_index=True)\n"
     ]
    },
    {
     "name": "stdout",
     "output_type": "stream",
     "text": [
      "200\n"
     ]
    },
    {
     "name": "stderr",
     "output_type": "stream",
     "text": [
      "/var/folders/n2/2x1h8gm12hg272zzsml3ns500000gn/T/ipykernel_33828/3000572554.py:21: FutureWarning: The frame.append method is deprecated and will be removed from pandas in a future version. Use pandas.concat instead.\n",
      "  posts = posts.append(pd.DataFrame(data['data']), ignore_index=True)\n"
     ]
    },
    {
     "name": "stdout",
     "output_type": "stream",
     "text": [
      "200\n"
     ]
    },
    {
     "name": "stderr",
     "output_type": "stream",
     "text": [
      "/var/folders/n2/2x1h8gm12hg272zzsml3ns500000gn/T/ipykernel_33828/3000572554.py:21: FutureWarning: The frame.append method is deprecated and will be removed from pandas in a future version. Use pandas.concat instead.\n",
      "  posts = posts.append(pd.DataFrame(data['data']), ignore_index=True)\n"
     ]
    },
    {
     "name": "stdout",
     "output_type": "stream",
     "text": [
      "200\n"
     ]
    },
    {
     "name": "stderr",
     "output_type": "stream",
     "text": [
      "/var/folders/n2/2x1h8gm12hg272zzsml3ns500000gn/T/ipykernel_33828/3000572554.py:21: FutureWarning: The frame.append method is deprecated and will be removed from pandas in a future version. Use pandas.concat instead.\n",
      "  posts = posts.append(pd.DataFrame(data['data']), ignore_index=True)\n"
     ]
    },
    {
     "name": "stdout",
     "output_type": "stream",
     "text": [
      "200\n"
     ]
    },
    {
     "name": "stderr",
     "output_type": "stream",
     "text": [
      "/var/folders/n2/2x1h8gm12hg272zzsml3ns500000gn/T/ipykernel_33828/3000572554.py:21: FutureWarning: The frame.append method is deprecated and will be removed from pandas in a future version. Use pandas.concat instead.\n",
      "  posts = posts.append(pd.DataFrame(data['data']), ignore_index=True)\n"
     ]
    },
    {
     "name": "stdout",
     "output_type": "stream",
     "text": [
      "200\n"
     ]
    },
    {
     "name": "stderr",
     "output_type": "stream",
     "text": [
      "/var/folders/n2/2x1h8gm12hg272zzsml3ns500000gn/T/ipykernel_33828/3000572554.py:21: FutureWarning: The frame.append method is deprecated and will be removed from pandas in a future version. Use pandas.concat instead.\n",
      "  posts = posts.append(pd.DataFrame(data['data']), ignore_index=True)\n"
     ]
    },
    {
     "name": "stdout",
     "output_type": "stream",
     "text": [
      "200\n"
     ]
    },
    {
     "name": "stderr",
     "output_type": "stream",
     "text": [
      "/var/folders/n2/2x1h8gm12hg272zzsml3ns500000gn/T/ipykernel_33828/3000572554.py:21: FutureWarning: The frame.append method is deprecated and will be removed from pandas in a future version. Use pandas.concat instead.\n",
      "  posts = posts.append(pd.DataFrame(data['data']), ignore_index=True)\n"
     ]
    },
    {
     "name": "stdout",
     "output_type": "stream",
     "text": [
      "200\n"
     ]
    },
    {
     "name": "stderr",
     "output_type": "stream",
     "text": [
      "/var/folders/n2/2x1h8gm12hg272zzsml3ns500000gn/T/ipykernel_33828/3000572554.py:21: FutureWarning: The frame.append method is deprecated and will be removed from pandas in a future version. Use pandas.concat instead.\n",
      "  posts = posts.append(pd.DataFrame(data['data']), ignore_index=True)\n"
     ]
    },
    {
     "name": "stdout",
     "output_type": "stream",
     "text": [
      "200\n",
      "Done\n"
     ]
    },
    {
     "name": "stderr",
     "output_type": "stream",
     "text": [
      "/var/folders/n2/2x1h8gm12hg272zzsml3ns500000gn/T/ipykernel_33828/3000572554.py:21: FutureWarning: The frame.append method is deprecated and will be removed from pandas in a future version. Use pandas.concat instead.\n",
      "  posts = posts.append(pd.DataFrame(data['data']), ignore_index=True)\n"
     ]
    }
   ],
   "source": [
    "df = red_posts('XboxSeriesX', 20)"
   ]
  },
  {
   "cell_type": "code",
   "execution_count": 66,
   "id": "a20487df",
   "metadata": {},
   "outputs": [
    {
     "data": {
      "text/html": [
       "<div>\n",
       "<style scoped>\n",
       "    .dataframe tbody tr th:only-of-type {\n",
       "        vertical-align: middle;\n",
       "    }\n",
       "\n",
       "    .dataframe tbody tr th {\n",
       "        vertical-align: top;\n",
       "    }\n",
       "\n",
       "    .dataframe thead th {\n",
       "        text-align: right;\n",
       "    }\n",
       "</style>\n",
       "<table border=\"1\" class=\"dataframe\">\n",
       "  <thead>\n",
       "    <tr style=\"text-align: right;\">\n",
       "      <th></th>\n",
       "      <th>subreddit</th>\n",
       "      <th>selftext</th>\n",
       "      <th>title</th>\n",
       "    </tr>\n",
       "  </thead>\n",
       "  <tbody>\n",
       "    <tr>\n",
       "      <th>0</th>\n",
       "      <td>XboxSeriesX</td>\n",
       "      <td></td>\n",
       "      <td>Game Director Adam Brennecke shares special me...</td>\n",
       "    </tr>\n",
       "    <tr>\n",
       "      <th>1</th>\n",
       "      <td>XboxSeriesX</td>\n",
       "      <td></td>\n",
       "      <td>Guild Wars Developer Is Working On Unannounced...</td>\n",
       "    </tr>\n",
       "    <tr>\n",
       "      <th>2</th>\n",
       "      <td>XboxSeriesX</td>\n",
       "      <td></td>\n",
       "      <td>The reproduction of reality in Tank Mark V in ...</td>\n",
       "    </tr>\n",
       "    <tr>\n",
       "      <th>3</th>\n",
       "      <td>XboxSeriesX</td>\n",
       "      <td>You can change accounts info</td>\n",
       "      <td>Selling xbox gamepass ultimate accounts 1 year...</td>\n",
       "    </tr>\n",
       "    <tr>\n",
       "      <th>4</th>\n",
       "      <td>XboxSeriesX</td>\n",
       "      <td>I have just bought a xbox series s with gamepa...</td>\n",
       "      <td>What games do in need to play</td>\n",
       "    </tr>\n",
       "    <tr>\n",
       "      <th>...</th>\n",
       "      <td>...</td>\n",
       "      <td>...</td>\n",
       "      <td>...</td>\n",
       "    </tr>\n",
       "    <tr>\n",
       "      <th>1995</th>\n",
       "      <td>XboxSeriesX</td>\n",
       "      <td>So my partner has bought me a Series X for my ...</td>\n",
       "      <td>My Series X is here 1 week before my birthday</td>\n",
       "    </tr>\n",
       "    <tr>\n",
       "      <th>1996</th>\n",
       "      <td>XboxSeriesX</td>\n",
       "      <td>I bought this new console and playing Halo dur...</td>\n",
       "      <td>Is the fact that the series x Is warm enough t...</td>\n",
       "    </tr>\n",
       "    <tr>\n",
       "      <th>1997</th>\n",
       "      <td>XboxSeriesX</td>\n",
       "      <td>Hello sorry for my English I use google transl...</td>\n",
       "      <td>samsung tv setting</td>\n",
       "    </tr>\n",
       "    <tr>\n",
       "      <th>1998</th>\n",
       "      <td>XboxSeriesX</td>\n",
       "      <td>Does anyone have a recommended video guide of ...</td>\n",
       "      <td>video recommendation</td>\n",
       "    </tr>\n",
       "    <tr>\n",
       "      <th>1999</th>\n",
       "      <td>XboxSeriesX</td>\n",
       "      <td>I haven't played any games made past 2015 howe...</td>\n",
       "      <td>Recommended games to play on xbox for someone ...</td>\n",
       "    </tr>\n",
       "  </tbody>\n",
       "</table>\n",
       "<p>2000 rows × 3 columns</p>\n",
       "</div>"
      ],
      "text/plain": [
       "        subreddit                                           selftext  \\\n",
       "0     XboxSeriesX                                                      \n",
       "1     XboxSeriesX                                                      \n",
       "2     XboxSeriesX                                                      \n",
       "3     XboxSeriesX                       You can change accounts info   \n",
       "4     XboxSeriesX  I have just bought a xbox series s with gamepa...   \n",
       "...           ...                                                ...   \n",
       "1995  XboxSeriesX  So my partner has bought me a Series X for my ...   \n",
       "1996  XboxSeriesX  I bought this new console and playing Halo dur...   \n",
       "1997  XboxSeriesX  Hello sorry for my English I use google transl...   \n",
       "1998  XboxSeriesX  Does anyone have a recommended video guide of ...   \n",
       "1999  XboxSeriesX  I haven't played any games made past 2015 howe...   \n",
       "\n",
       "                                                  title  \n",
       "0     Game Director Adam Brennecke shares special me...  \n",
       "1     Guild Wars Developer Is Working On Unannounced...  \n",
       "2     The reproduction of reality in Tank Mark V in ...  \n",
       "3     Selling xbox gamepass ultimate accounts 1 year...  \n",
       "4                         What games do in need to play  \n",
       "...                                                 ...  \n",
       "1995      My Series X is here 1 week before my birthday  \n",
       "1996  Is the fact that the series x Is warm enough t...  \n",
       "1997                                 samsung tv setting  \n",
       "1998                               video recommendation  \n",
       "1999  Recommended games to play on xbox for someone ...  \n",
       "\n",
       "[2000 rows x 3 columns]"
      ]
     },
     "execution_count": 66,
     "metadata": {},
     "output_type": "execute_result"
    }
   ],
   "source": [
    "df[['subreddit', 'selftext', 'title']]"
   ]
  },
  {
   "cell_type": "code",
   "execution_count": 67,
   "id": "14f420a4",
   "metadata": {},
   "outputs": [],
   "source": [
    "df.replace(r'[removed]', np.NaN, inplace=True)"
   ]
  },
  {
   "cell_type": "code",
   "execution_count": 68,
   "id": "d03d2fc0",
   "metadata": {},
   "outputs": [],
   "source": [
    "df.replace(r'', np.NaN, inplace=True)"
   ]
  },
  {
   "cell_type": "code",
   "execution_count": 69,
   "id": "b16aa78b",
   "metadata": {},
   "outputs": [
    {
     "data": {
      "text/plain": [
       "1133"
      ]
     },
     "execution_count": 69,
     "metadata": {},
     "output_type": "execute_result"
    }
   ],
   "source": [
    "df = df[['subreddit', 'selftext', 'title']]\n",
    "df['selftext'].notnull().sum()"
   ]
  },
  {
   "cell_type": "code",
   "execution_count": 57,
   "id": "6b6a9a83",
   "metadata": {},
   "outputs": [],
   "source": [
    "# ps5 = df"
   ]
  },
  {
   "cell_type": "code",
   "execution_count": 59,
   "id": "2a20eb88",
   "metadata": {},
   "outputs": [
    {
     "data": {
      "text/html": [
       "<div>\n",
       "<style scoped>\n",
       "    .dataframe tbody tr th:only-of-type {\n",
       "        vertical-align: middle;\n",
       "    }\n",
       "\n",
       "    .dataframe tbody tr th {\n",
       "        vertical-align: top;\n",
       "    }\n",
       "\n",
       "    .dataframe thead th {\n",
       "        text-align: right;\n",
       "    }\n",
       "</style>\n",
       "<table border=\"1\" class=\"dataframe\">\n",
       "  <thead>\n",
       "    <tr style=\"text-align: right;\">\n",
       "      <th></th>\n",
       "      <th>subreddit</th>\n",
       "      <th>selftext</th>\n",
       "      <th>title</th>\n",
       "    </tr>\n",
       "  </thead>\n",
       "  <tbody>\n",
       "    <tr>\n",
       "      <th>0</th>\n",
       "      <td>PS5</td>\n",
       "      <td>NaN</td>\n",
       "      <td>Frogwares: Sherlock Holmes The Awakened, a ful...</td>\n",
       "    </tr>\n",
       "    <tr>\n",
       "      <th>1</th>\n",
       "      <td>PS5</td>\n",
       "      <td>NaN</td>\n",
       "      <td>Kao the Kangaroo - Summer Drip Free DLC</td>\n",
       "    </tr>\n",
       "    <tr>\n",
       "      <th>2</th>\n",
       "      <td>PS5</td>\n",
       "      <td>NaN</td>\n",
       "      <td>can't decide which game to get in the sale?</td>\n",
       "    </tr>\n",
       "    <tr>\n",
       "      <th>3</th>\n",
       "      <td>PS5</td>\n",
       "      <td>NaN</td>\n",
       "      <td>New beta software!</td>\n",
       "    </tr>\n",
       "    <tr>\n",
       "      <th>4</th>\n",
       "      <td>PS5</td>\n",
       "      <td>NaN</td>\n",
       "      <td>Beta PS5 software update supports 1440p HDMI v...</td>\n",
       "    </tr>\n",
       "    <tr>\n",
       "      <th>...</th>\n",
       "      <td>...</td>\n",
       "      <td>...</td>\n",
       "      <td>...</td>\n",
       "    </tr>\n",
       "    <tr>\n",
       "      <th>5489</th>\n",
       "      <td>PS5</td>\n",
       "      <td>Bought game at launch Physical and returned it...</td>\n",
       "      <td>Anyone know if Fallout 76 on PS Plus Extra is ...</td>\n",
       "    </tr>\n",
       "    <tr>\n",
       "      <th>5490</th>\n",
       "      <td>PS5</td>\n",
       "      <td>NaN</td>\n",
       "      <td>how do I mute my mic for specific games.</td>\n",
       "    </tr>\n",
       "    <tr>\n",
       "      <th>5491</th>\n",
       "      <td>PS5</td>\n",
       "      <td>What games [new] or older have you been playin...</td>\n",
       "      <td>Games you're interested in</td>\n",
       "    </tr>\n",
       "    <tr>\n",
       "      <th>5492</th>\n",
       "      <td>PS5</td>\n",
       "      <td>If i buy ps plus now will i have to pay full p...</td>\n",
       "      <td>If i buy ps plus now will i have to pay full p...</td>\n",
       "    </tr>\n",
       "    <tr>\n",
       "      <th>5493</th>\n",
       "      <td>PS5</td>\n",
       "      <td>NaN</td>\n",
       "      <td>If i buy ps plus now will i have to pay full p...</td>\n",
       "    </tr>\n",
       "  </tbody>\n",
       "</table>\n",
       "<p>5494 rows × 3 columns</p>\n",
       "</div>"
      ],
      "text/plain": [
       "     subreddit                                           selftext  \\\n",
       "0          PS5                                                NaN   \n",
       "1          PS5                                                NaN   \n",
       "2          PS5                                                NaN   \n",
       "3          PS5                                                NaN   \n",
       "4          PS5                                                NaN   \n",
       "...        ...                                                ...   \n",
       "5489       PS5  Bought game at launch Physical and returned it...   \n",
       "5490       PS5                                                NaN   \n",
       "5491       PS5  What games [new] or older have you been playin...   \n",
       "5492       PS5  If i buy ps plus now will i have to pay full p...   \n",
       "5493       PS5                                                NaN   \n",
       "\n",
       "                                                  title  \n",
       "0     Frogwares: Sherlock Holmes The Awakened, a ful...  \n",
       "1               Kao the Kangaroo - Summer Drip Free DLC  \n",
       "2           can't decide which game to get in the sale?  \n",
       "3                                    New beta software!  \n",
       "4     Beta PS5 software update supports 1440p HDMI v...  \n",
       "...                                                 ...  \n",
       "5489  Anyone know if Fallout 76 on PS Plus Extra is ...  \n",
       "5490           how do I mute my mic for specific games.  \n",
       "5491                         Games you're interested in  \n",
       "5492  If i buy ps plus now will i have to pay full p...  \n",
       "5493  If i buy ps plus now will i have to pay full p...  \n",
       "\n",
       "[5494 rows x 3 columns]"
      ]
     },
     "execution_count": 59,
     "metadata": {},
     "output_type": "execute_result"
    }
   ],
   "source": [
    "ps5"
   ]
  },
  {
   "cell_type": "code",
   "execution_count": 60,
   "id": "27201e9d",
   "metadata": {},
   "outputs": [
    {
     "data": {
      "text/html": [
       "<div>\n",
       "<style scoped>\n",
       "    .dataframe tbody tr th:only-of-type {\n",
       "        vertical-align: middle;\n",
       "    }\n",
       "\n",
       "    .dataframe tbody tr th {\n",
       "        vertical-align: top;\n",
       "    }\n",
       "\n",
       "    .dataframe thead th {\n",
       "        text-align: right;\n",
       "    }\n",
       "</style>\n",
       "<table border=\"1\" class=\"dataframe\">\n",
       "  <thead>\n",
       "    <tr style=\"text-align: right;\">\n",
       "      <th></th>\n",
       "      <th>subreddit</th>\n",
       "      <th>selftext</th>\n",
       "      <th>title</th>\n",
       "    </tr>\n",
       "  </thead>\n",
       "  <tbody>\n",
       "    <tr>\n",
       "      <th>0</th>\n",
       "      <td>XboxSeriesX</td>\n",
       "      <td>I already have a US xbox live account. But wil...</td>\n",
       "      <td>Will an xbox from Sri Lanka work in US?</td>\n",
       "    </tr>\n",
       "    <tr>\n",
       "      <th>1</th>\n",
       "      <td>XboxSeriesX</td>\n",
       "      <td>So my gamer tag is GrimsBees8607 and I am the ...</td>\n",
       "      <td>I am the only person with my gamertag yet I ha...</td>\n",
       "    </tr>\n",
       "    <tr>\n",
       "      <th>2</th>\n",
       "      <td>XboxSeriesX</td>\n",
       "      <td>NaN</td>\n",
       "      <td>Starfield Upgraded on Xbox Series X &amp;amp; S wi...</td>\n",
       "    </tr>\n",
       "    <tr>\n",
       "      <th>3</th>\n",
       "      <td>XboxSeriesX</td>\n",
       "      <td>I just got an Xbox series x and I tried to loa...</td>\n",
       "      <td>my new xbox wont read discs and kicks me out o...</td>\n",
       "    </tr>\n",
       "    <tr>\n",
       "      <th>4</th>\n",
       "      <td>XboxSeriesX</td>\n",
       "      <td>NaN</td>\n",
       "      <td>This is a great controller, should I retire th...</td>\n",
       "    </tr>\n",
       "    <tr>\n",
       "      <th>...</th>\n",
       "      <td>...</td>\n",
       "      <td>...</td>\n",
       "      <td>...</td>\n",
       "    </tr>\n",
       "    <tr>\n",
       "      <th>995</th>\n",
       "      <td>XboxSeriesX</td>\n",
       "      <td>NaN</td>\n",
       "      <td>hey do you need WiFi like xbox one</td>\n",
       "    </tr>\n",
       "    <tr>\n",
       "      <th>996</th>\n",
       "      <td>XboxSeriesX</td>\n",
       "      <td>NaN</td>\n",
       "      <td>Hey everyone, I'm on the road to 100 subscribe...</td>\n",
       "    </tr>\n",
       "    <tr>\n",
       "      <th>997</th>\n",
       "      <td>XboxSeriesX</td>\n",
       "      <td>I've never played any of the GTA series but wa...</td>\n",
       "      <td>Is GTA Trilogy worth it?</td>\n",
       "    </tr>\n",
       "    <tr>\n",
       "      <th>998</th>\n",
       "      <td>XboxSeriesX</td>\n",
       "      <td>Trying to purchase a £23.74 game on the store,...</td>\n",
       "      <td>Please tell me I don’t want to be robbed!!</td>\n",
       "    </tr>\n",
       "    <tr>\n",
       "      <th>999</th>\n",
       "      <td>XboxSeriesX</td>\n",
       "      <td>NaN</td>\n",
       "      <td>Check out alex's video! #TikTok</td>\n",
       "    </tr>\n",
       "  </tbody>\n",
       "</table>\n",
       "<p>1000 rows × 3 columns</p>\n",
       "</div>"
      ],
      "text/plain": [
       "       subreddit                                           selftext  \\\n",
       "0    XboxSeriesX  I already have a US xbox live account. But wil...   \n",
       "1    XboxSeriesX  So my gamer tag is GrimsBees8607 and I am the ...   \n",
       "2    XboxSeriesX                                                NaN   \n",
       "3    XboxSeriesX  I just got an Xbox series x and I tried to loa...   \n",
       "4    XboxSeriesX                                                NaN   \n",
       "..           ...                                                ...   \n",
       "995  XboxSeriesX                                                NaN   \n",
       "996  XboxSeriesX                                                NaN   \n",
       "997  XboxSeriesX  I've never played any of the GTA series but wa...   \n",
       "998  XboxSeriesX  Trying to purchase a £23.74 game on the store,...   \n",
       "999  XboxSeriesX                                                NaN   \n",
       "\n",
       "                                                 title  \n",
       "0              Will an xbox from Sri Lanka work in US?  \n",
       "1    I am the only person with my gamertag yet I ha...  \n",
       "2    Starfield Upgraded on Xbox Series X &amp; S wi...  \n",
       "3    my new xbox wont read discs and kicks me out o...  \n",
       "4    This is a great controller, should I retire th...  \n",
       "..                                                 ...  \n",
       "995                 hey do you need WiFi like xbox one  \n",
       "996  Hey everyone, I'm on the road to 100 subscribe...  \n",
       "997                           Is GTA Trilogy worth it?  \n",
       "998         Please tell me I don’t want to be robbed!!  \n",
       "999                    Check out alex's video! #TikTok  \n",
       "\n",
       "[1000 rows x 3 columns]"
      ]
     },
     "execution_count": 60,
     "metadata": {},
     "output_type": "execute_result"
    }
   ],
   "source": [
    "df"
   ]
  },
  {
   "cell_type": "code",
   "execution_count": 70,
   "id": "fe07fc23",
   "metadata": {},
   "outputs": [],
   "source": [
    "xboxseriesx = df"
   ]
  },
  {
   "cell_type": "code",
   "execution_count": 71,
   "id": "67c6d81a",
   "metadata": {},
   "outputs": [
    {
     "data": {
      "text/html": [
       "<div>\n",
       "<style scoped>\n",
       "    .dataframe tbody tr th:only-of-type {\n",
       "        vertical-align: middle;\n",
       "    }\n",
       "\n",
       "    .dataframe tbody tr th {\n",
       "        vertical-align: top;\n",
       "    }\n",
       "\n",
       "    .dataframe thead th {\n",
       "        text-align: right;\n",
       "    }\n",
       "</style>\n",
       "<table border=\"1\" class=\"dataframe\">\n",
       "  <thead>\n",
       "    <tr style=\"text-align: right;\">\n",
       "      <th></th>\n",
       "      <th>subreddit</th>\n",
       "      <th>selftext</th>\n",
       "      <th>title</th>\n",
       "    </tr>\n",
       "  </thead>\n",
       "  <tbody>\n",
       "    <tr>\n",
       "      <th>0</th>\n",
       "      <td>XboxSeriesX</td>\n",
       "      <td>NaN</td>\n",
       "      <td>Game Director Adam Brennecke shares special me...</td>\n",
       "    </tr>\n",
       "    <tr>\n",
       "      <th>1</th>\n",
       "      <td>XboxSeriesX</td>\n",
       "      <td>NaN</td>\n",
       "      <td>Guild Wars Developer Is Working On Unannounced...</td>\n",
       "    </tr>\n",
       "    <tr>\n",
       "      <th>2</th>\n",
       "      <td>XboxSeriesX</td>\n",
       "      <td>NaN</td>\n",
       "      <td>The reproduction of reality in Tank Mark V in ...</td>\n",
       "    </tr>\n",
       "    <tr>\n",
       "      <th>3</th>\n",
       "      <td>XboxSeriesX</td>\n",
       "      <td>You can change accounts info</td>\n",
       "      <td>Selling xbox gamepass ultimate accounts 1 year...</td>\n",
       "    </tr>\n",
       "    <tr>\n",
       "      <th>4</th>\n",
       "      <td>XboxSeriesX</td>\n",
       "      <td>I have just bought a xbox series s with gamepa...</td>\n",
       "      <td>What games do in need to play</td>\n",
       "    </tr>\n",
       "    <tr>\n",
       "      <th>...</th>\n",
       "      <td>...</td>\n",
       "      <td>...</td>\n",
       "      <td>...</td>\n",
       "    </tr>\n",
       "    <tr>\n",
       "      <th>1995</th>\n",
       "      <td>XboxSeriesX</td>\n",
       "      <td>So my partner has bought me a Series X for my ...</td>\n",
       "      <td>My Series X is here 1 week before my birthday</td>\n",
       "    </tr>\n",
       "    <tr>\n",
       "      <th>1996</th>\n",
       "      <td>XboxSeriesX</td>\n",
       "      <td>I bought this new console and playing Halo dur...</td>\n",
       "      <td>Is the fact that the series x Is warm enough t...</td>\n",
       "    </tr>\n",
       "    <tr>\n",
       "      <th>1997</th>\n",
       "      <td>XboxSeriesX</td>\n",
       "      <td>Hello sorry for my English I use google transl...</td>\n",
       "      <td>samsung tv setting</td>\n",
       "    </tr>\n",
       "    <tr>\n",
       "      <th>1998</th>\n",
       "      <td>XboxSeriesX</td>\n",
       "      <td>Does anyone have a recommended video guide of ...</td>\n",
       "      <td>video recommendation</td>\n",
       "    </tr>\n",
       "    <tr>\n",
       "      <th>1999</th>\n",
       "      <td>XboxSeriesX</td>\n",
       "      <td>I haven't played any games made past 2015 howe...</td>\n",
       "      <td>Recommended games to play on xbox for someone ...</td>\n",
       "    </tr>\n",
       "  </tbody>\n",
       "</table>\n",
       "<p>2000 rows × 3 columns</p>\n",
       "</div>"
      ],
      "text/plain": [
       "        subreddit                                           selftext  \\\n",
       "0     XboxSeriesX                                                NaN   \n",
       "1     XboxSeriesX                                                NaN   \n",
       "2     XboxSeriesX                                                NaN   \n",
       "3     XboxSeriesX                       You can change accounts info   \n",
       "4     XboxSeriesX  I have just bought a xbox series s with gamepa...   \n",
       "...           ...                                                ...   \n",
       "1995  XboxSeriesX  So my partner has bought me a Series X for my ...   \n",
       "1996  XboxSeriesX  I bought this new console and playing Halo dur...   \n",
       "1997  XboxSeriesX  Hello sorry for my English I use google transl...   \n",
       "1998  XboxSeriesX  Does anyone have a recommended video guide of ...   \n",
       "1999  XboxSeriesX  I haven't played any games made past 2015 howe...   \n",
       "\n",
       "                                                  title  \n",
       "0     Game Director Adam Brennecke shares special me...  \n",
       "1     Guild Wars Developer Is Working On Unannounced...  \n",
       "2     The reproduction of reality in Tank Mark V in ...  \n",
       "3     Selling xbox gamepass ultimate accounts 1 year...  \n",
       "4                         What games do in need to play  \n",
       "...                                                 ...  \n",
       "1995      My Series X is here 1 week before my birthday  \n",
       "1996  Is the fact that the series x Is warm enough t...  \n",
       "1997                                 samsung tv setting  \n",
       "1998                               video recommendation  \n",
       "1999  Recommended games to play on xbox for someone ...  \n",
       "\n",
       "[2000 rows x 3 columns]"
      ]
     },
     "execution_count": 71,
     "metadata": {},
     "output_type": "execute_result"
    }
   ],
   "source": [
    "xboxseriesx"
   ]
  },
  {
   "cell_type": "code",
   "execution_count": 72,
   "id": "8c4c5eb6",
   "metadata": {},
   "outputs": [
    {
     "data": {
      "text/html": [
       "<div>\n",
       "<style scoped>\n",
       "    .dataframe tbody tr th:only-of-type {\n",
       "        vertical-align: middle;\n",
       "    }\n",
       "\n",
       "    .dataframe tbody tr th {\n",
       "        vertical-align: top;\n",
       "    }\n",
       "\n",
       "    .dataframe thead th {\n",
       "        text-align: right;\n",
       "    }\n",
       "</style>\n",
       "<table border=\"1\" class=\"dataframe\">\n",
       "  <thead>\n",
       "    <tr style=\"text-align: right;\">\n",
       "      <th></th>\n",
       "      <th>subreddit</th>\n",
       "      <th>selftext</th>\n",
       "      <th>title</th>\n",
       "    </tr>\n",
       "  </thead>\n",
       "  <tbody>\n",
       "    <tr>\n",
       "      <th>0</th>\n",
       "      <td>PS5</td>\n",
       "      <td>NaN</td>\n",
       "      <td>Frogwares: Sherlock Holmes The Awakened, a ful...</td>\n",
       "    </tr>\n",
       "    <tr>\n",
       "      <th>1</th>\n",
       "      <td>PS5</td>\n",
       "      <td>NaN</td>\n",
       "      <td>Kao the Kangaroo - Summer Drip Free DLC</td>\n",
       "    </tr>\n",
       "    <tr>\n",
       "      <th>2</th>\n",
       "      <td>PS5</td>\n",
       "      <td>NaN</td>\n",
       "      <td>can't decide which game to get in the sale?</td>\n",
       "    </tr>\n",
       "    <tr>\n",
       "      <th>3</th>\n",
       "      <td>PS5</td>\n",
       "      <td>NaN</td>\n",
       "      <td>New beta software!</td>\n",
       "    </tr>\n",
       "    <tr>\n",
       "      <th>4</th>\n",
       "      <td>PS5</td>\n",
       "      <td>NaN</td>\n",
       "      <td>Beta PS5 software update supports 1440p HDMI v...</td>\n",
       "    </tr>\n",
       "    <tr>\n",
       "      <th>...</th>\n",
       "      <td>...</td>\n",
       "      <td>...</td>\n",
       "      <td>...</td>\n",
       "    </tr>\n",
       "    <tr>\n",
       "      <th>5489</th>\n",
       "      <td>PS5</td>\n",
       "      <td>Bought game at launch Physical and returned it...</td>\n",
       "      <td>Anyone know if Fallout 76 on PS Plus Extra is ...</td>\n",
       "    </tr>\n",
       "    <tr>\n",
       "      <th>5490</th>\n",
       "      <td>PS5</td>\n",
       "      <td>NaN</td>\n",
       "      <td>how do I mute my mic for specific games.</td>\n",
       "    </tr>\n",
       "    <tr>\n",
       "      <th>5491</th>\n",
       "      <td>PS5</td>\n",
       "      <td>What games [new] or older have you been playin...</td>\n",
       "      <td>Games you're interested in</td>\n",
       "    </tr>\n",
       "    <tr>\n",
       "      <th>5492</th>\n",
       "      <td>PS5</td>\n",
       "      <td>If i buy ps plus now will i have to pay full p...</td>\n",
       "      <td>If i buy ps plus now will i have to pay full p...</td>\n",
       "    </tr>\n",
       "    <tr>\n",
       "      <th>5493</th>\n",
       "      <td>PS5</td>\n",
       "      <td>NaN</td>\n",
       "      <td>If i buy ps plus now will i have to pay full p...</td>\n",
       "    </tr>\n",
       "  </tbody>\n",
       "</table>\n",
       "<p>5494 rows × 3 columns</p>\n",
       "</div>"
      ],
      "text/plain": [
       "     subreddit                                           selftext  \\\n",
       "0          PS5                                                NaN   \n",
       "1          PS5                                                NaN   \n",
       "2          PS5                                                NaN   \n",
       "3          PS5                                                NaN   \n",
       "4          PS5                                                NaN   \n",
       "...        ...                                                ...   \n",
       "5489       PS5  Bought game at launch Physical and returned it...   \n",
       "5490       PS5                                                NaN   \n",
       "5491       PS5  What games [new] or older have you been playin...   \n",
       "5492       PS5  If i buy ps plus now will i have to pay full p...   \n",
       "5493       PS5                                                NaN   \n",
       "\n",
       "                                                  title  \n",
       "0     Frogwares: Sherlock Holmes The Awakened, a ful...  \n",
       "1               Kao the Kangaroo - Summer Drip Free DLC  \n",
       "2           can't decide which game to get in the sale?  \n",
       "3                                    New beta software!  \n",
       "4     Beta PS5 software update supports 1440p HDMI v...  \n",
       "...                                                 ...  \n",
       "5489  Anyone know if Fallout 76 on PS Plus Extra is ...  \n",
       "5490           how do I mute my mic for specific games.  \n",
       "5491                         Games you're interested in  \n",
       "5492  If i buy ps plus now will i have to pay full p...  \n",
       "5493  If i buy ps plus now will i have to pay full p...  \n",
       "\n",
       "[5494 rows x 3 columns]"
      ]
     },
     "execution_count": 72,
     "metadata": {},
     "output_type": "execute_result"
    }
   ],
   "source": [
    "ps5"
   ]
  },
  {
   "cell_type": "code",
   "execution_count": 73,
   "id": "beb7b427",
   "metadata": {},
   "outputs": [
    {
     "name": "stderr",
     "output_type": "stream",
     "text": [
      "/var/folders/n2/2x1h8gm12hg272zzsml3ns500000gn/T/ipykernel_33828/1736206152.py:1: FutureWarning: The frame.append method is deprecated and will be removed from pandas in a future version. Use pandas.concat instead.\n",
      "  posts = ps5.append(xboxseriesx, ignore_index=True)\n"
     ]
    }
   ],
   "source": [
    "posts = ps5.append(xboxseriesx, ignore_index=True)"
   ]
  },
  {
   "cell_type": "code",
   "execution_count": 74,
   "id": "df0535a1",
   "metadata": {},
   "outputs": [
    {
     "data": {
      "text/html": [
       "<div>\n",
       "<style scoped>\n",
       "    .dataframe tbody tr th:only-of-type {\n",
       "        vertical-align: middle;\n",
       "    }\n",
       "\n",
       "    .dataframe tbody tr th {\n",
       "        vertical-align: top;\n",
       "    }\n",
       "\n",
       "    .dataframe thead th {\n",
       "        text-align: right;\n",
       "    }\n",
       "</style>\n",
       "<table border=\"1\" class=\"dataframe\">\n",
       "  <thead>\n",
       "    <tr style=\"text-align: right;\">\n",
       "      <th></th>\n",
       "      <th>subreddit</th>\n",
       "      <th>selftext</th>\n",
       "      <th>title</th>\n",
       "    </tr>\n",
       "  </thead>\n",
       "  <tbody>\n",
       "    <tr>\n",
       "      <th>0</th>\n",
       "      <td>PS5</td>\n",
       "      <td>NaN</td>\n",
       "      <td>Frogwares: Sherlock Holmes The Awakened, a ful...</td>\n",
       "    </tr>\n",
       "    <tr>\n",
       "      <th>1</th>\n",
       "      <td>PS5</td>\n",
       "      <td>NaN</td>\n",
       "      <td>Kao the Kangaroo - Summer Drip Free DLC</td>\n",
       "    </tr>\n",
       "    <tr>\n",
       "      <th>2</th>\n",
       "      <td>PS5</td>\n",
       "      <td>NaN</td>\n",
       "      <td>can't decide which game to get in the sale?</td>\n",
       "    </tr>\n",
       "    <tr>\n",
       "      <th>3</th>\n",
       "      <td>PS5</td>\n",
       "      <td>NaN</td>\n",
       "      <td>New beta software!</td>\n",
       "    </tr>\n",
       "    <tr>\n",
       "      <th>4</th>\n",
       "      <td>PS5</td>\n",
       "      <td>NaN</td>\n",
       "      <td>Beta PS5 software update supports 1440p HDMI v...</td>\n",
       "    </tr>\n",
       "    <tr>\n",
       "      <th>...</th>\n",
       "      <td>...</td>\n",
       "      <td>...</td>\n",
       "      <td>...</td>\n",
       "    </tr>\n",
       "    <tr>\n",
       "      <th>7489</th>\n",
       "      <td>XboxSeriesX</td>\n",
       "      <td>So my partner has bought me a Series X for my ...</td>\n",
       "      <td>My Series X is here 1 week before my birthday</td>\n",
       "    </tr>\n",
       "    <tr>\n",
       "      <th>7490</th>\n",
       "      <td>XboxSeriesX</td>\n",
       "      <td>I bought this new console and playing Halo dur...</td>\n",
       "      <td>Is the fact that the series x Is warm enough t...</td>\n",
       "    </tr>\n",
       "    <tr>\n",
       "      <th>7491</th>\n",
       "      <td>XboxSeriesX</td>\n",
       "      <td>Hello sorry for my English I use google transl...</td>\n",
       "      <td>samsung tv setting</td>\n",
       "    </tr>\n",
       "    <tr>\n",
       "      <th>7492</th>\n",
       "      <td>XboxSeriesX</td>\n",
       "      <td>Does anyone have a recommended video guide of ...</td>\n",
       "      <td>video recommendation</td>\n",
       "    </tr>\n",
       "    <tr>\n",
       "      <th>7493</th>\n",
       "      <td>XboxSeriesX</td>\n",
       "      <td>I haven't played any games made past 2015 howe...</td>\n",
       "      <td>Recommended games to play on xbox for someone ...</td>\n",
       "    </tr>\n",
       "  </tbody>\n",
       "</table>\n",
       "<p>7494 rows × 3 columns</p>\n",
       "</div>"
      ],
      "text/plain": [
       "        subreddit                                           selftext  \\\n",
       "0             PS5                                                NaN   \n",
       "1             PS5                                                NaN   \n",
       "2             PS5                                                NaN   \n",
       "3             PS5                                                NaN   \n",
       "4             PS5                                                NaN   \n",
       "...           ...                                                ...   \n",
       "7489  XboxSeriesX  So my partner has bought me a Series X for my ...   \n",
       "7490  XboxSeriesX  I bought this new console and playing Halo dur...   \n",
       "7491  XboxSeriesX  Hello sorry for my English I use google transl...   \n",
       "7492  XboxSeriesX  Does anyone have a recommended video guide of ...   \n",
       "7493  XboxSeriesX  I haven't played any games made past 2015 howe...   \n",
       "\n",
       "                                                  title  \n",
       "0     Frogwares: Sherlock Holmes The Awakened, a ful...  \n",
       "1               Kao the Kangaroo - Summer Drip Free DLC  \n",
       "2           can't decide which game to get in the sale?  \n",
       "3                                    New beta software!  \n",
       "4     Beta PS5 software update supports 1440p HDMI v...  \n",
       "...                                                 ...  \n",
       "7489      My Series X is here 1 week before my birthday  \n",
       "7490  Is the fact that the series x Is warm enough t...  \n",
       "7491                                 samsung tv setting  \n",
       "7492                               video recommendation  \n",
       "7493  Recommended games to play on xbox for someone ...  \n",
       "\n",
       "[7494 rows x 3 columns]"
      ]
     },
     "execution_count": 74,
     "metadata": {},
     "output_type": "execute_result"
    }
   ],
   "source": [
    "posts"
   ]
  },
  {
   "cell_type": "code",
   "execution_count": 75,
   "id": "c3576ce0",
   "metadata": {},
   "outputs": [],
   "source": [
    "posts.to_csv('data/posts_2.csv', index=False)"
   ]
  },
  {
   "cell_type": "code",
   "execution_count": 68,
   "id": "a0d893c7",
   "metadata": {},
   "outputs": [
    {
     "data": {
      "text/plain": [
       "\"The PlayStation community is vast and overreaching from all places across the internet. Some places are better than others for the type of content that you prefer.  From communities for a particular game to PlayStation centric communities.\\n\\nLet's check them out...\\n\\n# Games\\n\\n[*Full list of gaming communities*](https://www.reddit.com/r/PS5/wiki/communities) *we found around Reddit. Please* [*send us a mod-mail*](http://www.reddit.com/message/compose?to=%2Fr%2FPS5&amp;subject=GameSubWiki) *if you find a game sub and want it added to the wiki list!*\\n\\nHere are the topmost \\\\*relevant for this month. \\n\\n&amp;#x200B;\\n\\n**Returnal**\\n\\nr/Returnal, [Discord](https://discord.gg/housemarque) \\n\\n Returnal is a third-person shooter roguelike video game developed by Housemarque and published by Sony Interactive Entertainment. \\n\\n&amp;#x200B;\\n\\n\\\\*By most relevant, we mean newest release, expansion, DLC, content drop, personal bias, trending game etc for the month.  First-party games are a priority.\\n\\n# \\n\\n# PlayStation\\n\\n**PlayStation**\\n\\nr/PlayStation\\n\\nAll things PlayStation - share memes, screenshots, pictures,  cosplay, fan art, collections, find help and tech support.\\n\\n&amp;#x200B;\\n\\n**PlayStation Plus**\\n\\nr/PlayStationPlus\\n\\nPS Plus service - praise or criticise monthly games, guess next months and talk about the service.\\n\\n&amp;#x200B;\\n\\n**PlayStation Now**\\n\\nr/PlayStationNow\\n\\nGame streaming &amp; download service - see the newest additions or removals and talk about the service.\\n\\n&amp;#x200B;\\n\\n**PlayStation VR**\\n\\nr/PSVR\\n\\nPlayStation VR, games, news, AMAs and discussion.\\n\\n&amp;#x200B;\\n\\n**PlayStation Friends**\\n\\nr/PSNFriends \\n\\nFinding friends or a group to play with.\\n\\n&amp;#x200B;\\n\\n**PlayStation 5 Deals**\\n\\nr/PS5Deals\\n\\nFinding the best deals for PS5 games, accessories and more\\n\\n&amp;#x200B;\\n\\n**DualSense** \\n\\nr/Dualsense\\n\\nGet help, support, or show off your controller. \\n\\n&amp;#x200B;\\n\\n[xo](https://preview.redd.it/pq2vwu706nx51.png?width=614&amp;format=png&amp;auto=webp&amp;s=25833fa454bf700add3f3a3b96d07faf8d8112ce)\\n\\n# Twitter\\n\\n[https://twitter.com/RedditPS](https://twitter.com/RedditPS)\\n\\nFollow us for news, dev relation and snarky comments. \\n\\n# Discord\\n\\n[https://discord.gg/ps](https://discord.gg/ps)\\n\\nFollow our news channels, chat with fellow gamers and hang out voice chats.\""
      ]
     },
     "execution_count": 68,
     "metadata": {},
     "output_type": "execute_result"
    }
   ],
   "source": [
    "posts['selftext'].iloc[0]"
   ]
  },
  {
   "cell_type": "code",
   "execution_count": null,
   "id": "29c12e42",
   "metadata": {},
   "outputs": [],
   "source": []
  }
 ],
 "metadata": {
  "kernelspec": {
   "display_name": "Python 3 (ipykernel)",
   "language": "python",
   "name": "python3"
  },
  "language_info": {
   "codemirror_mode": {
    "name": "ipython",
    "version": 3
   },
   "file_extension": ".py",
   "mimetype": "text/x-python",
   "name": "python",
   "nbconvert_exporter": "python",
   "pygments_lexer": "ipython3",
   "version": "3.9.12"
  }
 },
 "nbformat": 4,
 "nbformat_minor": 5
}
