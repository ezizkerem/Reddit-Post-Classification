{
 "cells": [
  {
   "cell_type": "markdown",
   "id": "b8332adf",
   "metadata": {},
   "source": [
    "# Modeling\n",
    "## Import Libraries"
   ]
  },
  {
   "cell_type": "code",
   "execution_count": 1,
   "id": "cda7bf8c",
   "metadata": {},
   "outputs": [],
   "source": [
    "import pandas as pd\n",
    "import numpy as np\n",
    "from sklearn.model_selection import train_test_split, cross_val_score\n",
    "from sklearn.feature_extraction.text import CountVectorizer\n",
    "from sklearn.ensemble import RandomForestClassifier, ExtraTreesClassifier\n",
    "from sklearn.preprocessing import StandardScaler\n",
    "from sklearn.model_selection import GridSearchCV\n",
    "from sklearn.pipeline import Pipeline"
   ]
  },
  {
   "cell_type": "markdown",
   "id": "a8a1943a",
   "metadata": {},
   "source": [
    "### Train/Test Split\n",
    "Load the posts into variable `df`"
   ]
  },
  {
   "cell_type": "code",
   "execution_count": 2,
   "id": "95a70ed0",
   "metadata": {
    "scrolled": false
   },
   "outputs": [
    {
     "data": {
      "text/html": [
       "<div>\n",
       "<style scoped>\n",
       "    .dataframe tbody tr th:only-of-type {\n",
       "        vertical-align: middle;\n",
       "    }\n",
       "\n",
       "    .dataframe tbody tr th {\n",
       "        vertical-align: top;\n",
       "    }\n",
       "\n",
       "    .dataframe thead th {\n",
       "        text-align: right;\n",
       "    }\n",
       "</style>\n",
       "<table border=\"1\" class=\"dataframe\">\n",
       "  <thead>\n",
       "    <tr style=\"text-align: right;\">\n",
       "      <th></th>\n",
       "      <th>subreddit</th>\n",
       "      <th>selftext</th>\n",
       "      <th>title</th>\n",
       "    </tr>\n",
       "  </thead>\n",
       "  <tbody>\n",
       "    <tr>\n",
       "      <th>0</th>\n",
       "      <td>PS5</td>\n",
       "      <td>NaN</td>\n",
       "      <td>Frogwares: Sherlock Holmes The Awakened, a ful...</td>\n",
       "    </tr>\n",
       "    <tr>\n",
       "      <th>1</th>\n",
       "      <td>PS5</td>\n",
       "      <td>NaN</td>\n",
       "      <td>Kao the Kangaroo - Summer Drip Free DLC</td>\n",
       "    </tr>\n",
       "    <tr>\n",
       "      <th>2</th>\n",
       "      <td>PS5</td>\n",
       "      <td>NaN</td>\n",
       "      <td>can't decide which game to get in the sale?</td>\n",
       "    </tr>\n",
       "    <tr>\n",
       "      <th>3</th>\n",
       "      <td>PS5</td>\n",
       "      <td>NaN</td>\n",
       "      <td>New beta software!</td>\n",
       "    </tr>\n",
       "    <tr>\n",
       "      <th>4</th>\n",
       "      <td>PS5</td>\n",
       "      <td>NaN</td>\n",
       "      <td>Beta PS5 software update supports 1440p HDMI v...</td>\n",
       "    </tr>\n",
       "    <tr>\n",
       "      <th>...</th>\n",
       "      <td>...</td>\n",
       "      <td>...</td>\n",
       "      <td>...</td>\n",
       "    </tr>\n",
       "    <tr>\n",
       "      <th>7489</th>\n",
       "      <td>XboxSeriesX</td>\n",
       "      <td>So my partner has bought me a Series X for my ...</td>\n",
       "      <td>My Series X is here 1 week before my birthday</td>\n",
       "    </tr>\n",
       "    <tr>\n",
       "      <th>7490</th>\n",
       "      <td>XboxSeriesX</td>\n",
       "      <td>I bought this new console and playing Halo dur...</td>\n",
       "      <td>Is the fact that the series x Is warm enough t...</td>\n",
       "    </tr>\n",
       "    <tr>\n",
       "      <th>7491</th>\n",
       "      <td>XboxSeriesX</td>\n",
       "      <td>Hello sorry for my English I use google transl...</td>\n",
       "      <td>samsung tv setting</td>\n",
       "    </tr>\n",
       "    <tr>\n",
       "      <th>7492</th>\n",
       "      <td>XboxSeriesX</td>\n",
       "      <td>Does anyone have a recommended video guide of ...</td>\n",
       "      <td>video recommendation</td>\n",
       "    </tr>\n",
       "    <tr>\n",
       "      <th>7493</th>\n",
       "      <td>XboxSeriesX</td>\n",
       "      <td>I haven't played any games made past 2015 howe...</td>\n",
       "      <td>Recommended games to play on xbox for someone ...</td>\n",
       "    </tr>\n",
       "  </tbody>\n",
       "</table>\n",
       "<p>7494 rows × 3 columns</p>\n",
       "</div>"
      ],
      "text/plain": [
       "        subreddit                                           selftext  \\\n",
       "0             PS5                                                NaN   \n",
       "1             PS5                                                NaN   \n",
       "2             PS5                                                NaN   \n",
       "3             PS5                                                NaN   \n",
       "4             PS5                                                NaN   \n",
       "...           ...                                                ...   \n",
       "7489  XboxSeriesX  So my partner has bought me a Series X for my ...   \n",
       "7490  XboxSeriesX  I bought this new console and playing Halo dur...   \n",
       "7491  XboxSeriesX  Hello sorry for my English I use google transl...   \n",
       "7492  XboxSeriesX  Does anyone have a recommended video guide of ...   \n",
       "7493  XboxSeriesX  I haven't played any games made past 2015 howe...   \n",
       "\n",
       "                                                  title  \n",
       "0     Frogwares: Sherlock Holmes The Awakened, a ful...  \n",
       "1               Kao the Kangaroo - Summer Drip Free DLC  \n",
       "2           can't decide which game to get in the sale?  \n",
       "3                                    New beta software!  \n",
       "4     Beta PS5 software update supports 1440p HDMI v...  \n",
       "...                                                 ...  \n",
       "7489      My Series X is here 1 week before my birthday  \n",
       "7490  Is the fact that the series x Is warm enough t...  \n",
       "7491                                 samsung tv setting  \n",
       "7492                               video recommendation  \n",
       "7493  Recommended games to play on xbox for someone ...  \n",
       "\n",
       "[7494 rows x 3 columns]"
      ]
     },
     "execution_count": 2,
     "metadata": {},
     "output_type": "execute_result"
    }
   ],
   "source": [
    "df = pd.read_csv('data/posts_2.csv')\n",
    "df"
   ]
  },
  {
   "cell_type": "markdown",
   "id": "3d191e47",
   "metadata": {},
   "source": [
    "Drop `title` column"
   ]
  },
  {
   "cell_type": "code",
   "execution_count": 3,
   "id": "bcb9c8ea",
   "metadata": {},
   "outputs": [
    {
     "data": {
      "text/html": [
       "<div>\n",
       "<style scoped>\n",
       "    .dataframe tbody tr th:only-of-type {\n",
       "        vertical-align: middle;\n",
       "    }\n",
       "\n",
       "    .dataframe tbody tr th {\n",
       "        vertical-align: top;\n",
       "    }\n",
       "\n",
       "    .dataframe thead th {\n",
       "        text-align: right;\n",
       "    }\n",
       "</style>\n",
       "<table border=\"1\" class=\"dataframe\">\n",
       "  <thead>\n",
       "    <tr style=\"text-align: right;\">\n",
       "      <th></th>\n",
       "      <th>subreddit</th>\n",
       "      <th>selftext</th>\n",
       "    </tr>\n",
       "  </thead>\n",
       "  <tbody>\n",
       "    <tr>\n",
       "      <th>0</th>\n",
       "      <td>PS5</td>\n",
       "      <td>NaN</td>\n",
       "    </tr>\n",
       "    <tr>\n",
       "      <th>1</th>\n",
       "      <td>PS5</td>\n",
       "      <td>NaN</td>\n",
       "    </tr>\n",
       "    <tr>\n",
       "      <th>2</th>\n",
       "      <td>PS5</td>\n",
       "      <td>NaN</td>\n",
       "    </tr>\n",
       "    <tr>\n",
       "      <th>3</th>\n",
       "      <td>PS5</td>\n",
       "      <td>NaN</td>\n",
       "    </tr>\n",
       "    <tr>\n",
       "      <th>4</th>\n",
       "      <td>PS5</td>\n",
       "      <td>NaN</td>\n",
       "    </tr>\n",
       "    <tr>\n",
       "      <th>...</th>\n",
       "      <td>...</td>\n",
       "      <td>...</td>\n",
       "    </tr>\n",
       "    <tr>\n",
       "      <th>7489</th>\n",
       "      <td>XboxSeriesX</td>\n",
       "      <td>So my partner has bought me a Series X for my ...</td>\n",
       "    </tr>\n",
       "    <tr>\n",
       "      <th>7490</th>\n",
       "      <td>XboxSeriesX</td>\n",
       "      <td>I bought this new console and playing Halo dur...</td>\n",
       "    </tr>\n",
       "    <tr>\n",
       "      <th>7491</th>\n",
       "      <td>XboxSeriesX</td>\n",
       "      <td>Hello sorry for my English I use google transl...</td>\n",
       "    </tr>\n",
       "    <tr>\n",
       "      <th>7492</th>\n",
       "      <td>XboxSeriesX</td>\n",
       "      <td>Does anyone have a recommended video guide of ...</td>\n",
       "    </tr>\n",
       "    <tr>\n",
       "      <th>7493</th>\n",
       "      <td>XboxSeriesX</td>\n",
       "      <td>I haven't played any games made past 2015 howe...</td>\n",
       "    </tr>\n",
       "  </tbody>\n",
       "</table>\n",
       "<p>7494 rows × 2 columns</p>\n",
       "</div>"
      ],
      "text/plain": [
       "        subreddit                                           selftext\n",
       "0             PS5                                                NaN\n",
       "1             PS5                                                NaN\n",
       "2             PS5                                                NaN\n",
       "3             PS5                                                NaN\n",
       "4             PS5                                                NaN\n",
       "...           ...                                                ...\n",
       "7489  XboxSeriesX  So my partner has bought me a Series X for my ...\n",
       "7490  XboxSeriesX  I bought this new console and playing Halo dur...\n",
       "7491  XboxSeriesX  Hello sorry for my English I use google transl...\n",
       "7492  XboxSeriesX  Does anyone have a recommended video guide of ...\n",
       "7493  XboxSeriesX  I haven't played any games made past 2015 howe...\n",
       "\n",
       "[7494 rows x 2 columns]"
      ]
     },
     "execution_count": 3,
     "metadata": {},
     "output_type": "execute_result"
    }
   ],
   "source": [
    "df = df[['subreddit', 'selftext']]\n",
    "df"
   ]
  },
  {
   "cell_type": "markdown",
   "id": "a24e5a2e",
   "metadata": {},
   "source": [
    "Map subreddit PS5 as `1` and XboxSeriesX as `0`"
   ]
  },
  {
   "cell_type": "code",
   "execution_count": 4,
   "id": "9b20b9b1",
   "metadata": {},
   "outputs": [
    {
     "name": "stderr",
     "output_type": "stream",
     "text": [
      "/var/folders/n2/2x1h8gm12hg272zzsml3ns500000gn/T/ipykernel_35589/3187435045.py:1: SettingWithCopyWarning: \n",
      "A value is trying to be set on a copy of a slice from a DataFrame.\n",
      "Try using .loc[row_indexer,col_indexer] = value instead\n",
      "\n",
      "See the caveats in the documentation: https://pandas.pydata.org/pandas-docs/stable/user_guide/indexing.html#returning-a-view-versus-a-copy\n",
      "  df['subreddit'] = df['subreddit'].map({'PS5': 1, 'XboxSeriesX': 0})\n"
     ]
    }
   ],
   "source": [
    "df['subreddit'] = df['subreddit'].map({'PS5': 1, 'XboxSeriesX': 0})"
   ]
  },
  {
   "cell_type": "markdown",
   "id": "7679f523",
   "metadata": {},
   "source": [
    "Remove `NaN` values"
   ]
  },
  {
   "cell_type": "code",
   "execution_count": 5,
   "id": "413a397b",
   "metadata": {
    "scrolled": true
   },
   "outputs": [
    {
     "name": "stderr",
     "output_type": "stream",
     "text": [
      "/var/folders/n2/2x1h8gm12hg272zzsml3ns500000gn/T/ipykernel_35589/1379821321.py:1: SettingWithCopyWarning: \n",
      "A value is trying to be set on a copy of a slice from a DataFrame\n",
      "\n",
      "See the caveats in the documentation: https://pandas.pydata.org/pandas-docs/stable/user_guide/indexing.html#returning-a-view-versus-a-copy\n",
      "  df.dropna(inplace=True)\n"
     ]
    }
   ],
   "source": [
    "df.dropna(inplace=True)"
   ]
  },
  {
   "cell_type": "code",
   "execution_count": 6,
   "id": "be58ccc8",
   "metadata": {},
   "outputs": [
    {
     "data": {
      "text/html": [
       "<div>\n",
       "<style scoped>\n",
       "    .dataframe tbody tr th:only-of-type {\n",
       "        vertical-align: middle;\n",
       "    }\n",
       "\n",
       "    .dataframe tbody tr th {\n",
       "        vertical-align: top;\n",
       "    }\n",
       "\n",
       "    .dataframe thead th {\n",
       "        text-align: right;\n",
       "    }\n",
       "</style>\n",
       "<table border=\"1\" class=\"dataframe\">\n",
       "  <thead>\n",
       "    <tr style=\"text-align: right;\">\n",
       "      <th></th>\n",
       "      <th>subreddit</th>\n",
       "      <th>selftext</th>\n",
       "    </tr>\n",
       "  </thead>\n",
       "  <tbody>\n",
       "    <tr>\n",
       "      <th>7</th>\n",
       "      <td>1</td>\n",
       "      <td>So yeah pretty sad situation. Fan stopped work...</td>\n",
       "    </tr>\n",
       "    <tr>\n",
       "      <th>25</th>\n",
       "      <td>1</td>\n",
       "      <td>I just got my ps5 and I'm trying to sign in on...</td>\n",
       "    </tr>\n",
       "    <tr>\n",
       "      <th>28</th>\n",
       "      <td>1</td>\n",
       "      <td>I just started installing PS4 disc version on ...</td>\n",
       "    </tr>\n",
       "    <tr>\n",
       "      <th>37</th>\n",
       "      <td>1</td>\n",
       "      <td>I saw that there's a PS4 and also a native PS5...</td>\n",
       "    </tr>\n",
       "    <tr>\n",
       "      <th>57</th>\n",
       "      <td>1</td>\n",
       "      <td>Hey, Sony - wanna make it so I can make my bac...</td>\n",
       "    </tr>\n",
       "    <tr>\n",
       "      <th>...</th>\n",
       "      <td>...</td>\n",
       "      <td>...</td>\n",
       "    </tr>\n",
       "    <tr>\n",
       "      <th>7489</th>\n",
       "      <td>0</td>\n",
       "      <td>So my partner has bought me a Series X for my ...</td>\n",
       "    </tr>\n",
       "    <tr>\n",
       "      <th>7490</th>\n",
       "      <td>0</td>\n",
       "      <td>I bought this new console and playing Halo dur...</td>\n",
       "    </tr>\n",
       "    <tr>\n",
       "      <th>7491</th>\n",
       "      <td>0</td>\n",
       "      <td>Hello sorry for my English I use google transl...</td>\n",
       "    </tr>\n",
       "    <tr>\n",
       "      <th>7492</th>\n",
       "      <td>0</td>\n",
       "      <td>Does anyone have a recommended video guide of ...</td>\n",
       "    </tr>\n",
       "    <tr>\n",
       "      <th>7493</th>\n",
       "      <td>0</td>\n",
       "      <td>I haven't played any games made past 2015 howe...</td>\n",
       "    </tr>\n",
       "  </tbody>\n",
       "</table>\n",
       "<p>2133 rows × 2 columns</p>\n",
       "</div>"
      ],
      "text/plain": [
       "      subreddit                                           selftext\n",
       "7             1  So yeah pretty sad situation. Fan stopped work...\n",
       "25            1  I just got my ps5 and I'm trying to sign in on...\n",
       "28            1  I just started installing PS4 disc version on ...\n",
       "37            1  I saw that there's a PS4 and also a native PS5...\n",
       "57            1  Hey, Sony - wanna make it so I can make my bac...\n",
       "...         ...                                                ...\n",
       "7489          0  So my partner has bought me a Series X for my ...\n",
       "7490          0  I bought this new console and playing Halo dur...\n",
       "7491          0  Hello sorry for my English I use google transl...\n",
       "7492          0  Does anyone have a recommended video guide of ...\n",
       "7493          0  I haven't played any games made past 2015 howe...\n",
       "\n",
       "[2133 rows x 2 columns]"
      ]
     },
     "execution_count": 6,
     "metadata": {},
     "output_type": "execute_result"
    }
   ],
   "source": [
    "df"
   ]
  },
  {
   "cell_type": "markdown",
   "id": "a1472667",
   "metadata": {},
   "source": [
    "Assign features to variable `X` and target value to `y`"
   ]
  },
  {
   "cell_type": "code",
   "execution_count": 7,
   "id": "914463d1",
   "metadata": {},
   "outputs": [],
   "source": [
    "X = df['selftext']\n",
    "y = df['subreddit']"
   ]
  },
  {
   "cell_type": "code",
   "execution_count": 8,
   "id": "9eac128e",
   "metadata": {},
   "outputs": [
    {
     "data": {
      "text/plain": [
       "0    0.531177\n",
       "1    0.468823\n",
       "Name: subreddit, dtype: float64"
      ]
     },
     "execution_count": 8,
     "metadata": {},
     "output_type": "execute_result"
    }
   ],
   "source": [
    "y.value_counts(normalize=True)"
   ]
  },
  {
   "cell_type": "markdown",
   "id": "28a5c0d4",
   "metadata": {},
   "source": [
    "Splitting the dateset into 2 portion for training and testing"
   ]
  },
  {
   "cell_type": "code",
   "execution_count": 9,
   "id": "89d139ec",
   "metadata": {},
   "outputs": [],
   "source": [
    "X_train, X_test, y_train, y_test = train_test_split(X, y, random_state = 42)"
   ]
  },
  {
   "cell_type": "markdown",
   "id": "0f3bf3e7",
   "metadata": {},
   "source": [
    "## Count Vectorizer\n",
    "Vectorize the features with 7000 words limit"
   ]
  },
  {
   "cell_type": "code",
   "execution_count": 10,
   "id": "96da7646",
   "metadata": {},
   "outputs": [],
   "source": [
    "cvec = CountVectorizer(max_features=7000, stop_words='english', min_df=2, max_df=0.7, ngram_range=(1,2))"
   ]
  },
  {
   "cell_type": "code",
   "execution_count": 11,
   "id": "d16076f9",
   "metadata": {},
   "outputs": [],
   "source": [
    "X_train_cvec = cvec.fit_transform(X_train)\n",
    "X_test_cvec = cvec.transform(X_test)"
   ]
  },
  {
   "cell_type": "code",
   "execution_count": 12,
   "id": "53e9e4a7",
   "metadata": {
    "scrolled": false
   },
   "outputs": [
    {
     "name": "stderr",
     "output_type": "stream",
     "text": [
      "/Users/ezizkerem/opt/anaconda3/lib/python3.9/site-packages/sklearn/utils/deprecation.py:87: FutureWarning: Function get_feature_names is deprecated; get_feature_names is deprecated in 1.0 and will be removed in 1.2. Please use get_feature_names_out instead.\n",
      "  warnings.warn(msg, category=FutureWarning)\n"
     ]
    },
    {
     "data": {
      "text/html": [
       "<div>\n",
       "<style scoped>\n",
       "    .dataframe tbody tr th:only-of-type {\n",
       "        vertical-align: middle;\n",
       "    }\n",
       "\n",
       "    .dataframe tbody tr th {\n",
       "        vertical-align: top;\n",
       "    }\n",
       "\n",
       "    .dataframe thead th {\n",
       "        text-align: right;\n",
       "    }\n",
       "</style>\n",
       "<table border=\"1\" class=\"dataframe\">\n",
       "  <thead>\n",
       "    <tr style=\"text-align: right;\">\n",
       "      <th></th>\n",
       "      <th>000</th>\n",
       "      <th>000 000</th>\n",
       "      <th>000 lg</th>\n",
       "      <th>000 nits</th>\n",
       "      <th>000 option</th>\n",
       "      <th>0017</th>\n",
       "      <th>01</th>\n",
       "      <th>02</th>\n",
       "      <th>03</th>\n",
       "      <th>04</th>\n",
       "      <th>...</th>\n",
       "      <th>youtuber</th>\n",
       "      <th>yzi_75tboxrkbrnofoxym</th>\n",
       "      <th>yzi_75tboxrkbrnofoxym edit</th>\n",
       "      <th>z_oyx5gj4o</th>\n",
       "      <th>z_oyx5gj4o yzi_75tboxrkbrnofoxym</th>\n",
       "      <th>zelda</th>\n",
       "      <th>zero</th>\n",
       "      <th>zero dawn</th>\n",
       "      <th>zombies</th>\n",
       "      <th>zone</th>\n",
       "    </tr>\n",
       "  </thead>\n",
       "  <tbody>\n",
       "    <tr>\n",
       "      <th>0</th>\n",
       "      <td>0</td>\n",
       "      <td>0</td>\n",
       "      <td>0</td>\n",
       "      <td>0</td>\n",
       "      <td>0</td>\n",
       "      <td>0</td>\n",
       "      <td>0</td>\n",
       "      <td>0</td>\n",
       "      <td>0</td>\n",
       "      <td>0</td>\n",
       "      <td>...</td>\n",
       "      <td>0</td>\n",
       "      <td>0</td>\n",
       "      <td>0</td>\n",
       "      <td>0</td>\n",
       "      <td>0</td>\n",
       "      <td>0</td>\n",
       "      <td>0</td>\n",
       "      <td>0</td>\n",
       "      <td>0</td>\n",
       "      <td>0</td>\n",
       "    </tr>\n",
       "    <tr>\n",
       "      <th>1</th>\n",
       "      <td>0</td>\n",
       "      <td>0</td>\n",
       "      <td>0</td>\n",
       "      <td>0</td>\n",
       "      <td>0</td>\n",
       "      <td>0</td>\n",
       "      <td>0</td>\n",
       "      <td>0</td>\n",
       "      <td>0</td>\n",
       "      <td>0</td>\n",
       "      <td>...</td>\n",
       "      <td>0</td>\n",
       "      <td>0</td>\n",
       "      <td>0</td>\n",
       "      <td>0</td>\n",
       "      <td>0</td>\n",
       "      <td>0</td>\n",
       "      <td>0</td>\n",
       "      <td>0</td>\n",
       "      <td>0</td>\n",
       "      <td>0</td>\n",
       "    </tr>\n",
       "    <tr>\n",
       "      <th>2</th>\n",
       "      <td>0</td>\n",
       "      <td>0</td>\n",
       "      <td>0</td>\n",
       "      <td>0</td>\n",
       "      <td>0</td>\n",
       "      <td>0</td>\n",
       "      <td>0</td>\n",
       "      <td>0</td>\n",
       "      <td>0</td>\n",
       "      <td>0</td>\n",
       "      <td>...</td>\n",
       "      <td>0</td>\n",
       "      <td>0</td>\n",
       "      <td>0</td>\n",
       "      <td>0</td>\n",
       "      <td>0</td>\n",
       "      <td>0</td>\n",
       "      <td>0</td>\n",
       "      <td>0</td>\n",
       "      <td>0</td>\n",
       "      <td>0</td>\n",
       "    </tr>\n",
       "    <tr>\n",
       "      <th>3</th>\n",
       "      <td>0</td>\n",
       "      <td>0</td>\n",
       "      <td>0</td>\n",
       "      <td>0</td>\n",
       "      <td>0</td>\n",
       "      <td>0</td>\n",
       "      <td>0</td>\n",
       "      <td>0</td>\n",
       "      <td>0</td>\n",
       "      <td>0</td>\n",
       "      <td>...</td>\n",
       "      <td>0</td>\n",
       "      <td>0</td>\n",
       "      <td>0</td>\n",
       "      <td>0</td>\n",
       "      <td>0</td>\n",
       "      <td>0</td>\n",
       "      <td>0</td>\n",
       "      <td>0</td>\n",
       "      <td>0</td>\n",
       "      <td>0</td>\n",
       "    </tr>\n",
       "    <tr>\n",
       "      <th>4</th>\n",
       "      <td>0</td>\n",
       "      <td>0</td>\n",
       "      <td>0</td>\n",
       "      <td>0</td>\n",
       "      <td>0</td>\n",
       "      <td>0</td>\n",
       "      <td>0</td>\n",
       "      <td>0</td>\n",
       "      <td>0</td>\n",
       "      <td>0</td>\n",
       "      <td>...</td>\n",
       "      <td>0</td>\n",
       "      <td>0</td>\n",
       "      <td>0</td>\n",
       "      <td>0</td>\n",
       "      <td>0</td>\n",
       "      <td>0</td>\n",
       "      <td>0</td>\n",
       "      <td>0</td>\n",
       "      <td>0</td>\n",
       "      <td>0</td>\n",
       "    </tr>\n",
       "    <tr>\n",
       "      <th>...</th>\n",
       "      <td>...</td>\n",
       "      <td>...</td>\n",
       "      <td>...</td>\n",
       "      <td>...</td>\n",
       "      <td>...</td>\n",
       "      <td>...</td>\n",
       "      <td>...</td>\n",
       "      <td>...</td>\n",
       "      <td>...</td>\n",
       "      <td>...</td>\n",
       "      <td>...</td>\n",
       "      <td>...</td>\n",
       "      <td>...</td>\n",
       "      <td>...</td>\n",
       "      <td>...</td>\n",
       "      <td>...</td>\n",
       "      <td>...</td>\n",
       "      <td>...</td>\n",
       "      <td>...</td>\n",
       "      <td>...</td>\n",
       "      <td>...</td>\n",
       "    </tr>\n",
       "    <tr>\n",
       "      <th>1594</th>\n",
       "      <td>0</td>\n",
       "      <td>0</td>\n",
       "      <td>0</td>\n",
       "      <td>0</td>\n",
       "      <td>0</td>\n",
       "      <td>0</td>\n",
       "      <td>0</td>\n",
       "      <td>0</td>\n",
       "      <td>0</td>\n",
       "      <td>0</td>\n",
       "      <td>...</td>\n",
       "      <td>0</td>\n",
       "      <td>0</td>\n",
       "      <td>0</td>\n",
       "      <td>0</td>\n",
       "      <td>0</td>\n",
       "      <td>0</td>\n",
       "      <td>0</td>\n",
       "      <td>0</td>\n",
       "      <td>0</td>\n",
       "      <td>0</td>\n",
       "    </tr>\n",
       "    <tr>\n",
       "      <th>1595</th>\n",
       "      <td>0</td>\n",
       "      <td>0</td>\n",
       "      <td>0</td>\n",
       "      <td>0</td>\n",
       "      <td>0</td>\n",
       "      <td>0</td>\n",
       "      <td>0</td>\n",
       "      <td>0</td>\n",
       "      <td>0</td>\n",
       "      <td>0</td>\n",
       "      <td>...</td>\n",
       "      <td>0</td>\n",
       "      <td>0</td>\n",
       "      <td>0</td>\n",
       "      <td>0</td>\n",
       "      <td>0</td>\n",
       "      <td>0</td>\n",
       "      <td>0</td>\n",
       "      <td>0</td>\n",
       "      <td>0</td>\n",
       "      <td>0</td>\n",
       "    </tr>\n",
       "    <tr>\n",
       "      <th>1596</th>\n",
       "      <td>0</td>\n",
       "      <td>0</td>\n",
       "      <td>0</td>\n",
       "      <td>0</td>\n",
       "      <td>0</td>\n",
       "      <td>0</td>\n",
       "      <td>0</td>\n",
       "      <td>0</td>\n",
       "      <td>0</td>\n",
       "      <td>0</td>\n",
       "      <td>...</td>\n",
       "      <td>0</td>\n",
       "      <td>0</td>\n",
       "      <td>0</td>\n",
       "      <td>0</td>\n",
       "      <td>0</td>\n",
       "      <td>0</td>\n",
       "      <td>0</td>\n",
       "      <td>0</td>\n",
       "      <td>0</td>\n",
       "      <td>0</td>\n",
       "    </tr>\n",
       "    <tr>\n",
       "      <th>1597</th>\n",
       "      <td>0</td>\n",
       "      <td>0</td>\n",
       "      <td>0</td>\n",
       "      <td>0</td>\n",
       "      <td>0</td>\n",
       "      <td>0</td>\n",
       "      <td>0</td>\n",
       "      <td>0</td>\n",
       "      <td>0</td>\n",
       "      <td>0</td>\n",
       "      <td>...</td>\n",
       "      <td>0</td>\n",
       "      <td>0</td>\n",
       "      <td>0</td>\n",
       "      <td>0</td>\n",
       "      <td>0</td>\n",
       "      <td>0</td>\n",
       "      <td>0</td>\n",
       "      <td>0</td>\n",
       "      <td>0</td>\n",
       "      <td>0</td>\n",
       "    </tr>\n",
       "    <tr>\n",
       "      <th>1598</th>\n",
       "      <td>0</td>\n",
       "      <td>0</td>\n",
       "      <td>0</td>\n",
       "      <td>0</td>\n",
       "      <td>0</td>\n",
       "      <td>0</td>\n",
       "      <td>0</td>\n",
       "      <td>0</td>\n",
       "      <td>0</td>\n",
       "      <td>0</td>\n",
       "      <td>...</td>\n",
       "      <td>0</td>\n",
       "      <td>0</td>\n",
       "      <td>0</td>\n",
       "      <td>0</td>\n",
       "      <td>0</td>\n",
       "      <td>0</td>\n",
       "      <td>0</td>\n",
       "      <td>0</td>\n",
       "      <td>0</td>\n",
       "      <td>0</td>\n",
       "    </tr>\n",
       "  </tbody>\n",
       "</table>\n",
       "<p>1599 rows × 7000 columns</p>\n",
       "</div>"
      ],
      "text/plain": [
       "      000  000 000  000 lg  000 nits  000 option  0017  01  02  03  04  ...  \\\n",
       "0       0        0       0         0           0     0   0   0   0   0  ...   \n",
       "1       0        0       0         0           0     0   0   0   0   0  ...   \n",
       "2       0        0       0         0           0     0   0   0   0   0  ...   \n",
       "3       0        0       0         0           0     0   0   0   0   0  ...   \n",
       "4       0        0       0         0           0     0   0   0   0   0  ...   \n",
       "...   ...      ...     ...       ...         ...   ...  ..  ..  ..  ..  ...   \n",
       "1594    0        0       0         0           0     0   0   0   0   0  ...   \n",
       "1595    0        0       0         0           0     0   0   0   0   0  ...   \n",
       "1596    0        0       0         0           0     0   0   0   0   0  ...   \n",
       "1597    0        0       0         0           0     0   0   0   0   0  ...   \n",
       "1598    0        0       0         0           0     0   0   0   0   0  ...   \n",
       "\n",
       "      youtuber  yzi_75tboxrkbrnofoxym  yzi_75tboxrkbrnofoxym edit  z_oyx5gj4o  \\\n",
       "0            0                      0                           0           0   \n",
       "1            0                      0                           0           0   \n",
       "2            0                      0                           0           0   \n",
       "3            0                      0                           0           0   \n",
       "4            0                      0                           0           0   \n",
       "...        ...                    ...                         ...         ...   \n",
       "1594         0                      0                           0           0   \n",
       "1595         0                      0                           0           0   \n",
       "1596         0                      0                           0           0   \n",
       "1597         0                      0                           0           0   \n",
       "1598         0                      0                           0           0   \n",
       "\n",
       "      z_oyx5gj4o yzi_75tboxrkbrnofoxym  zelda  zero  zero dawn  zombies  zone  \n",
       "0                                    0      0     0          0        0     0  \n",
       "1                                    0      0     0          0        0     0  \n",
       "2                                    0      0     0          0        0     0  \n",
       "3                                    0      0     0          0        0     0  \n",
       "4                                    0      0     0          0        0     0  \n",
       "...                                ...    ...   ...        ...      ...   ...  \n",
       "1594                                 0      0     0          0        0     0  \n",
       "1595                                 0      0     0          0        0     0  \n",
       "1596                                 0      0     0          0        0     0  \n",
       "1597                                 0      0     0          0        0     0  \n",
       "1598                                 0      0     0          0        0     0  \n",
       "\n",
       "[1599 rows x 7000 columns]"
      ]
     },
     "execution_count": 12,
     "metadata": {},
     "output_type": "execute_result"
    }
   ],
   "source": [
    "pd.DataFrame(X_train_cvec.toarray(), columns=cvec.get_feature_names())"
   ]
  },
  {
   "cell_type": "markdown",
   "id": "054d6899",
   "metadata": {},
   "source": [
    "Perform standarization on the data to improve model performance"
   ]
  },
  {
   "cell_type": "code",
   "execution_count": 13,
   "id": "bdf339d0",
   "metadata": {},
   "outputs": [
    {
     "name": "stderr",
     "output_type": "stream",
     "text": [
      "/Users/ezizkerem/opt/anaconda3/lib/python3.9/site-packages/sklearn/utils/deprecation.py:87: FutureWarning: Function get_feature_names is deprecated; get_feature_names is deprecated in 1.0 and will be removed in 1.2. Please use get_feature_names_out instead.\n",
      "  warnings.warn(msg, category=FutureWarning)\n",
      "/Users/ezizkerem/opt/anaconda3/lib/python3.9/site-packages/sklearn/utils/deprecation.py:87: FutureWarning: Function get_feature_names is deprecated; get_feature_names is deprecated in 1.0 and will be removed in 1.2. Please use get_feature_names_out instead.\n",
      "  warnings.warn(msg, category=FutureWarning)\n"
     ]
    }
   ],
   "source": [
    "ss = StandardScaler()\n",
    "X_train_cvec = pd.DataFrame(X_train_cvec.toarray(), columns=cvec.get_feature_names())\n",
    "X_test_cvec = pd.DataFrame(X_test_cvec.toarray(), columns=cvec.get_feature_names())\n",
    "\n",
    "X_train_cvec = ss.fit_transform(X_train_cvec)\n",
    "X_test_cvec = ss.transform(X_test_cvec)"
   ]
  },
  {
   "cell_type": "markdown",
   "id": "111d043f",
   "metadata": {},
   "source": [
    "## Logistic Regression\n",
    "Traning a logistic regression model on the data"
   ]
  },
  {
   "cell_type": "code",
   "execution_count": 149,
   "id": "525ce3f5",
   "metadata": {},
   "outputs": [],
   "source": [
    "from sklearn.linear_model import LogisticRegression"
   ]
  },
  {
   "cell_type": "code",
   "execution_count": 150,
   "id": "96c25684",
   "metadata": {},
   "outputs": [],
   "source": [
    "logreg_cvec = LogisticRegression(max_iter=1000) "
   ]
  },
  {
   "cell_type": "code",
   "execution_count": 151,
   "id": "9bff86c8",
   "metadata": {},
   "outputs": [
    {
     "data": {
      "text/plain": [
       "LogisticRegression(max_iter=1000)"
      ]
     },
     "execution_count": 151,
     "metadata": {},
     "output_type": "execute_result"
    }
   ],
   "source": [
    "lr.fit(X_train_cvec, y_train)"
   ]
  },
  {
   "cell_type": "code",
   "execution_count": 154,
   "id": "92c8dfd4",
   "metadata": {},
   "outputs": [
    {
     "data": {
      "text/plain": [
       "0.9962476547842402"
      ]
     },
     "execution_count": 154,
     "metadata": {},
     "output_type": "execute_result"
    }
   ],
   "source": [
    "lr.score(X_train_cvec, y_train)"
   ]
  },
  {
   "cell_type": "code",
   "execution_count": 155,
   "id": "499ab5ac",
   "metadata": {},
   "outputs": [
    {
     "data": {
      "text/plain": [
       "0.6573033707865169"
      ]
     },
     "execution_count": 155,
     "metadata": {},
     "output_type": "execute_result"
    }
   ],
   "source": [
    "lr.score(X_test_cvec, y_test)"
   ]
  },
  {
   "cell_type": "markdown",
   "id": "b743556c",
   "metadata": {},
   "source": [
    "#### Model Tuning\n",
    "Tune the parameters with `Pipeline` to achieve optimal performance"
   ]
  },
  {
   "cell_type": "code",
   "execution_count": 129,
   "id": "803fb76d",
   "metadata": {},
   "outputs": [],
   "source": [
    "pipe = Pipeline([('cvec', CountVectorizer()),('logreg', LogisticRegression())])"
   ]
  },
  {
   "cell_type": "code",
   "execution_count": 130,
   "id": "2126aca9",
   "metadata": {},
   "outputs": [],
   "source": [
    "pipe_params = {\n",
    "    'cvec__max_features' : [6000, 7000, 8000],\n",
    "    'cvec__min_df' : [1, 2],\n",
    "    'cvec__max_df' : [0.7, 0.8],\n",
    "    'cvec__ngram_range' : [(1,1), (1,2)],\n",
    "    'logreg__max_iter' : [500, 1000]\n",
    "}"
   ]
  },
  {
   "cell_type": "code",
   "execution_count": 131,
   "id": "a0020da5",
   "metadata": {},
   "outputs": [],
   "source": [
    "gs = GridSearchCV(pipe, param_grid=pipe_params, cv = 5)"
   ]
  },
  {
   "cell_type": "code",
   "execution_count": 132,
   "id": "f0444bc9",
   "metadata": {},
   "outputs": [
    {
     "data": {
      "text/plain": [
       "GridSearchCV(cv=5,\n",
       "             estimator=Pipeline(steps=[('cvec', CountVectorizer()),\n",
       "                                       ('logreg', LogisticRegression())]),\n",
       "             param_grid={'cvec__max_df': [0.7, 0.8],\n",
       "                         'cvec__max_features': [6000, 7000, 8000],\n",
       "                         'cvec__min_df': [1, 2],\n",
       "                         'cvec__ngram_range': [(1, 1), (1, 2)],\n",
       "                         'logreg__max_iter': [500, 1000]})"
      ]
     },
     "execution_count": 132,
     "metadata": {},
     "output_type": "execute_result"
    }
   ],
   "source": [
    "gs.fit(X_train, y_train)"
   ]
  },
  {
   "cell_type": "code",
   "execution_count": 133,
   "id": "b2839625",
   "metadata": {},
   "outputs": [
    {
     "data": {
      "text/plain": [
       "0.8161363636363637"
      ]
     },
     "execution_count": 133,
     "metadata": {},
     "output_type": "execute_result"
    }
   ],
   "source": [
    "gs.best_score_"
   ]
  },
  {
   "cell_type": "code",
   "execution_count": 134,
   "id": "a86df1db",
   "metadata": {},
   "outputs": [
    {
     "data": {
      "text/plain": [
       "{'cvec__max_df': 0.7,\n",
       " 'cvec__max_features': 8000,\n",
       " 'cvec__min_df': 2,\n",
       " 'cvec__ngram_range': (1, 2),\n",
       " 'logreg__max_iter': 500}"
      ]
     },
     "execution_count": 134,
     "metadata": {},
     "output_type": "execute_result"
    }
   ],
   "source": [
    "gs.best_params_"
   ]
  },
  {
   "cell_type": "markdown",
   "id": "9081b4b0",
   "metadata": {},
   "source": [
    "## Random Forest"
   ]
  },
  {
   "cell_type": "code",
   "execution_count": 20,
   "id": "b4a5fa6f",
   "metadata": {},
   "outputs": [],
   "source": [
    "rf = RandomForestClassifier()"
   ]
  },
  {
   "cell_type": "code",
   "execution_count": 25,
   "id": "dca7bdc6",
   "metadata": {},
   "outputs": [
    {
     "data": {
      "text/plain": [
       "0.8323922413793102"
      ]
     },
     "execution_count": 25,
     "metadata": {},
     "output_type": "execute_result"
    }
   ],
   "source": [
    "cross_val_score(rf, X_train_tvec, y_train, cv = 5).mean()"
   ]
  },
  {
   "cell_type": "code",
   "execution_count": 156,
   "id": "ec4f0289",
   "metadata": {},
   "outputs": [],
   "source": [
    "rf_params = {\n",
    "    'n_estimators': [50, 75, 100],\n",
    "    'max_depth': [10, 15, 20],\n",
    "    'min_samples_split': [2, 5, 10],\n",
    "    'min_samples_leaf': [3, 5, 8]\n",
    "}"
   ]
  },
  {
   "cell_type": "code",
   "execution_count": 158,
   "id": "6563889c",
   "metadata": {},
   "outputs": [
    {
     "name": "stdout",
     "output_type": "stream",
     "text": [
      "Fitting 5 folds for each of 81 candidates, totalling 405 fits\n",
      "0.8305211598746082\n"
     ]
    }
   ],
   "source": [
    "rf_gs = GridSearchCV(estimator=RandomForestClassifier(random_state=42), param_grid=rf_params, cv = 5, verbose=1, n_jobs=-1)\n",
    "rf_gs.fit(X_train_cvec, y_train)\n",
    "print(rf_gs.best_score_)"
   ]
  },
  {
   "cell_type": "code",
   "execution_count": 159,
   "id": "f8eafb66",
   "metadata": {},
   "outputs": [
    {
     "data": {
      "text/plain": [
       "{'max_depth': 20,\n",
       " 'min_samples_leaf': 3,\n",
       " 'min_samples_split': 10,\n",
       " 'n_estimators': 100}"
      ]
     },
     "execution_count": 159,
     "metadata": {},
     "output_type": "execute_result"
    }
   ],
   "source": [
    "rf_gs.best_params_"
   ]
  },
  {
   "cell_type": "code",
   "execution_count": 170,
   "id": "31aa34d4",
   "metadata": {},
   "outputs": [],
   "source": [
    "best_rf = rf_gs.best_estimator_"
   ]
  },
  {
   "cell_type": "code",
   "execution_count": 171,
   "id": "b11ae4e5",
   "metadata": {},
   "outputs": [
    {
     "data": {
      "text/plain": [
       "RandomForestClassifier(max_depth=20, min_samples_leaf=3, min_samples_split=10,\n",
       "                       random_state=42)"
      ]
     },
     "execution_count": 171,
     "metadata": {},
     "output_type": "execute_result"
    }
   ],
   "source": [
    "best_rf.fit(X_train_cvec, y_train)"
   ]
  },
  {
   "cell_type": "code",
   "execution_count": 172,
   "id": "7c809b7c",
   "metadata": {},
   "outputs": [
    {
     "data": {
      "text/plain": [
       "0.866166353971232"
      ]
     },
     "execution_count": 172,
     "metadata": {},
     "output_type": "execute_result"
    }
   ],
   "source": [
    "best_rf.score(X_train_cvec, y_train)"
   ]
  },
  {
   "cell_type": "code",
   "execution_count": 174,
   "id": "8cc662a7",
   "metadata": {},
   "outputs": [
    {
     "data": {
      "text/plain": [
       "0.8370786516853933"
      ]
     },
     "execution_count": 174,
     "metadata": {},
     "output_type": "execute_result"
    }
   ],
   "source": [
    "best_rf.score(X_test_cvec, y_test)"
   ]
  },
  {
   "cell_type": "markdown",
   "id": "7b37958c",
   "metadata": {},
   "source": [
    "## KNN"
   ]
  },
  {
   "cell_type": "code",
   "execution_count": 37,
   "id": "d534ad38",
   "metadata": {},
   "outputs": [],
   "source": [
    "from sklearn.neighbors import KNeighborsClassifier"
   ]
  },
  {
   "cell_type": "code",
   "execution_count": 40,
   "id": "19ad581e",
   "metadata": {},
   "outputs": [],
   "source": []
  },
  {
   "cell_type": "code",
   "execution_count": 45,
   "id": "37ebaf10",
   "metadata": {},
   "outputs": [],
   "source": [
    "# pd.DataFrame(X_train_cvec.toarray(), columns=cvec.get_feature_names())"
   ]
  },
  {
   "cell_type": "code",
   "execution_count": 39,
   "id": "4066ef78",
   "metadata": {},
   "outputs": [
    {
     "name": "stderr",
     "output_type": "stream",
     "text": [
      "/Users/ezizkerem/opt/anaconda3/lib/python3.9/site-packages/sklearn/utils/deprecation.py:87: FutureWarning: Function get_feature_names is deprecated; get_feature_names is deprecated in 1.0 and will be removed in 1.2. Please use get_feature_names_out instead.\n",
      "  warnings.warn(msg, category=FutureWarning)\n",
      "/Users/ezizkerem/opt/anaconda3/lib/python3.9/site-packages/sklearn/utils/deprecation.py:87: FutureWarning: Function get_feature_names is deprecated; get_feature_names is deprecated in 1.0 and will be removed in 1.2. Please use get_feature_names_out instead.\n",
      "  warnings.warn(msg, category=FutureWarning)\n"
     ]
    }
   ],
   "source": [
    "X_train_cvec = pd.DataFrame(X_train_cvec.toarray(), columns=cvec.get_feature_names())\n",
    "X_test_cvec = pd.DataFrame(X_test_cvec.toarray(), columns=cvec.get_feature_names())\n"
   ]
  },
  {
   "cell_type": "code",
   "execution_count": 41,
   "id": "68a024b9",
   "metadata": {},
   "outputs": [
    {
     "data": {
      "text/plain": [
       "0.5465869905956113"
      ]
     },
     "execution_count": 41,
     "metadata": {},
     "output_type": "execute_result"
    }
   ],
   "source": [
    "knn = KNeighborsClassifier()\n",
    "cross_val_score(knn, X_train_cvec, y_train, cv = 5).mean()"
   ]
  },
  {
   "cell_type": "code",
   "execution_count": 160,
   "id": "364379ce",
   "metadata": {},
   "outputs": [],
   "source": [
    "knn_params = {\n",
    "    'n_neighbors' : [3, 5, 10],\n",
    "    'weights': ['uniform', 'distance']\n",
    "}"
   ]
  },
  {
   "cell_type": "code",
   "execution_count": 161,
   "id": "f3d31553",
   "metadata": {},
   "outputs": [
    {
     "name": "stdout",
     "output_type": "stream",
     "text": [
      "Fitting 5 folds for each of 6 candidates, totalling 30 fits\n",
      "0.5515967868338558\n",
      "{'n_neighbors': 3, 'weights': 'distance'}\n"
     ]
    }
   ],
   "source": [
    "knn_gs = GridSearchCV(KNeighborsClassifier(), param_grid=knn_params, cv=5, verbose =1, n_jobs=-1)\n",
    "knn_gs.fit(X_train_cvec, y_train)\n",
    "print(knn_gs.best_score_)\n",
    "print(knn_gs.best_params_)"
   ]
  },
  {
   "cell_type": "code",
   "execution_count": 180,
   "id": "be83051e",
   "metadata": {},
   "outputs": [
    {
     "name": "stdout",
     "output_type": "stream",
     "text": [
      "0.9993746091307066\n",
      "0.5561797752808989\n"
     ]
    }
   ],
   "source": [
    "best_knn = knn_gs.best_estimator_\n",
    "best_knn.fit(X_train_cvec, y_train)\n",
    "print(best_knn.score(X_train_cvec, y_train))\n",
    "print(best_knn.score(X_test_cvec, y_test))"
   ]
  },
  {
   "cell_type": "markdown",
   "id": "76affb20",
   "metadata": {},
   "source": [
    "## SVM"
   ]
  },
  {
   "cell_type": "code",
   "execution_count": 14,
   "id": "b2f3f58d",
   "metadata": {},
   "outputs": [],
   "source": [
    "from sklearn.svm import SVC"
   ]
  },
  {
   "cell_type": "code",
   "execution_count": 27,
   "id": "353d94d3",
   "metadata": {},
   "outputs": [
    {
     "data": {
      "text/plain": [
       "0.5384669539016079"
      ]
     },
     "execution_count": 27,
     "metadata": {},
     "output_type": "execute_result"
    }
   ],
   "source": [
    "svc = SVC(kernel='poly', degree=3)\n",
    "cross_val_score(svc, X_train_cvec, y_train, cv =6).mean()"
   ]
  },
  {
   "cell_type": "code",
   "execution_count": 16,
   "id": "71f47cb0",
   "metadata": {},
   "outputs": [],
   "source": [
    "svm_params = {\n",
    "    'kernel' : ['rbf', 'linear', 'poly'],\n",
    "    'C': [1, 3, 5],\n",
    "    'degree': [2, 3]\n",
    "}"
   ]
  },
  {
   "cell_type": "code",
   "execution_count": null,
   "id": "40596f50",
   "metadata": {},
   "outputs": [],
   "source": [
    "svm_gs = GridSearchCV(SVC(), param_grid=svm_params, cv=5, verbose =1, n_jobs=-1)\n",
    "svm_gs.fit(X_train_cvec, y_train)\n",
    "print(svm_gs.best_score_)\n",
    "print(svm_gs.best_params_)"
   ]
  },
  {
   "cell_type": "code",
   "execution_count": 175,
   "id": "c7983305",
   "metadata": {},
   "outputs": [],
   "source": [
    "best_svm = svm_gs.best_estimator_"
   ]
  },
  {
   "cell_type": "code",
   "execution_count": 176,
   "id": "63ed7520",
   "metadata": {},
   "outputs": [
    {
     "data": {
      "text/plain": [
       "0.6722846441947565"
      ]
     },
     "execution_count": 176,
     "metadata": {},
     "output_type": "execute_result"
    }
   ],
   "source": [
    "best_svm.fit(X_train_cvec, y_train)\n",
    "print(best_svm.score(X_train_cvec, y_train))\n",
    "print(best_svm.score(X_test_cvec, y_test))"
   ]
  },
  {
   "cell_type": "code",
   "execution_count": 177,
   "id": "b7154e18",
   "metadata": {},
   "outputs": [
    {
     "name": "stdout",
     "output_type": "stream",
     "text": [
      "0.991869918699187\n",
      "0.6722846441947565\n"
     ]
    }
   ],
   "source": [
    "print(best_svm.score(X_train_cvec, y_train))\n",
    "print(best_svm.score(X_test_cvec, y_test))"
   ]
  },
  {
   "cell_type": "markdown",
   "id": "f6e6a3b7",
   "metadata": {},
   "source": [
    "# TF-IDF Vectorizer\n",
    "Try different vectorizer to improve model perrformance"
   ]
  },
  {
   "cell_type": "code",
   "execution_count": 22,
   "id": "88920d3f",
   "metadata": {},
   "outputs": [],
   "source": [
    "from sklearn.feature_extraction.text import TfidfVectorizer"
   ]
  },
  {
   "cell_type": "code",
   "execution_count": 23,
   "id": "35a11cb1",
   "metadata": {},
   "outputs": [],
   "source": [
    "tvec = TfidfVectorizer(max_features=6000, stop_words='english', min_df=2, max_df=0.98, ngram_range=(1,2))\n",
    "X_train_tvec = tvec.fit_transform(X_train)\n",
    "\n",
    "X_test_tvec = tvec.transform(X_test)"
   ]
  },
  {
   "cell_type": "code",
   "execution_count": 24,
   "id": "58b15bc6",
   "metadata": {},
   "outputs": [
    {
     "ename": "NameError",
     "evalue": "name 'lr' is not defined",
     "output_type": "error",
     "traceback": [
      "\u001b[0;31m---------------------------------------------------------------------------\u001b[0m",
      "\u001b[0;31mNameError\u001b[0m                                 Traceback (most recent call last)",
      "Input \u001b[0;32mIn [24]\u001b[0m, in \u001b[0;36m<cell line: 1>\u001b[0;34m()\u001b[0m\n\u001b[0;32m----> 1\u001b[0m cross_val_score(\u001b[43mlr\u001b[49m, X_train_tvec, y_train, cv \u001b[38;5;241m=\u001b[39m \u001b[38;5;241m5\u001b[39m)\u001b[38;5;241m.\u001b[39mmean()\n",
      "\u001b[0;31mNameError\u001b[0m: name 'lr' is not defined"
     ]
    }
   ],
   "source": [
    "cross_val_score(lr, X_train_tvec, y_train, cv = 5).mean()"
   ]
  },
  {
   "cell_type": "code",
   "execution_count": 89,
   "id": "a70eee33",
   "metadata": {},
   "outputs": [],
   "source": [
    "logreg_tvec = LogisticRegression()"
   ]
  },
  {
   "cell_type": "code",
   "execution_count": 90,
   "id": "5e46e5e5",
   "metadata": {},
   "outputs": [
    {
     "data": {
      "text/plain": [
       "LogisticRegression()"
      ]
     },
     "execution_count": 90,
     "metadata": {},
     "output_type": "execute_result"
    }
   ],
   "source": [
    "logreg_tvec.fit(X_train_tvec, y_train)"
   ]
  },
  {
   "cell_type": "code",
   "execution_count": 91,
   "id": "0c022d8d",
   "metadata": {},
   "outputs": [
    {
     "data": {
      "text/plain": [
       "0.9631019387116948"
      ]
     },
     "execution_count": 91,
     "metadata": {},
     "output_type": "execute_result"
    }
   ],
   "source": [
    "logreg_tvec.score(X_train_tvec, y_train)"
   ]
  },
  {
   "cell_type": "code",
   "execution_count": 93,
   "id": "cee3f1f4",
   "metadata": {},
   "outputs": [
    {
     "data": {
      "text/plain": [
       "0.8539325842696629"
      ]
     },
     "execution_count": 93,
     "metadata": {},
     "output_type": "execute_result"
    }
   ],
   "source": [
    "logreg_tvec.score(X_test_tvec, y_test)"
   ]
  },
  {
   "cell_type": "code",
   "execution_count": 164,
   "id": "5432b920",
   "metadata": {},
   "outputs": [],
   "source": [
    "tf = Pipeline([('tf', TfidfVectorizer()),('logreg', LogisticRegression())])"
   ]
  },
  {
   "cell_type": "code",
   "execution_count": 165,
   "id": "c98bcb7d",
   "metadata": {},
   "outputs": [],
   "source": [
    "tf_params = {\n",
    "    'tf__max_features' : [6000, 7000, 8000],\n",
    "    'tf__min_df' : [1, 2],\n",
    "    'tf__max_df' : [0.7, 0.8],\n",
    "    'tf__ngram_range' : [(1,1), (1,2)],\n",
    "    'logreg__max_iter' : [500, 1000]\n",
    "}"
   ]
  },
  {
   "cell_type": "code",
   "execution_count": 166,
   "id": "1a2e21a0",
   "metadata": {},
   "outputs": [
    {
     "data": {
      "text/plain": [
       "GridSearchCV(cv=5,\n",
       "             estimator=Pipeline(steps=[('cvec', CountVectorizer()),\n",
       "                                       ('logreg', LogisticRegression())]),\n",
       "             param_grid={'cvec__max_df': [0.7, 0.8],\n",
       "                         'cvec__max_features': [6000, 7000, 8000],\n",
       "                         'cvec__min_df': [1, 2],\n",
       "                         'cvec__ngram_range': [(1, 1), (1, 2)],\n",
       "                         'logreg__max_iter': [500, 1000]})"
      ]
     },
     "execution_count": 166,
     "metadata": {},
     "output_type": "execute_result"
    }
   ],
   "source": [
    "tf_gs = GridSearchCV(pipe, param_grid=pipe_params, cv = 5)\n",
    "tf_gs.fit(X_train, y_train)"
   ]
  },
  {
   "cell_type": "markdown",
   "id": "eaf25fd9",
   "metadata": {},
   "source": [
    "Same performance as "
   ]
  },
  {
   "cell_type": "code",
   "execution_count": 168,
   "id": "2018f71f",
   "metadata": {},
   "outputs": [
    {
     "data": {
      "text/plain": [
       "0.8161363636363637"
      ]
     },
     "execution_count": 168,
     "metadata": {},
     "output_type": "execute_result"
    }
   ],
   "source": [
    "tf_gs.best_score_"
   ]
  },
  {
   "cell_type": "code",
   "execution_count": 169,
   "id": "926a7c9f",
   "metadata": {},
   "outputs": [
    {
     "data": {
      "text/plain": [
       "{'cvec__max_df': 0.7,\n",
       " 'cvec__max_features': 8000,\n",
       " 'cvec__min_df': 2,\n",
       " 'cvec__ngram_range': (1, 2),\n",
       " 'logreg__max_iter': 500}"
      ]
     },
     "execution_count": 169,
     "metadata": {},
     "output_type": "execute_result"
    }
   ],
   "source": [
    "tf_gs.best_params_"
   ]
  }
 ],
 "metadata": {
  "kernelspec": {
   "display_name": "Python 3 (ipykernel)",
   "language": "python",
   "name": "python3"
  },
  "language_info": {
   "codemirror_mode": {
    "name": "ipython",
    "version": 3
   },
   "file_extension": ".py",
   "mimetype": "text/x-python",
   "name": "python",
   "nbconvert_exporter": "python",
   "pygments_lexer": "ipython3",
   "version": "3.9.12"
  }
 },
 "nbformat": 4,
 "nbformat_minor": 5
}
