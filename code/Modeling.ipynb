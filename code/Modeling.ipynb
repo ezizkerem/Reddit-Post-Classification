{
 "cells": [
  {
   "cell_type": "markdown",
   "id": "b8332adf",
   "metadata": {},
   "source": [
    "# Modeling"
   ]
  },
  {
   "cell_type": "code",
   "execution_count": 1,
   "id": "cda7bf8c",
   "metadata": {},
   "outputs": [],
   "source": [
    "import pandas as pd\n",
    "import numpy as np\n",
    "from sklearn.model_selection import train_test_split, cross_val_score\n",
    "from sklearn.feature_extraction.text import CountVectorizer\n",
    "from sklearn.ensemble import RandomForestClassifier, ExtraTreesClassifier\n",
    "from sklearn.preprocessing import StandardScaler\n",
    "from sklearn.model_selection import GridSearchCV\n",
    "from sklearn.pipeline import Pipeline"
   ]
  },
  {
   "cell_type": "markdown",
   "id": "a8a1943a",
   "metadata": {},
   "source": [
    "### Train/Test Split"
   ]
  },
  {
   "cell_type": "code",
   "execution_count": 2,
   "id": "95a70ed0",
   "metadata": {},
   "outputs": [
    {
     "data": {
      "text/html": [
       "<div>\n",
       "<style scoped>\n",
       "    .dataframe tbody tr th:only-of-type {\n",
       "        vertical-align: middle;\n",
       "    }\n",
       "\n",
       "    .dataframe tbody tr th {\n",
       "        vertical-align: top;\n",
       "    }\n",
       "\n",
       "    .dataframe thead th {\n",
       "        text-align: right;\n",
       "    }\n",
       "</style>\n",
       "<table border=\"1\" class=\"dataframe\">\n",
       "  <thead>\n",
       "    <tr style=\"text-align: right;\">\n",
       "      <th></th>\n",
       "      <th>subreddit</th>\n",
       "      <th>selftext</th>\n",
       "      <th>title</th>\n",
       "    </tr>\n",
       "  </thead>\n",
       "  <tbody>\n",
       "    <tr>\n",
       "      <th>0</th>\n",
       "      <td>PS5</td>\n",
       "      <td>NaN</td>\n",
       "      <td>Frogwares: Sherlock Holmes The Awakened, a ful...</td>\n",
       "    </tr>\n",
       "    <tr>\n",
       "      <th>1</th>\n",
       "      <td>PS5</td>\n",
       "      <td>NaN</td>\n",
       "      <td>Kao the Kangaroo - Summer Drip Free DLC</td>\n",
       "    </tr>\n",
       "    <tr>\n",
       "      <th>2</th>\n",
       "      <td>PS5</td>\n",
       "      <td>NaN</td>\n",
       "      <td>can't decide which game to get in the sale?</td>\n",
       "    </tr>\n",
       "    <tr>\n",
       "      <th>3</th>\n",
       "      <td>PS5</td>\n",
       "      <td>NaN</td>\n",
       "      <td>New beta software!</td>\n",
       "    </tr>\n",
       "    <tr>\n",
       "      <th>4</th>\n",
       "      <td>PS5</td>\n",
       "      <td>NaN</td>\n",
       "      <td>Beta PS5 software update supports 1440p HDMI v...</td>\n",
       "    </tr>\n",
       "    <tr>\n",
       "      <th>...</th>\n",
       "      <td>...</td>\n",
       "      <td>...</td>\n",
       "      <td>...</td>\n",
       "    </tr>\n",
       "    <tr>\n",
       "      <th>7489</th>\n",
       "      <td>XboxSeriesX</td>\n",
       "      <td>So my partner has bought me a Series X for my ...</td>\n",
       "      <td>My Series X is here 1 week before my birthday</td>\n",
       "    </tr>\n",
       "    <tr>\n",
       "      <th>7490</th>\n",
       "      <td>XboxSeriesX</td>\n",
       "      <td>I bought this new console and playing Halo dur...</td>\n",
       "      <td>Is the fact that the series x Is warm enough t...</td>\n",
       "    </tr>\n",
       "    <tr>\n",
       "      <th>7491</th>\n",
       "      <td>XboxSeriesX</td>\n",
       "      <td>Hello sorry for my English I use google transl...</td>\n",
       "      <td>samsung tv setting</td>\n",
       "    </tr>\n",
       "    <tr>\n",
       "      <th>7492</th>\n",
       "      <td>XboxSeriesX</td>\n",
       "      <td>Does anyone have a recommended video guide of ...</td>\n",
       "      <td>video recommendation</td>\n",
       "    </tr>\n",
       "    <tr>\n",
       "      <th>7493</th>\n",
       "      <td>XboxSeriesX</td>\n",
       "      <td>I haven't played any games made past 2015 howe...</td>\n",
       "      <td>Recommended games to play on xbox for someone ...</td>\n",
       "    </tr>\n",
       "  </tbody>\n",
       "</table>\n",
       "<p>7494 rows × 3 columns</p>\n",
       "</div>"
      ],
      "text/plain": [
       "        subreddit                                           selftext  \\\n",
       "0             PS5                                                NaN   \n",
       "1             PS5                                                NaN   \n",
       "2             PS5                                                NaN   \n",
       "3             PS5                                                NaN   \n",
       "4             PS5                                                NaN   \n",
       "...           ...                                                ...   \n",
       "7489  XboxSeriesX  So my partner has bought me a Series X for my ...   \n",
       "7490  XboxSeriesX  I bought this new console and playing Halo dur...   \n",
       "7491  XboxSeriesX  Hello sorry for my English I use google transl...   \n",
       "7492  XboxSeriesX  Does anyone have a recommended video guide of ...   \n",
       "7493  XboxSeriesX  I haven't played any games made past 2015 howe...   \n",
       "\n",
       "                                                  title  \n",
       "0     Frogwares: Sherlock Holmes The Awakened, a ful...  \n",
       "1               Kao the Kangaroo - Summer Drip Free DLC  \n",
       "2           can't decide which game to get in the sale?  \n",
       "3                                    New beta software!  \n",
       "4     Beta PS5 software update supports 1440p HDMI v...  \n",
       "...                                                 ...  \n",
       "7489      My Series X is here 1 week before my birthday  \n",
       "7490  Is the fact that the series x Is warm enough t...  \n",
       "7491                                 samsung tv setting  \n",
       "7492                               video recommendation  \n",
       "7493  Recommended games to play on xbox for someone ...  \n",
       "\n",
       "[7494 rows x 3 columns]"
      ]
     },
     "execution_count": 2,
     "metadata": {},
     "output_type": "execute_result"
    }
   ],
   "source": [
    "df = pd.read_csv('data/posts_2.csv')\n",
    "df"
   ]
  },
  {
   "cell_type": "code",
   "execution_count": 3,
   "id": "bcb9c8ea",
   "metadata": {},
   "outputs": [
    {
     "data": {
      "text/html": [
       "<div>\n",
       "<style scoped>\n",
       "    .dataframe tbody tr th:only-of-type {\n",
       "        vertical-align: middle;\n",
       "    }\n",
       "\n",
       "    .dataframe tbody tr th {\n",
       "        vertical-align: top;\n",
       "    }\n",
       "\n",
       "    .dataframe thead th {\n",
       "        text-align: right;\n",
       "    }\n",
       "</style>\n",
       "<table border=\"1\" class=\"dataframe\">\n",
       "  <thead>\n",
       "    <tr style=\"text-align: right;\">\n",
       "      <th></th>\n",
       "      <th>subreddit</th>\n",
       "      <th>selftext</th>\n",
       "    </tr>\n",
       "  </thead>\n",
       "  <tbody>\n",
       "    <tr>\n",
       "      <th>0</th>\n",
       "      <td>PS5</td>\n",
       "      <td>NaN</td>\n",
       "    </tr>\n",
       "    <tr>\n",
       "      <th>1</th>\n",
       "      <td>PS5</td>\n",
       "      <td>NaN</td>\n",
       "    </tr>\n",
       "    <tr>\n",
       "      <th>2</th>\n",
       "      <td>PS5</td>\n",
       "      <td>NaN</td>\n",
       "    </tr>\n",
       "    <tr>\n",
       "      <th>3</th>\n",
       "      <td>PS5</td>\n",
       "      <td>NaN</td>\n",
       "    </tr>\n",
       "    <tr>\n",
       "      <th>4</th>\n",
       "      <td>PS5</td>\n",
       "      <td>NaN</td>\n",
       "    </tr>\n",
       "    <tr>\n",
       "      <th>...</th>\n",
       "      <td>...</td>\n",
       "      <td>...</td>\n",
       "    </tr>\n",
       "    <tr>\n",
       "      <th>7489</th>\n",
       "      <td>XboxSeriesX</td>\n",
       "      <td>So my partner has bought me a Series X for my ...</td>\n",
       "    </tr>\n",
       "    <tr>\n",
       "      <th>7490</th>\n",
       "      <td>XboxSeriesX</td>\n",
       "      <td>I bought this new console and playing Halo dur...</td>\n",
       "    </tr>\n",
       "    <tr>\n",
       "      <th>7491</th>\n",
       "      <td>XboxSeriesX</td>\n",
       "      <td>Hello sorry for my English I use google transl...</td>\n",
       "    </tr>\n",
       "    <tr>\n",
       "      <th>7492</th>\n",
       "      <td>XboxSeriesX</td>\n",
       "      <td>Does anyone have a recommended video guide of ...</td>\n",
       "    </tr>\n",
       "    <tr>\n",
       "      <th>7493</th>\n",
       "      <td>XboxSeriesX</td>\n",
       "      <td>I haven't played any games made past 2015 howe...</td>\n",
       "    </tr>\n",
       "  </tbody>\n",
       "</table>\n",
       "<p>7494 rows × 2 columns</p>\n",
       "</div>"
      ],
      "text/plain": [
       "        subreddit                                           selftext\n",
       "0             PS5                                                NaN\n",
       "1             PS5                                                NaN\n",
       "2             PS5                                                NaN\n",
       "3             PS5                                                NaN\n",
       "4             PS5                                                NaN\n",
       "...           ...                                                ...\n",
       "7489  XboxSeriesX  So my partner has bought me a Series X for my ...\n",
       "7490  XboxSeriesX  I bought this new console and playing Halo dur...\n",
       "7491  XboxSeriesX  Hello sorry for my English I use google transl...\n",
       "7492  XboxSeriesX  Does anyone have a recommended video guide of ...\n",
       "7493  XboxSeriesX  I haven't played any games made past 2015 howe...\n",
       "\n",
       "[7494 rows x 2 columns]"
      ]
     },
     "execution_count": 3,
     "metadata": {},
     "output_type": "execute_result"
    }
   ],
   "source": [
    "df = df[['subreddit', 'selftext']]\n",
    "df"
   ]
  },
  {
   "cell_type": "code",
   "execution_count": 4,
   "id": "9b20b9b1",
   "metadata": {},
   "outputs": [
    {
     "name": "stderr",
     "output_type": "stream",
     "text": [
      "/var/folders/n2/2x1h8gm12hg272zzsml3ns500000gn/T/ipykernel_35589/3187435045.py:1: SettingWithCopyWarning: \n",
      "A value is trying to be set on a copy of a slice from a DataFrame.\n",
      "Try using .loc[row_indexer,col_indexer] = value instead\n",
      "\n",
      "See the caveats in the documentation: https://pandas.pydata.org/pandas-docs/stable/user_guide/indexing.html#returning-a-view-versus-a-copy\n",
      "  df['subreddit'] = df['subreddit'].map({'PS5': 1, 'XboxSeriesX': 0})\n"
     ]
    }
   ],
   "source": [
    "df['subreddit'] = df['subreddit'].map({'PS5': 1, 'XboxSeriesX': 0})"
   ]
  },
  {
   "cell_type": "code",
   "execution_count": 5,
   "id": "413a397b",
   "metadata": {
    "scrolled": true
   },
   "outputs": [
    {
     "name": "stderr",
     "output_type": "stream",
     "text": [
      "/var/folders/n2/2x1h8gm12hg272zzsml3ns500000gn/T/ipykernel_35589/1379821321.py:1: SettingWithCopyWarning: \n",
      "A value is trying to be set on a copy of a slice from a DataFrame\n",
      "\n",
      "See the caveats in the documentation: https://pandas.pydata.org/pandas-docs/stable/user_guide/indexing.html#returning-a-view-versus-a-copy\n",
      "  df.dropna(inplace=True)\n"
     ]
    }
   ],
   "source": [
    "df.dropna(inplace=True)"
   ]
  },
  {
   "cell_type": "code",
   "execution_count": 6,
   "id": "be58ccc8",
   "metadata": {},
   "outputs": [
    {
     "data": {
      "text/html": [
       "<div>\n",
       "<style scoped>\n",
       "    .dataframe tbody tr th:only-of-type {\n",
       "        vertical-align: middle;\n",
       "    }\n",
       "\n",
       "    .dataframe tbody tr th {\n",
       "        vertical-align: top;\n",
       "    }\n",
       "\n",
       "    .dataframe thead th {\n",
       "        text-align: right;\n",
       "    }\n",
       "</style>\n",
       "<table border=\"1\" class=\"dataframe\">\n",
       "  <thead>\n",
       "    <tr style=\"text-align: right;\">\n",
       "      <th></th>\n",
       "      <th>subreddit</th>\n",
       "      <th>selftext</th>\n",
       "    </tr>\n",
       "  </thead>\n",
       "  <tbody>\n",
       "    <tr>\n",
       "      <th>7</th>\n",
       "      <td>1</td>\n",
       "      <td>So yeah pretty sad situation. Fan stopped work...</td>\n",
       "    </tr>\n",
       "    <tr>\n",
       "      <th>25</th>\n",
       "      <td>1</td>\n",
       "      <td>I just got my ps5 and I'm trying to sign in on...</td>\n",
       "    </tr>\n",
       "    <tr>\n",
       "      <th>28</th>\n",
       "      <td>1</td>\n",
       "      <td>I just started installing PS4 disc version on ...</td>\n",
       "    </tr>\n",
       "    <tr>\n",
       "      <th>37</th>\n",
       "      <td>1</td>\n",
       "      <td>I saw that there's a PS4 and also a native PS5...</td>\n",
       "    </tr>\n",
       "    <tr>\n",
       "      <th>57</th>\n",
       "      <td>1</td>\n",
       "      <td>Hey, Sony - wanna make it so I can make my bac...</td>\n",
       "    </tr>\n",
       "    <tr>\n",
       "      <th>...</th>\n",
       "      <td>...</td>\n",
       "      <td>...</td>\n",
       "    </tr>\n",
       "    <tr>\n",
       "      <th>7489</th>\n",
       "      <td>0</td>\n",
       "      <td>So my partner has bought me a Series X for my ...</td>\n",
       "    </tr>\n",
       "    <tr>\n",
       "      <th>7490</th>\n",
       "      <td>0</td>\n",
       "      <td>I bought this new console and playing Halo dur...</td>\n",
       "    </tr>\n",
       "    <tr>\n",
       "      <th>7491</th>\n",
       "      <td>0</td>\n",
       "      <td>Hello sorry for my English I use google transl...</td>\n",
       "    </tr>\n",
       "    <tr>\n",
       "      <th>7492</th>\n",
       "      <td>0</td>\n",
       "      <td>Does anyone have a recommended video guide of ...</td>\n",
       "    </tr>\n",
       "    <tr>\n",
       "      <th>7493</th>\n",
       "      <td>0</td>\n",
       "      <td>I haven't played any games made past 2015 howe...</td>\n",
       "    </tr>\n",
       "  </tbody>\n",
       "</table>\n",
       "<p>2133 rows × 2 columns</p>\n",
       "</div>"
      ],
      "text/plain": [
       "      subreddit                                           selftext\n",
       "7             1  So yeah pretty sad situation. Fan stopped work...\n",
       "25            1  I just got my ps5 and I'm trying to sign in on...\n",
       "28            1  I just started installing PS4 disc version on ...\n",
       "37            1  I saw that there's a PS4 and also a native PS5...\n",
       "57            1  Hey, Sony - wanna make it so I can make my bac...\n",
       "...         ...                                                ...\n",
       "7489          0  So my partner has bought me a Series X for my ...\n",
       "7490          0  I bought this new console and playing Halo dur...\n",
       "7491          0  Hello sorry for my English I use google transl...\n",
       "7492          0  Does anyone have a recommended video guide of ...\n",
       "7493          0  I haven't played any games made past 2015 howe...\n",
       "\n",
       "[2133 rows x 2 columns]"
      ]
     },
     "execution_count": 6,
     "metadata": {},
     "output_type": "execute_result"
    }
   ],
   "source": [
    "df"
   ]
  },
  {
   "cell_type": "code",
   "execution_count": 7,
   "id": "914463d1",
   "metadata": {},
   "outputs": [],
   "source": [
    "X = df['selftext']\n",
    "y = df['subreddit']"
   ]
  },
  {
   "cell_type": "code",
   "execution_count": 8,
   "id": "9eac128e",
   "metadata": {},
   "outputs": [
    {
     "data": {
      "text/plain": [
       "0    0.531177\n",
       "1    0.468823\n",
       "Name: subreddit, dtype: float64"
      ]
     },
     "execution_count": 8,
     "metadata": {},
     "output_type": "execute_result"
    }
   ],
   "source": [
    "y.value_counts(normalize=True)"
   ]
  },
  {
   "cell_type": "code",
   "execution_count": 9,
   "id": "89d139ec",
   "metadata": {},
   "outputs": [],
   "source": [
    "X_train, X_test, y_train, y_test = train_test_split(X, y, random_state = 42)"
   ]
  },
  {
   "cell_type": "markdown",
   "id": "0f3bf3e7",
   "metadata": {},
   "source": [
    "## Count Vectorizer"
   ]
  },
  {
   "cell_type": "code",
   "execution_count": 10,
   "id": "96da7646",
   "metadata": {},
   "outputs": [],
   "source": [
    "cvec = CountVectorizer(max_features=7000, stop_words='english', min_df=2, max_df=0.7, ngram_range=(1,2))"
   ]
  },
  {
   "cell_type": "code",
   "execution_count": 11,
   "id": "d16076f9",
   "metadata": {},
   "outputs": [],
   "source": [
    "X_train_cvec = cvec.fit_transform(X_train)\n",
    "X_test_cvec = cvec.transform(X_test)"
   ]
  },
  {
   "cell_type": "code",
   "execution_count": 12,
   "id": "53e9e4a7",
   "metadata": {},
   "outputs": [
    {
     "name": "stderr",
     "output_type": "stream",
     "text": [
      "/Users/ezizkerem/opt/anaconda3/lib/python3.9/site-packages/sklearn/utils/deprecation.py:87: FutureWarning: Function get_feature_names is deprecated; get_feature_names is deprecated in 1.0 and will be removed in 1.2. Please use get_feature_names_out instead.\n",
      "  warnings.warn(msg, category=FutureWarning)\n"
     ]
    },
    {
     "data": {
      "text/html": [
       "<div>\n",
       "<style scoped>\n",
       "    .dataframe tbody tr th:only-of-type {\n",
       "        vertical-align: middle;\n",
       "    }\n",
       "\n",
       "    .dataframe tbody tr th {\n",
       "        vertical-align: top;\n",
       "    }\n",
       "\n",
       "    .dataframe thead th {\n",
       "        text-align: right;\n",
       "    }\n",
       "</style>\n",
       "<table border=\"1\" class=\"dataframe\">\n",
       "  <thead>\n",
       "    <tr style=\"text-align: right;\">\n",
       "      <th></th>\n",
       "      <th>000</th>\n",
       "      <th>000 000</th>\n",
       "      <th>000 lg</th>\n",
       "      <th>000 nits</th>\n",
       "      <th>000 option</th>\n",
       "      <th>0017</th>\n",
       "      <th>01</th>\n",
       "      <th>02</th>\n",
       "      <th>03</th>\n",
       "      <th>04</th>\n",
       "      <th>...</th>\n",
       "      <th>youtuber</th>\n",
       "      <th>yzi_75tboxrkbrnofoxym</th>\n",
       "      <th>yzi_75tboxrkbrnofoxym edit</th>\n",
       "      <th>z_oyx5gj4o</th>\n",
       "      <th>z_oyx5gj4o yzi_75tboxrkbrnofoxym</th>\n",
       "      <th>zelda</th>\n",
       "      <th>zero</th>\n",
       "      <th>zero dawn</th>\n",
       "      <th>zombies</th>\n",
       "      <th>zone</th>\n",
       "    </tr>\n",
       "  </thead>\n",
       "  <tbody>\n",
       "    <tr>\n",
       "      <th>0</th>\n",
       "      <td>0</td>\n",
       "      <td>0</td>\n",
       "      <td>0</td>\n",
       "      <td>0</td>\n",
       "      <td>0</td>\n",
       "      <td>0</td>\n",
       "      <td>0</td>\n",
       "      <td>0</td>\n",
       "      <td>0</td>\n",
       "      <td>0</td>\n",
       "      <td>...</td>\n",
       "      <td>0</td>\n",
       "      <td>0</td>\n",
       "      <td>0</td>\n",
       "      <td>0</td>\n",
       "      <td>0</td>\n",
       "      <td>0</td>\n",
       "      <td>0</td>\n",
       "      <td>0</td>\n",
       "      <td>0</td>\n",
       "      <td>0</td>\n",
       "    </tr>\n",
       "    <tr>\n",
       "      <th>1</th>\n",
       "      <td>0</td>\n",
       "      <td>0</td>\n",
       "      <td>0</td>\n",
       "      <td>0</td>\n",
       "      <td>0</td>\n",
       "      <td>0</td>\n",
       "      <td>0</td>\n",
       "      <td>0</td>\n",
       "      <td>0</td>\n",
       "      <td>0</td>\n",
       "      <td>...</td>\n",
       "      <td>0</td>\n",
       "      <td>0</td>\n",
       "      <td>0</td>\n",
       "      <td>0</td>\n",
       "      <td>0</td>\n",
       "      <td>0</td>\n",
       "      <td>0</td>\n",
       "      <td>0</td>\n",
       "      <td>0</td>\n",
       "      <td>0</td>\n",
       "    </tr>\n",
       "    <tr>\n",
       "      <th>2</th>\n",
       "      <td>0</td>\n",
       "      <td>0</td>\n",
       "      <td>0</td>\n",
       "      <td>0</td>\n",
       "      <td>0</td>\n",
       "      <td>0</td>\n",
       "      <td>0</td>\n",
       "      <td>0</td>\n",
       "      <td>0</td>\n",
       "      <td>0</td>\n",
       "      <td>...</td>\n",
       "      <td>0</td>\n",
       "      <td>0</td>\n",
       "      <td>0</td>\n",
       "      <td>0</td>\n",
       "      <td>0</td>\n",
       "      <td>0</td>\n",
       "      <td>0</td>\n",
       "      <td>0</td>\n",
       "      <td>0</td>\n",
       "      <td>0</td>\n",
       "    </tr>\n",
       "    <tr>\n",
       "      <th>3</th>\n",
       "      <td>0</td>\n",
       "      <td>0</td>\n",
       "      <td>0</td>\n",
       "      <td>0</td>\n",
       "      <td>0</td>\n",
       "      <td>0</td>\n",
       "      <td>0</td>\n",
       "      <td>0</td>\n",
       "      <td>0</td>\n",
       "      <td>0</td>\n",
       "      <td>...</td>\n",
       "      <td>0</td>\n",
       "      <td>0</td>\n",
       "      <td>0</td>\n",
       "      <td>0</td>\n",
       "      <td>0</td>\n",
       "      <td>0</td>\n",
       "      <td>0</td>\n",
       "      <td>0</td>\n",
       "      <td>0</td>\n",
       "      <td>0</td>\n",
       "    </tr>\n",
       "    <tr>\n",
       "      <th>4</th>\n",
       "      <td>0</td>\n",
       "      <td>0</td>\n",
       "      <td>0</td>\n",
       "      <td>0</td>\n",
       "      <td>0</td>\n",
       "      <td>0</td>\n",
       "      <td>0</td>\n",
       "      <td>0</td>\n",
       "      <td>0</td>\n",
       "      <td>0</td>\n",
       "      <td>...</td>\n",
       "      <td>0</td>\n",
       "      <td>0</td>\n",
       "      <td>0</td>\n",
       "      <td>0</td>\n",
       "      <td>0</td>\n",
       "      <td>0</td>\n",
       "      <td>0</td>\n",
       "      <td>0</td>\n",
       "      <td>0</td>\n",
       "      <td>0</td>\n",
       "    </tr>\n",
       "    <tr>\n",
       "      <th>...</th>\n",
       "      <td>...</td>\n",
       "      <td>...</td>\n",
       "      <td>...</td>\n",
       "      <td>...</td>\n",
       "      <td>...</td>\n",
       "      <td>...</td>\n",
       "      <td>...</td>\n",
       "      <td>...</td>\n",
       "      <td>...</td>\n",
       "      <td>...</td>\n",
       "      <td>...</td>\n",
       "      <td>...</td>\n",
       "      <td>...</td>\n",
       "      <td>...</td>\n",
       "      <td>...</td>\n",
       "      <td>...</td>\n",
       "      <td>...</td>\n",
       "      <td>...</td>\n",
       "      <td>...</td>\n",
       "      <td>...</td>\n",
       "      <td>...</td>\n",
       "    </tr>\n",
       "    <tr>\n",
       "      <th>1594</th>\n",
       "      <td>0</td>\n",
       "      <td>0</td>\n",
       "      <td>0</td>\n",
       "      <td>0</td>\n",
       "      <td>0</td>\n",
       "      <td>0</td>\n",
       "      <td>0</td>\n",
       "      <td>0</td>\n",
       "      <td>0</td>\n",
       "      <td>0</td>\n",
       "      <td>...</td>\n",
       "      <td>0</td>\n",
       "      <td>0</td>\n",
       "      <td>0</td>\n",
       "      <td>0</td>\n",
       "      <td>0</td>\n",
       "      <td>0</td>\n",
       "      <td>0</td>\n",
       "      <td>0</td>\n",
       "      <td>0</td>\n",
       "      <td>0</td>\n",
       "    </tr>\n",
       "    <tr>\n",
       "      <th>1595</th>\n",
       "      <td>0</td>\n",
       "      <td>0</td>\n",
       "      <td>0</td>\n",
       "      <td>0</td>\n",
       "      <td>0</td>\n",
       "      <td>0</td>\n",
       "      <td>0</td>\n",
       "      <td>0</td>\n",
       "      <td>0</td>\n",
       "      <td>0</td>\n",
       "      <td>...</td>\n",
       "      <td>0</td>\n",
       "      <td>0</td>\n",
       "      <td>0</td>\n",
       "      <td>0</td>\n",
       "      <td>0</td>\n",
       "      <td>0</td>\n",
       "      <td>0</td>\n",
       "      <td>0</td>\n",
       "      <td>0</td>\n",
       "      <td>0</td>\n",
       "    </tr>\n",
       "    <tr>\n",
       "      <th>1596</th>\n",
       "      <td>0</td>\n",
       "      <td>0</td>\n",
       "      <td>0</td>\n",
       "      <td>0</td>\n",
       "      <td>0</td>\n",
       "      <td>0</td>\n",
       "      <td>0</td>\n",
       "      <td>0</td>\n",
       "      <td>0</td>\n",
       "      <td>0</td>\n",
       "      <td>...</td>\n",
       "      <td>0</td>\n",
       "      <td>0</td>\n",
       "      <td>0</td>\n",
       "      <td>0</td>\n",
       "      <td>0</td>\n",
       "      <td>0</td>\n",
       "      <td>0</td>\n",
       "      <td>0</td>\n",
       "      <td>0</td>\n",
       "      <td>0</td>\n",
       "    </tr>\n",
       "    <tr>\n",
       "      <th>1597</th>\n",
       "      <td>0</td>\n",
       "      <td>0</td>\n",
       "      <td>0</td>\n",
       "      <td>0</td>\n",
       "      <td>0</td>\n",
       "      <td>0</td>\n",
       "      <td>0</td>\n",
       "      <td>0</td>\n",
       "      <td>0</td>\n",
       "      <td>0</td>\n",
       "      <td>...</td>\n",
       "      <td>0</td>\n",
       "      <td>0</td>\n",
       "      <td>0</td>\n",
       "      <td>0</td>\n",
       "      <td>0</td>\n",
       "      <td>0</td>\n",
       "      <td>0</td>\n",
       "      <td>0</td>\n",
       "      <td>0</td>\n",
       "      <td>0</td>\n",
       "    </tr>\n",
       "    <tr>\n",
       "      <th>1598</th>\n",
       "      <td>0</td>\n",
       "      <td>0</td>\n",
       "      <td>0</td>\n",
       "      <td>0</td>\n",
       "      <td>0</td>\n",
       "      <td>0</td>\n",
       "      <td>0</td>\n",
       "      <td>0</td>\n",
       "      <td>0</td>\n",
       "      <td>0</td>\n",
       "      <td>...</td>\n",
       "      <td>0</td>\n",
       "      <td>0</td>\n",
       "      <td>0</td>\n",
       "      <td>0</td>\n",
       "      <td>0</td>\n",
       "      <td>0</td>\n",
       "      <td>0</td>\n",
       "      <td>0</td>\n",
       "      <td>0</td>\n",
       "      <td>0</td>\n",
       "    </tr>\n",
       "  </tbody>\n",
       "</table>\n",
       "<p>1599 rows × 7000 columns</p>\n",
       "</div>"
      ],
      "text/plain": [
       "      000  000 000  000 lg  000 nits  000 option  0017  01  02  03  04  ...  \\\n",
       "0       0        0       0         0           0     0   0   0   0   0  ...   \n",
       "1       0        0       0         0           0     0   0   0   0   0  ...   \n",
       "2       0        0       0         0           0     0   0   0   0   0  ...   \n",
       "3       0        0       0         0           0     0   0   0   0   0  ...   \n",
       "4       0        0       0         0           0     0   0   0   0   0  ...   \n",
       "...   ...      ...     ...       ...         ...   ...  ..  ..  ..  ..  ...   \n",
       "1594    0        0       0         0           0     0   0   0   0   0  ...   \n",
       "1595    0        0       0         0           0     0   0   0   0   0  ...   \n",
       "1596    0        0       0         0           0     0   0   0   0   0  ...   \n",
       "1597    0        0       0         0           0     0   0   0   0   0  ...   \n",
       "1598    0        0       0         0           0     0   0   0   0   0  ...   \n",
       "\n",
       "      youtuber  yzi_75tboxrkbrnofoxym  yzi_75tboxrkbrnofoxym edit  z_oyx5gj4o  \\\n",
       "0            0                      0                           0           0   \n",
       "1            0                      0                           0           0   \n",
       "2            0                      0                           0           0   \n",
       "3            0                      0                           0           0   \n",
       "4            0                      0                           0           0   \n",
       "...        ...                    ...                         ...         ...   \n",
       "1594         0                      0                           0           0   \n",
       "1595         0                      0                           0           0   \n",
       "1596         0                      0                           0           0   \n",
       "1597         0                      0                           0           0   \n",
       "1598         0                      0                           0           0   \n",
       "\n",
       "      z_oyx5gj4o yzi_75tboxrkbrnofoxym  zelda  zero  zero dawn  zombies  zone  \n",
       "0                                    0      0     0          0        0     0  \n",
       "1                                    0      0     0          0        0     0  \n",
       "2                                    0      0     0          0        0     0  \n",
       "3                                    0      0     0          0        0     0  \n",
       "4                                    0      0     0          0        0     0  \n",
       "...                                ...    ...   ...        ...      ...   ...  \n",
       "1594                                 0      0     0          0        0     0  \n",
       "1595                                 0      0     0          0        0     0  \n",
       "1596                                 0      0     0          0        0     0  \n",
       "1597                                 0      0     0          0        0     0  \n",
       "1598                                 0      0     0          0        0     0  \n",
       "\n",
       "[1599 rows x 7000 columns]"
      ]
     },
     "execution_count": 12,
     "metadata": {},
     "output_type": "execute_result"
    }
   ],
   "source": [
    "pd.DataFrame(X_train_cvec.toarray(), columns=cvec.get_feature_names())"
   ]
  },
  {
   "cell_type": "code",
   "execution_count": 147,
   "id": "272b9719",
   "metadata": {
    "scrolled": true
   },
   "outputs": [
    {
     "name": "stdout",
     "output_type": "stream",
     "text": [
      "['000', '000 000', '000 lg', '000 nits', '000 option', '0017', '01', '02', '03', '04', '05', '06', '07', '09', '09 ps5', '0pawuta', '0pawuta png', '0x8027025a', '10', '10 000', '10 15', '10 clicks', '10 hours', '10 https', '10 minutes', '10 xbox', '10 year', '10 years', '100', '100 hdr', '100 recommended', '100gb', '104', '1080', '1080 amp', '1080p', '1080p 120', '1080p 120hz', '1080p ps5', '10th', '11', '11 09', '11 22', '11 https', '1100', '1100 sony', '11th', '12', '12 month', '12 months', '12 years', '120', '120 fps', '120 year', '120fps', '120hz', '120hz 1080p', '120hz ai', '120hz does', '120hz ps5', '120hz screen', '120hz vrr', '120hz xbox', '12th', '13', '13 22', '13th', '14', '14 clicks', '1440p', '1440p 144hz', '1440p monitor', '1440p using', '144hz', '144hz monitor', '14th', '15', '15 hours', '15 min', '15 minutes', '15 years', '1500', '16', '1600', '1600 amp', '175', '17th', '18', '180', '18th', '19', '19th', '1b', '1b 2017', '1b dtm', '1b https', '1d62pgcvpfoqn3mh_j11pywh1thf', '1d62pgcvpfoqn3mh_j11pywh1thf jpou5chlb9tvzdi', '1dkwavl6b5ehh9ylqfkbqld08rhqncdmeiwnm4j3x6hw', '1dkwavl6b5ehh9ylqfkbqld08rhqncdmeiwnm4j3x6hw edit', '1giozspyht8ogngaoxggxi3hzxmmn8wdbokzrzxyuz', '1giozspyht8ogngaoxggxi3hzxmmn8wdbokzrzxyuz edit', '1j1arpz_oojp2k3oeogb7eou7nrpjlklxpec6ki5yguk', '1j1arpz_oojp2k3oeogb7eou7nrpjlklxpec6ki5yguk edit', '1j7ov1kkmra', '1j7ov1kkmra z_oyx5gj4o', '1khy0y', '1khy0y 5dzfkmj8xl2xrnogqsx6ffp04idd5gv_f699y', '1st', '1st person', '1tb', '1tb console', '1zvud2tue', '1zvud2tue gyqjucpw3ppaotz', '20', '20 20ask', '20 26', '20 30', '20 gb', '20 minutes', '20 pre', '20 seconds', '20 years', '200', '200 nits', '2015', '2016', '2017', '2017 2022', '2017 hdr', '2017 lg', '2017 oled', '2017 series', '2018', '2018 oled', '2019', '2019 2022', '2019 amp', '2020', '2020 11', '2021', '2022', '2022 07', '2022 hdr', '2022 lg', '2022 oled', '2022 oleds', '2022 release', '2023', '2042', '2077', '2077 https', '20about', '20about 20all', '20all', '20all 20things', '20ask', '20ask 20about', '20help', '20help 20', '20ps5', '20ps5 amp', '20questions', '20questions 20thread', '20th', '20things', '20things 20ps5', '20thread', '20thread 20', '20thread amp', '21', '21ms', '21ms based', '21st', '22', '220', '23', '24', '25', '25 clicks', '250', '25833fa454bf700add3f3a3b96d07faf8d8112ce', '25833fa454bf700add3f3a3b96d07faf8d8112ce twitter', '26', '26 20questions', '27', '27th', '28', '28th', '2fps5', '2fps5 amp', '2fr', '2fr 2fps5', '2k', '2k22', '2nd', '2tb', '30', '30 fps', '30 seconds', '300', '30fps', '32', '323', '323 amp', '33', '35', '360', '360 disc', '360 game', '360 games', '360 slim', '360 titles', '3d', '3d audio', '3rd', '3rd party', '40', '400', '40fps', '43', '45', '48', '49', '4k', '4k 120hz', '4k 60', '4k ps5', '4k tv', '4k uhd', '4k60', '4ktvdealsus', '4ms', '4ms 21ms', '50', '50 100', '500', '54', '54 clicks', '55', '55 set', '5dzfkmj8xl2xrnogqsx6ffp04idd5gv_f699y', '5dzfkmj8xl2xrnogqsx6ffp04idd5gv_f699y edit', '5ghz', '5mm', '60', '60 55', '60 fps', '60 new', '600', '60fps', '60hz', '614', '614 amp', '63874267', '63874267 red', '63874529', '63874529 knack', '63907049', '63907049 mafia', '63907256', '63907256 cyberpunk', '63907497', '63907497 flight', '63907646', '63907646 marvel', '63907811', '63907811 forza', '63908018', '63908018 horizon', '63908426', '63908426 fallout', '63908699', '63908699 horizon', '63909824', '63909824 gran', '63957377', '63957377 public', '64657339', '64657339 ori', '64657447', '64657447 ghost', '64696138', '64696138 godfall', '64696429', '64696429 death', '64696823', '64696823 tom', '64835129', '64835129 guardian', '64835412', '64835412 life', '64875968', '64875968 sekiro', '65', '65 inch', '65322374', '65322374 star', '65322784', '65322971', '65322971 infamous', '65323224', '65323224 errore', '65323430', '65323430 tiny', '65323578', '65323578 mortal', '65323896', '65323896 god', '65410280', '65410280 ghostrunner', '65411022', '65411022 nioh', '65411133', '65411133 duty', '65411234', '65411234 duty', '65661136', '65661136 far', '65661254', '65661254 ratchet', '65661368', '65661368 chernobylite', '65890750', '65890750 man', '66190011', '66190011 crysis', '66777370', '66777370 halo', '66790368', '66790368 outriders', '66918699', '66918699 star', '67072149', '67072149 just', '67390904', '67390904 final', '67675871', '67675871 public', '68309490', '68309490 dolby', '68354628', '68354628 unlock', '68768852', '68768852 dramatically', '69076578', '69076578 example', '70', '700', '703', '703 lg', '720p', '73304', '73304 post', '74', '75', '76', '76 https', '77', '796', '796 99', '7p', '7th', '7x', '80', '800', '800 800', '800 hgig', '800 nits', '822356860', '822356860 playstation', '87028631', '87028631 change', '8th', '90', '900mbps', '91', '96', '99', '99 prime', '9th', '_cannot', '_cannot copy', '_note_', '_note_ try', 'a40', 'a80j', 'a80j 65', 'aaa', 'aaa games', 'abandoned', 'abilities', 'ability', 'able', 'able add', 'able answer', 'able buy', 'able change', 'able help', 'able install', 'able play', 'able preorder', 'able secure', 'able update', 'able use', 'able watch', 'absolute', 'absolutely', 'absolutely stunning', 'abuse', 'ac', 'ac game', 'ac origins', 'ac valhalla', 'academy', 'accept', 'accepted', 'accepting', 'access', 'access game', 'accessibility', 'accessibility option', 'accessible', 'accessories', 'accessories amp', 'accessories discord', 'accident', 'accidentally', 'according', 'account', 'account able', 'account connected', 'account console', 'account did', 'account email', 'account friend', 'account just', 'account log', 'account logged', 'account new', 'account play', 'account ps5', 'account series', 'account way', 'account xbox', 'accounts', 'accounts subscription', 'accurate', 'accurate image', 'achievement', 'achievement unlocked', 'achievements', 'achievements trailer', 'acknowledge', 'acquired', 'acquisition', 'act', 'acted', 'acting', 'action', 'action adventure', 'actions', 'activate', 'active', 'activision', 'activities', 'activity', 'acts', 'acts like', 'actual', 'actually', 'actually buy', 'actually versus', 'ad', 'ad indie', 'adapter', 'adaptive', 'adaptive triggers', 'add', 'add ons', 'add year', 'added', 'added wiki', 'addiction', 'adding', 'addition', 'additional', 'additionally', 'additions', 'additions removals', 'address', 'adds', 'adjust', 'adjust hdr', 'adjusted', 'adult', 'advance', 'advanced', 'advanced options', 'advantage', 'advantage new', 'adventure', 'adventure game', 'adventure style', 'adventures', 'advertise', 'advertised', 'advice', 'advice appreciated', 'advise', 'aesthetic', 'af', 'affect', 'afford', 'afford new', 'affordable', 'afraid', 'afraid damaged', 'afternoon', 'age', 'aged', 'agent', 'ages', 'ago', 'ago game', 'ago got', 'ago just', 'ago noticed', 'ago ps4', 'ago ps5', 'ago really', 'ago started', 'ago think', 'ago ve', 'ago want', 'agree', 'ahead', 'ai', 'ai powered', 'aid', 'aim', 'aiming', 'air', 'airborne', 'airport', 'alcohol', 'aliasing', 'aliens', 'aliens fireteam', 'alike', 'alive', 'allow', 'allow play', 'allowed', 'allowing', 'allows', 'alot', 'alot games', 'alot people', 'aloy', 'alpha', 'alright', 'alt', 'altered', 'altered carbon', 'alternate', 'alternatives', 'amas', 'amas discussion', 'amazing', 'amazing games', 'amazing graphics', 'amazing way', 'amazon', 'amazon controller', 'amazon prime', 'america', 'american', 'american wasteland', 'amp', 'amp 25833fa454bf700add3f3a3b96d07faf8d8112ce', 'amp analysis', 'amp auto', 'amp download', 'amp format', 'amp premium', 'amp ps4', 'amp restrict_sr', 'amp series', 'amp sort', 'amp subject', 'amp tvs', 'amp useful', 'amp warzone', 'amp x200b', 'analog', 'analog sticks', 'analysis', 'analysis yeah', 'ancient', 'andromeda', 'andromeda https', 'angles', 'angry', 'animals', 'animated', 'animation', 'animations', 'animations changes', 'anniversary', 'announce', 'announced', 'annoyed', 'annoying', 'annoying people', 'answer', 'answer help', 'answer questions', 'answered', 'answered official', 'answering', 'answers', 'answers looking', 'anti', 'antitrust', 'anxiety', 'anybody', 'anybody having', 'anybody issue', 'anybody know', 'anybody use', 'anymore', 'anymore won', 'anytime', 'anytime soon', 'anytime try', 'anyways', 'apart', 'apart https', 'apartment', 'ape', 'apex', 'apex legends', 'apologies', 'apologies post', 'apologize', 'app', 'app does', 'app hdmi1', 'app launch', 'app lg', 'app need', 'app separate', 'app tv', 'app ve', 'app way', 'apparently', 'appear', 'appeared', 'appearing', 'appears', 'apple', 'application', 'apply', 'apply following', 'apply optimized', 'apply overall', 'appreciate', 'appreciate help', 'appreciated', 'appreciated thank', 'appreciated thanks', 'appreciative', 'appropriate', 'approved', 'apps', 'apps available', 'apps netflix', 'apps settings', 'april', 'arcade', 'arcade game', 'arch', 'architecture', 'arctis', 'arctis 7p', 'arctis 7x', 'area', 'areas', 'aren', 'arena', 'arent', 'argos', 'arguing', 'arguments', 'arise', 'ark', 'arkham', 'arpg', 'array', 'arrival', 'arrive', 'arrived', 'arrives', 'arriving', 'art', 'art collections', 'art style', 'article', 'articles', 'artifacts', 'artist', 'artists', 'artwork', 'aside', 'ask', 'ask create', 'ask just', 'ask look', 'asked', 'asking', 'asking ask', 'askplaystation', 'askplaystation official', 'askplaystation restore', 'asks', 'asleep', 'aspect', 'ass', 'assassin', 'assassin creed', 'assist', 'assume', 'assumed', 'assuming', 'astro', 'astro a40', 'astro playroom', 'astros', 'astros playroom', 'asus', 'asus tuf', 'aswell', 'atleast', 'atm', 'atmos', 'atmos set', 'atmosphere', 'attach', 'attached', 'attachments', 'attempt', 'attempted', 'attempting', 'attempts', 'attention', 'au', 'audio', 'audio fine', 'audio voices', 'audio works', 'august', 'australia', 'auto', 'auto hdr', 'auto remastered', 'auto renew', 'auto upload', 'auto webp', 'automatic', 'automatically', 'aux', 'avail', 'available', 'available game', 'available playstation', 'available ps5', 'available right', 'available usually', 'available xbox', 'avengers', 'avengers https', 'average', 'average variance', 'avoid', 'avoid variance', 'aware', 'away', 'away free', 'away way', 'awesome', 'awful', 'awhile', 'b7', 'b7 c7', 'background', 'background set', 'background ve', 'backing', 'backstory', 'backward', 'backward compatible', 'backwards', 'backwards compatibility', 'backwards compatible', 'bad', 'bad english', 'bad things', 'baffled', 'balance', 'ball', 'band', 'bandicoot', 'bandwidth', 'bank', 'bank account', 'banned', 'bar', 'barely', 'barely played', 'barrier', 'base', 'base game', 'base xbox', 'based', 'based games', 'based model', 'basement', 'basic', 'basically', 'basically title', 'basis', 'batman', 'batman arkham', 'batteries', 'battery', 'battery life', 'battery low', 'battery pack', 'battlefield', 'battlefield 2042', 'battlefield game', 'battlefield https', 'battlefront', 'battlefront https', 'battlegrounds', 'battlegrounds https', 'bc', 'beach', 'beach recon', 'beach stealth', 'bear', 'beat', 'beaten', 'beating', 'beautiful', 'bed', 'bedroom', 'beep', 'begin', 'beginning', 'begrudgingly', 'behaviour', 'behemoth', 'believe', 'believe faulty', 'bell', 'benefit', 'benefits', 'best', 'best buy', 'best deals', 'best game', 'best games', 'best pq', 'best series', 'best way', 'bestbuy', 'bet', 'bet stellar', 'beta', 'bethesda', 'better', 'better console', 'better game', 'better type', 'better way', 'bf', 'bias', 'bias trending', 'big', 'big deal', 'big difference', 'big fan', 'bigger', 'biggest', 'billing', 'billion', 'bills', 'biome', 'biomes', 'bioshock', 'bioware', 'birthday', 'bit', 'bit bullet', 'bit like', 'bit weird', 'black', 'black ops', 'black screen', 'blame', 'blank', 'blast', 'blew', 'blink', 'blocked', 'blog', 'blog playstation', 'blood', 'bloodborne', 'blowing', 'blown', 'blown away', 'blu', 'blu ray', 'blu rays', 'blue', 'bluetooth', 'blur', 'blurry', 'board', 'bonus', 'boom', 'boost', 'boosts', 'boot', 'boot game', 'booted', 'booting', 'boots', 'borderlands', 'borderlands https', 'bored', 'boring', 'borrow', 'boss', 'boss fight', 'bosses', 'bother', 'bots', 'bought', 'bought console', 'bought digital', 'bought game', 'bought new', 'bought ps', 'bought ps5', 'bought series', 'bought trial', 'bought used', 'bought xbox', 'box', 'box just', 'box tried', 'boys', 'brain', 'branching', 'branching narrative', 'brand', 'brand new', 'bravia', 'bravia xr', 'break', 'breakdown', 'breaker', 'breaking', 'breakpoint', 'breakpoint https', 'breaks', 'breath', 'breathe', 'brick', 'brick wall', 'bricked', 'bridge', 'bridge spirits', 'bright', 'brightness', 'brightness slider', 'bring', 'bring tint', 'bringing', 'brings', 'brio', 'brio 4k', 'broadband', 'broke', 'broken', 'broken bit', 'broken ps5', 'bros', 'brother', 'brother play', 'brothers', 'brothers ps5', 'brought', 'brought ps5', 'browse', 'browser', 'browsing', 'bs', 'bt', 'btw', 'bubble', 'bubble wrap', 'bucks', 'buddies', 'budget', 'bug', 'buggy', 'bugs', 'build', 'build quality', 'building', 'buildings', 'builds', 'built', 'built apps', 'built like', 'bullet', 'bullshit', 'bummed', 'bumper', 'bumpers', 'bunch', 'bunch games', 'bundle', 'bundled', 'bundles', 'burned', 'burst', 'business', 'busy', 'butter', 'button', 'button console', 'button controller', 'button doesn', 'button just', 'button presses', 'button remapping', 'button usual', 'buttons', 'buttons stop', 'buttons working', 'buy', 'buy 400', 'buy amp', 'buy box', 'buy brand', 'buy game', 'buy games', 'buy like', 'buy monitor', 'buy new', 'buy ps', 'buy ps4', 'buy ps5', 'buy right', 'buy series', 'buy ve', 'buy xbox', 'buying', 'buying games', 'buying monitor', 'buying new', 'buying xbox', 'buys', 'bye', 'c1', 'c1 48', 'c1 c2', 'c1 oled', 'c2', 'c2 set', 'c7', 'c7 e7', 'c7 set', 'c8', 'c8 c9', 'c9', 'c9 cx', 'ca', 'cable', 'cable connected', 'cable doesn', 'cable hdmi', 'cable says', 'cable tried', 'cable using', 'cables', 'cache', 'cad', 'calibrate', 'calibrate example', 'calibrated', 'calibrated games', 'calibrated hdr', 'calibrating', 'calibrating example', 'calibration', 'calibration exception', 'calibration https', 'calibration results', 'calibration setup', 'calibration webos', 'calibration xbox', 'called', 'called local', 'calling', 'calls', 'came', 'came ps5', 'came series', 'camera', 'campaign', 'campaigns', 'canada', 'cancel', 'cancel order', 'cancel preorder', 'cancelled', 'cancelling', 'cap', 'capabilities', 'capability', 'capable', 'capacity', 'capcom', 'capital', 'capped', 'capture', 'capture card', 'captures', 'car', 'carbon', 'carbon webos', 'card', 'card card', 'cards', 'care', 'career', 'carefully', 'cares', 'carry', 'cars', 'case', 'cases', 'cases reason', 'cash', 'castle', 'casual', 'casual gameplay', 'casual gamer', 'casually', 'cat', 'catalog', 'catalogue', 'catch', 'categories', 'category', 'caught', 'caught attention', 'caught eye', 'cause', 'cause https', 'caused', 'causes', 'causing', 'cautious', 'cd', 'cdkeys', 'ce', 'celsius', 'center', 'centre', 'centric', 'centric communities', 'certain', 'certain games', 'certain time', 'certain way', 'challenge', 'challenges', 'challenging', 'chance', 'change', 'change hdmi', 'change oled', 'change video', 'changed', 'changes', 'changes proceed', 'changes sdr', 'changing', 'channel', 'channels', 'channels chat', 'channels discord', 'channels media', 'chapter', 'character', 'characters', 'charge', 'charged', 'charger', 'charging', 'charging controller', 'charging station', 'chart', 'chart 2019', 'chart use', 'chat', 'chat fellow', 'chats', 'cheap', 'cheaper', 'check', 'check games', 'check upper', 'checked', 'checking', 'checkpoint', 'cheers', 'cheers note', 'chief', 'china', 'chip', 'choice', 'choices', 'choose', 'choosing', 'choppy', 'choppy unplayable', 'chose', 'chroma', 'chroma subsampling', 'cinema', 'cinema 2017', 'cinema gaming', 'circle', 'cities', 'city', 'claim', 'claimed', 'clancy', 'clancy division', 'clancy ghost', 'clank', 'clank rift', 'clarify', 'class', 'class action', 'classic', 'classics', 'clean', 'clean fantastic', 'clean xbox', 'cleaned', 'cleaned dust', 'cleaned fan', 'cleaned ps5', 'cleaning', 'clear', 'clear answer', 'clear cache', 'cleared', 'cleared blu', 'cleared cache', 'clearing', 'clearing cache', 'clearly', 'click', 'click adventure', 'click game', 'click https', 'click perks', 'clicked', 'clicked button', 'clicking', 'clicks', 'clicks starting', 'clicks way', 'climb', 'climbing', 'clip', 'clips', 'clockwise', 'close', 'close price', 'closed', 'closer', 'closes', 'closing', 'cloud', 'cloud gaming', 'cloud save', 'clue', 'clues', 'cms', 'cms wb', 'coast', 'cod', 'cod games', 'cod4', 'code', 'code 3khgv', 'code database', 'code dont', 'code im', 'codes', 'codes non', 'cold', 'cold war', 'collect', 'collected', 'collecting', 'collection', 'collection https', 'collections', 'collections help', 'collective', 'collectors', 'collegamento', 'collegamento ipertestuale', 'college', 'college dorm', 'colony', 'color', 'color value', 'colors', 'colors https', 'colossus', 'colossus remake', 'colour', 'com', 'com 0pawuta', 'com 2020', 'com 2022', 'com 4ktvdealsus', 'com articles', 'com askplaystation', 'com au', 'com business', 'com document', 'com en', 'com en_us', 'com game', 'com games', 'com gaming', 'com hoziogq', 'com https', 'com message', 'com news', 'com or3pquc', 'com playstation', 'com posts', 'com ps5', 'com reddit', 'com redditps', 'com search', 'com spreadsheets', 'com techoptimized', 'com threads', 'com watch', 'com wfwumtw', 'com xbox', 'combat', 'combination', 'combination forget', 'come', 'come home', 'comes', 'comfort', 'comfortable', 'coming', 'coming ps4', 'command', 'comment', 'comments', 'comments discord', 'comments ou5lam', 'committee', 'common', 'common issue', 'common problem', 'communication', 'communities', 'communities https', 'communities let', 'communities particular', 'communities ps5', 'communities reddit', 'community', 'community help', 'community list', 'community vast', 'companies', 'companies like', 'companion', 'companion app', 'company', 'comparable', 'compare', 'compared', 'compared default', 'comparing', 'comparison', 'comparison ps5', 'compatibility', 'compatibility games', 'compatible', 'compatible 2017', 'compatible games', 'compatible ps4', 'compelling', 'compete', 'competition', 'competitive', 'competitive online', 'complain', 'complaining', 'complaints', 'complete', 'completed', 'completed game', 'completely', 'completely lost', 'completely new', 'completely power', 'completely shut', 'completing', 'complex', 'compose', 'compose 2fr', 'compressed', 'computer', 'computing', 'concept', 'concerned', 'condition', 'confirm', 'confirm ok', 'confirmation', 'confirmed', 'conflicted', 'confused', 'confusing', 'connect', 'connect internet', 'connect just', 'connect pc', 'connect series', 'connect xbox', 'connected', 'connected controller', 'connected internet', 'connected lan', 'connected usb', 'connected xbox', 'connecting', 'connection', 'connection isn', 'connection speed', 'connectivity', 'connector', 'connects', 'cons', 'consider', 'considering', 'consistency', 'consistent', 'consistently', 'console', 'console backwards', 'console bought', 'console does', 'console exclusives', 'console fine', 'console games', 'console generation', 'console gets', 'console https', 'console just', 'console microsoft', 'console obvious', 'console open', 'console pc', 'console playing', 'console router', 'console sharing', 'console terms', 'console thank', 'console thanks', 'console times', 'console tvs', 'console update', 'console using', 'console ve', 'console version', 'console wanted', 'console war', 'console wars', 'console won', 'consoles', 'consoles going', 'consoles support', 'consoles way', 'constant', 'constant connection', 'constantly', 'consumer', 'contact', 'contact microsoft', 'contact playstation', 'contact sony', 'contact support', 'contacted', 'contacted microsoft', 'contacted sony', 'contacting', 'contacting playstation', 'contacting sony', 'content', 'content combination', 'content drop', 'content prefer', 'content start', 'content want', 'contents', 'contents share', 'context', 'continue', 'continued', 'continues', 'continuous', 'continuously', 'contrast', 'contrast set', 'control', 'controller', 'controller amp', 'controller batteries', 'controller button', 'controller buy', 'controller came', 'controller color', 'controller default', 'controller disconnects', 'controller does', 'controller doesn', 'controller feels', 'controller issue', 'controller just', 'controller looking', 'controller normal', 'controller ps5', 'controller really', 'controller replaced', 'controller soon', 'controller starts', 'controller turn', 'controller use', 'controller ve', 'controller way', 'controller work', 'controller working', 'controller works', 'controller xbox', 'controller year', 'controllers', 'controllers like', 'controllers work', 'controllers xbox', 'controls', 'convenient', 'conversation', 'conversation convince', 'conversations', 'convert', 'convince', 'convince characters', 'cool', 'cooling', 'coop', 'cooper', 'cooperative', 'copies', 'copy', 'copy paste', 'copy pasted', 'copying', 'cord', 'core', 'corner', 'corner 000', 'corner screen', 'correct', 'correctly', 'correctly calibrated', 'corrupted', 'corruption', 'corsair', 'corsair hs75', 'cosplay', 'cosplay fan', 'cost', 'costs', 'couch', 'couch op', 'couldn', 'couldn play', 'couldn ps5', 'count', 'countries', 'country', 'couple', 'couple days', 'couple games', 'couple hours', 'couple months', 'couple weeks', 'couple years', 'course', 'cousin', 'cover', 'covers', 'cpu', 'cq7cr', 'cq7cr fvdkg', 'crack', 'cracking', 'crafted', 'crap', 'crash', 'crash bandicoot', 'crashed', 'crashes', 'crazy', 'create', 'create account', 'create new', 'created', 'creating', 'creating new', 'creative', 'credit', 'credit account', 'credit card', 'creed', 'creed odyssey', 'creed origins', 'creed valhalla', 'crew', 'cried', 'crime', 'critic', 'critic reviews', 'critical', 'criticise', 'criticise monthly', 'cronus', 'cross', 'crucial', 'crysis', 'crysis remastered', 'cube', 'curated', 'curated optimized', 'curious', 'curious guys', 'currency', 'current', 'current gen', 'currently', 'currently installing', 'currently playing', 'currently using', 'curved', 'custom', 'customer', 'customer service', 'customer support', 'customers', 'customization', 'customization features', 'cut', 'cuts', 'cutscenes', 'cutting', 'cx', 'cx c1', 'cyberpunk', 'cyberpunk 2077', 'cycle', 'cycling', 'dad', 'daily', 'damage', 'damage console', 'damaged', 'damn', 'damn game', 'dark', 'dark presets', 'dark souls', 'dark washed', 'darlings', 'darlings devolver', 'dash', 'dashboard', 'dashboard home', 'dashboard inputs', 'data', 'data ps4', 'data ps5', 'data transfer', 'database', 'database https', 'database rebuild', 'date', 'dated', 'david', 'dawn', 'dawn https', 'daxter', 'day', 'day console', 'day gamers', 'day got', 'day maybe', 'daylight', 'days', 'days ago', 'days gone', 'days later', 'days ll', 'days problem', 'days ve', 'days xbox', 'dc', 'ddr', 'deactivate', 'deactivating', 'dead', 'dead daylight', 'dead game', 'dead just', 'dead online', 'dead options', 'dead redemption', 'dead space', 'deal', 'deal breaker', 'dealing', 'dealing issue', 'deals', 'deals ps5', 'deals ps5deals', 'dealt', 'death', 'death stranding', 'deathloop', 'deathloop hdr', 'deathloop https', 'debating', 'debut', 'decade', 'december', 'decent', 'decide', 'decide buy', 'decide play', 'decided', 'decided buy', 'decided just', 'decided try', 'deciding', 'decision', 'decisions', 'deep', 'deep rock', 'deeply', 'default', 'default faq', 'default presets', 'default stock', 'definitely', 'definitive', 'definitive answers', 'definitive edition', 'degrees', 'degrees celsius', 'delay', 'delays', 'delete', 'delete account', 'delete game', 'delete xbox', 'deleted', 'deleting', 'deleting games', 'delivered', 'delivery', 'delivery date', 'deluxe', 'demand', 'demo', 'demo hdr', 'demon', 'demon souls', 'demons', 'demons souls', 'demos', 'denied', 'depending', 'depth', 'description', 'desert', 'design', 'design lab', 'designed', 'designs', 'desk', 'desperate', 'desperately', 'despite', 'despite having', 'destiny', 'destiny game', 'destiny https', 'destroy', 'destructible', 'detailed', 'details', 'detective', 'determined', 'detroit', 'detroit human', 'deus', 'deus ex', 'dev', 'dev relation', 'devastated', 'developed', 'developed housemarque', 'developer', 'developer publisher', 'developers', 'developing', 'development', 'device', 'devices', 'devices like', 'devices order', 'devil', 'devil https', 'devolver', 'devolver digital', 'devolver safe', 'devon', 'diablo', 'dialogue', 'diamond', 'did', 'did charged', 'did factory', 'did hard', 'did just', 'did play', 'did right', 'did say', 'did think', 'did want', 'did work', 'didn', 'didn believe', 'didn expect', 'didn happen', 'didn know', 'didn notice', 'didn pay', 'didn realize', 'didn really', 'didn start', 'didn think', 'didn turn', 'didn want', 'didn work', 'didnt', 'didnt work', 'die', 'die twice', 'died', 'difference', 'difference ps5', 'differences', 'different', 'different cables', 'different console', 'different controller', 'different devices', 'different error', 'different games', 'different headsets', 'different menus', 'different ports', 'different region', 'different_', 'different_ tested', 'difficult', 'difficulty', 'dig', 'digging', 'digital', 'digital edition', 'digital games', 'digital really', 'digital version', 'digitally', 'direct', 'direct playstation', 'direct testing', 'direction', 'directly', 'directly ps5', 'director', 'director cut', 'directors', 'dirt', 'dirt https', 'dirty', 'disable', 'disappear', 'disappear white', 'disappointed', 'disappointing', 'disappointment', 'disc', 'disc drive', 'disc edition', 'disc game', 'disc games', 'disc inserted', 'disc just', 'disc play', 'disc ps4', 'disc ps5', 'disc series', 'disc version', 'disconnect', 'disconnected', 'disconnecting', 'disconnection', 'disconnects', 'discord', 'discord channels', 'discord gg', 'discord https', 'discord voice', 'discount', 'discounted', 'discouraged', 'discover', 'discover new', 'discovered', 'discs', 'discuss', 'discussing', 'discussion', 'discussion amp', 'disk', 'disk games', 'disk version', 'dismiss', 'disney', 'disney plus', 'display', 'display settings', 'displaying', 'displays', 'distance', 'divided', 'divided https', 'divided running', 'division', 'division https', 'dlc', 'dlc codes', 'dlc content', 'dlc included', 'dlc just', 'dlcs', 'dm', 'dns', 'dock', 'docs', 'docs google', 'document', 'document 1d62pgcvpfoqn3mh_j11pywh1thf', 'document 1dkwavl6b5ehh9ylqfkbqld08rhqncdmeiwnm4j3x6hw', 'document 1j1arpz_oojp2k3oeogb7eou7nrpjlklxpec6ki5yguk', 'document 1j7ov1kkmra', 'document 1khy0y', 'document 1zvud2tue', 'does', 'does anybody', 'does does', 'does experience', 'does games', 'does happen', 'does help', 'does ideas', 'does issue', 'does know', 'does make', 'does mean', 'does need', 'does problem', 'does ps5', 'does really', 'does say', 'does series', 'does solution', 'does sony', 'does suggestions', 'does support', 'does thing', 'does way', 'does work', 'does xbox', 'doesn', 'doesn 2022', 'doesn appear', 'doesn bother', 'doesn connect', 'doesn fall', 'doesn feel', 'doesn happen', 'doesn help', 'doesn like', 'doesn look', 'doesn matter', 'doesn mean', 'doesn need', 'doesn pop', 'doesn really', 'doesn recognise', 'doesn register', 'doesn support', 'doesn turn', 'doesn want', 'doesn work', 'doesnt', 'doesnt work', 'dog', 'dog games', 'dogs', 'dogsh', 'doing', 'doing having', 'doing like', 'doing wrong', 'dolby', 'dolby atmos', 'dolby cinema', 'dolby vision', 'dollar', 'dollars', 'don', 'don access', 'don forget', 'don game', 'don issue', 'don just', 'don know', 'don legend', 'don like', 'don lot', 'don matter', 'don mind', 'don need', 'don past', 'don pc', 'don play', 'don proper', 'don really', 'don remember', 'don think', 'don understand', 'don want', 'don work', 'don wrong', 'don xbox', 'dongle', 'dont', 'dont know', 'dont want', 'dont work', 'doom', 'doom eternal', 'door', 'doors', 'dorm', 'doubt', 'doubt ll', 'download', 'download blu', 'download game', 'download games', 'download new', 'download service', 'download speed', 'download xbox', 'downloaded', 'downloaded disney', 'downloaded forza', 'downloaded game', 'downloaded games', 'downloaded going', 'downloaded ve', 'downloading', 'downloading game', 'downloading games', 'downloads', 'downside', 'downstairs', 'dozen', 'dozens', 'dr', 'dragon', 'dragon age', 'dragon king', 'dragons', 'drain', 'drama', 'dramatic', 'dramatically', 'dramatically improve', 'draws', 'dream', 'drift', 'drifting', 'drifts', 'drive', 'drive ps5', 'drive stopped', 'driven', 'drives', 'drives megathread', 'driving', 'drop', 'drop 60', 'drop personal', 'dropped', 'drops', 'dry', 'ds', 'dtm', 'dtm 800', 'dtm hgig', 'dtm vs', 'dts', 'dual', 'dual sense', 'dualsense', 'dualsense controller', 'dualsense controllers', 'dualsense dualsense', 'dualsense google', 'dualsense help', 'dualshock', 'dug', 'dumb', 'dumb question', 'dungeons', 'durable', 'dusk', 'dusk falls', 'dust', 'dust inside', 'dusted', 'dusty', 'duty', 'duty black', 'duty modern', 'duty vanguard', 'duty wwii', 'dv', 'dv 73304', 'dv insight', 'dv movie', 'dvd', 'dvds', 'dying', 'dying light', 'dynamic', 'dynamic contrast', 'dynamic tone', 'dynamically', 'dynamically react', 'e7', 'e7 g7', 'ea', 'ear', 'earc', 'earc port', 'earlier', 'earlier year', 'early', 'early game', 'earn', 'ears', 'earth', 'earth shadow', 'easier', 'easier play', 'easily', 'east', 'east coast', 'easy', 'easy thing', 'easy way', 'ebay', 'ect', 'edge', 'edit', 'edit _note_', 'edit gid', 'edit usp', 'edition', 'edition achievements', 'edition https', 'edition july', 'editions', 'editor', 'effect', 'effect andromeda', 'effect legendary', 'effect remaster', 'effectively', 'effects', 'effort', 'eject', 'el', 'elden', 'elden ring', 'elder', 'elder scrolls', 'element', 'elements', 'elite', 'elite controller', 'elite https', 'elite series', 'em', 'email', 'email password', 'email saying', 'email tells', 'emails', 'employee', 'emulation', 'en', 'en games', 'en gb', 'en support', 'en_us', 'enable', 'enable remote', 'enabled', 'encountered', 'end', 'end https', 'end sentences', 'end underrated', 'ended', 'ended getting', 'ended selling', 'ending', 'endings', 'endless', 'ends', 'eneloops', 'enemies', 'enemy', 'energy', 'energy saving', 'engine', 'english', 'english language', 'enhanced', 'enix', 'enix games', 'enjoy', 'enjoy cheers', 'enjoy game', 'enjoy games', 'enjoy product', 'enjoy time', 'enjoyable', 'enjoyed', 'enjoying', 'enjoying playing', 'enormous', 'ensure', 'enter', 'enter gungeon', 'entered', 'entering', 'entering conversation', 'entertainment', 'entertainment amp', 'entire', 'entirely', 'entry', 'environment', 'environments', 'epic', 'epic games', 'episode', 'eq', 'equip', 'equipment', 'equipment software', 'era', 'ergonomics', 'error', 'error code', 'error message', 'error possible', 'errore', 'errore riferimento', 'errors', 'es', 'es6', 'escape', 'escape academy', 'escape room', 'especially', 'essential', 'essentially', 'eternal', 'eternal https', 'ethernet', 'ethernet cable', 'eu', 'europe', 'euros', 'evening', 'event', 'eventhough', 'events', 'eventually', 'everybody', 'everyday', 'everytime', 'everytime try', 'evey', 'evey word', 'evil', 'evil dead', 'evil https', 'evil remake', 'evil village', 'evolution', 'evolution https', 'evolve', 'ex', 'ex mankind', 'exact', 'exact issue', 'exact thing', 'exactly', 'example', 'example calibrated', 'example hdr', 'example https', 'example just', 'example launch', 'example open', 'example webos', 'examples', 'excellent', 'exception', 'exception tv', 'exchange', 'excited', 'excited game', 'excluding', 'exclusive', 'exclusive deal', 'exclusives', 'exclusives just', 'exclusives like', 'exclusivity', 'execution', 'exist', 'existed', 'existing', 'exists', 'exiting', 'exodus', 'exodus https', 'expanded', 'expansion', 'expansion dlc', 'expansion drives', 'expect', 'expect perfect', 'expectations', 'expectations mediocre', 'expected', 'expected delivery', 'expecting', 'expedited', 'expedited shipping', 'expensive', 'experience', 'experience accurate', 'experience game', 'experience got', 'experience know', 'experience like', 'experience past', 'experience played', 'experienced', 'experienced issues', 'experienced similar', 'experiences', 'experiencing', 'expired', 'explain', 'explained', 'explaining', 'explanation', 'exploration', 'explore', 'exploring', 'extended', 'extended storage', 'extension', 'external', 'external drive', 'external equipment', 'external hard', 'external hdd', 'external storage', 'extra', 'extra controller', 'extra games', 'extra premium', 'extra sub', 'extra tier', 'extraordinary', 'extremely', 'extremely long', 'extremely similar', 'eye', 'eyes', 'f1', 'f2p', 'fable', 'face', 'face buttons', 'facebook', 'facebook marketplace', 'faces', 'faces suddenly', 'facial', 'facial animations', 'facing', 'fact', 'factory', 'factory reset', 'fail', 'failed', 'fails', 'failure', 'faint', 'fair', 'fairly', 'fake', 'fall', 'fall guys', 'fallen', 'fallen order', 'fallout', 'fallout 76', 'fallout new', 'fallout skyrim', 'falls', 'familiar', 'families', 'family', 'fan', 'fan art', 'fans', 'fantastic', 'fantasy', 'fantasy origin', 'fantasy xv', 'faq', 'faq amp', 'faq getting', 'faq https', 'far', 'far ve', 'farcry', 'fast', 'faster', 'fatal', 'faulty', 'favor', 'favorite', 'favourite', 'favourite game', 'fear', 'feature', 'features', 'federal', 'fee', 'feed', 'feedback', 'feel', 'feel free', 'feel like', 'feel really', 'feeling', 'feels', 'feels like', 'feet', 'fell', 'fellow', 'fellow gamers', 'felt', 'felt like', 'fh5', 'fifa', 'fifa 22', 'fight', 'fighting', 'fighting games', 'figure', 'figure way', 'figured', 'figured just', 'figuring', 'file', 'files', 'filled', 'final', 'final fantasy', 'finally', 'finally decided', 'finally got', 'finding', 'finding best', 'finding friends', 'fine', 'fine does', 'fine don', 'fine just', 'fine problem', 'fine ps5', 'fingers', 'finish', 'finished', 'firmware', 'firmware update', 'fit', 'fits', 'fix', 'fix don', 'fix issue', 'fix just', 'fix really', 'fix thank', 'fix thanks', 'fixed', 'fixes', 'fixing', 'flash', 'flashing', 'flawed', 'flaws', 'flickering', 'flight', 'flight simulator', 'floor', 'focus', 'foes', 'folks', 'follow', 'follow news', 'followed', 'following', 'following changes', 'footage', 'footsteps', 'forbidden', 'forbidden west', 'force', 'forced', 'forced hlg', 'forces', 'forever', 'forget', 'forget adjust', 'forget order', 'forgot', 'form', 'format', 'format pjpg', 'format png', 'formatting', 'fortnite', 'forum', 'forums', 'forward', 'forza', 'forza horizon', 'forza motorsport', 'fps', 'fps 4k', 'fps boost', 'fps games', 'frame', 'frame drops', 'frame pacing', 'frame rate', 'frame rates', 'framerate', 'frames', 'france', 'franchise', 'free', 'free new', 'free play', 'free time', 'free upgrade', 'freesync', 'freezes', 'fresh', 'fresh new', 'friday', 'fried', 'friend', 'friend games', 'friend got', 'friends', 'friends group', 'friends play', 'friends ps5', 'friends psnfriends', 'froze', 'frustrated', 'frustrating', 'fuck', 'fucking', 'fully', 'fun', 'function', 'functionality', 'functioning', 'functions', 'functions database', 'funny', 'future', 'future help', 'future use', 'g2', 'g2 ps5', 'g7', 'g7 w7', 'galactic', 'galaxy', 'game', 'game 30fps', 'game audio', 'game bought', 'game chat', 'game coming', 'game console', 'game data', 'game developed', 'game did', 'game does', 'game dolby', 'game don', 'game dv', 'game feels', 'game friends', 'game games', 'game great', 'game hdr', 'game home', 'game just', 'game length', 'game like', 'game load', 'game logo', 'game looks', 'game mode', 'game modes', 'game month', 'game need', 'game new', 'game online', 'game pass', 'game play', 'game played', 'game playing', 'game playstation', 'game preset', 'game ps5', 'game really', 'game recommendations', 'game sale', 'game save', 'game saves', 'game says', 'game sdr', 'game set', 'game settings', 'game sharing', 'game shows', 'game store', 'game streaming', 'game studio', 'game studios', 'game sub', 'game think', 'game time', 'game underappreciated', 'game updates', 'game ve', 'game want', 'game way', 'game worth', 'game xbox', 'gamepass', 'gamepass ultimate', 'gamepass xbox', 'gameplay', 'gameplay game', 'gamer', 'gamers', 'gamers hang', 'gamertag', 'games', 'games 30', 'games accessories', 'games account', 'games apps', 'games aren', 'games available', 'games catalogue', 'games com', 'games coming', 'games cross', 'games current', 'games didn', 'games don', 'games example', 'games far', 'games feel', 'games friend', 'games friends', 'games game', 'games gamepass', 'games games', 'games genre', 'games getting', 'games going', 'games good', 'games got', 'games guess', 'games https', 'games im', 'games just', 'games leave', 'games library', 'games like', 'games list', 'games locked', 'games look', 'games looking', 'games missed', 'games need', 'games new', 'games news', 'games play', 'games played', 'games playing', 'games pretty', 'games priority', 'games probably', 'games ps4', 'games ps5', 'games recommend', 'games released', 'games restore', 'games run', 'games series', 'games sky', 'games store', 'games time', 'games tried', 'games ve', 'games want', 'games wanted', 'games won', 'games work', 'games xbox', 'gameshare', 'gamespot', 'gamestop', 'gamesubwiki', 'gamesubwiki game', 'gaming', 'gaming best', 'gaming communities', 'gaming headset', 'gaming industry', 'gaming monitor', 'gaming pc', 'gaming tv', 'gap', 'garbage', 'gathering', 'gathering professional', 'gave', 'gb', 'gb support', 'gear', 'gears', 'gears war', 'gen', 'gen console', 'gen consoles', 'gen version', 'gen4', 'general', 'general support', 'generally', 'generated', 'generation', 'generations', 'generic', 'genesis', 'genre', 'genres', 'genuinely', 'german', 'germany', 'gets', 'getting', 'getting game', 'getting gaming', 'getting new', 'getting ps5', 'getting series', 'getting started', 'gf', 'gg', 'gg housemarque', 'gg ps', 'ghost', 'ghost tsushima', 'ghostrunner', 'ghosts', 'ghostwire', 'ghostwire tokyo', 'giant', 'gid', 'gid 822356860', 'gift', 'gift card', 'gigabytes', 'girlfriend', 'given', 'gives', 'gives error', 'giving', 'giving away', 'glad', 'glasses', 'glitch', 'glitches', 'global', 'god', 'god war', 'goes', 'going', 'going offline', 'going tv', 'going xbox', 'gold', 'gone', 'gonna', 'good', 'good bad', 'good don', 'good game', 'good games', 'google', 'google com', 'google https', 'googling', 'got', 'got email', 'got home', 'got hooked', 'got new', 'got ps', 'got ps5', 'got rid', 'got second', 'got series', 'got xbox', 'gotta', 'gotten', 'government', 'gow', 'gp', 'gpu', 'grab', 'gran', 'gran turismo', 'grand', 'granular', 'graphic', 'graphic settings', 'graphics', 'gray', 'great', 'great game', 'great games', 'great gaming', 'great just', 'great night', 'great way', 'greater', 'greatly', 'greatly appreciated', 'green', 'green screen', 'grind', 'gritty', 'ground', 'group', 'group play', 'groups', 'growth', 'gt', 'gt verify', 'gt7', 'gta', 'gta5', 'guarantee', 'guardians', 'guardians galaxy', 'guerrilla', 'guess', 'guess months', 'guessing', 'guide', 'guide https', 'guides', 'guides playstation', 'guy', 'guys', 'guys just', 'guys know', 'guys ps5', 'guys recommend', 'guys think', 'gyqjucpw3ppaotz', 'gyqjucpw3ppaotz ylhhqhktjf4ri1ngw4', 'hack', 'hades', 'hadn', 'half', 'half way', 'halfway', 'halo', 'halo games', 'halo gears', 'halo infinite', 'halo mcc', 'halo reach', 'hand', 'handheld', 'handle', 'hands', 'hands ps5', 'hang', 'hang voice', 'happen', 'happened', 'happening', 'happens', 'happy', 'haptic', 'haptic feedback', 'hard', 'hard drive', 'hard reset', 'hard time', 'hardcore', 'hardcore gamer', 'harder', 'hardware', 'hardware ps5', 'hardware safe', 'hardwired', 'hasn', 'hate', 'haven', 'haven able', 'haven owned', 'haven played', 'haven really', 'haven seen', 'haven tried', 'having', 'having hard', 'having issue', 'having issues', 'having problem', 'having problems', 'having trouble', 'hawk', 'hawk pro', 'hd', 'hdd', 'hdmi', 'hdmi adapter', 'hdmi cable', 'hdmi devices', 'hdmi icon', 'hdmi port', 'hdmi1', 'hdmi1 connected', 'hdmi2', 'hdr', 'hdr brightness', 'hdr calibration', 'hdr cinema', 'hdr content', 'hdr contents', 'hdr dv', 'hdr game', 'hdr read', 'hdr settings', 'hdr sliders', 'hdr suggested', 'hdr videos', 'hdr xbox', 'hdr10', 'hdr10 dolby', 'head', 'headphones', 'headset', 'headset don', 'headset xbox', 'headsets', 'hear', 'hear thoughts', 'heard', 'heard good', 'hearing', 'heart', 'hearts', 'heat', 'heavy', 'height', 'hell', 'hell let', 'hellblade', 'hello', 'hello guys', 'hello just', 'hello like', 'hello ps5', 'help', 'help appreciated', 'help great', 'help greatly', 'help playstation', 'help questions', 'help support', 'help tech', 'help times', 'help view', 'helped', 'helpful', 'helping', 'helping asking', 'helps', 'heroes', 'hey', 'hey folks', 'hey guys', 'hey recently', 'hgig', 'hgig 000', 'hgig actually', 'hgig dolby', 'hgig screen', 'hi', 'hi guys', 'hi just', 'hi recently', 'hi ve', 'hidden', 'hidden service', 'high', 'high expectations', 'high quality', 'higher', 'highest', 'highly', 'highly recommended', 'history', 'hit', 'hits', 'hitting', 'hlg', 'hlg https', 'hogwarts', 'hold', 'holding', 'holds', 'holes', 'hollow', 'holy', 'holy shit', 'home', 'home dashboard', 'home screen', 'home xbox', 'honest', 'honestly', 'hooked', 'hope', 'hope enjoy', 'hope helps', 'hopefully', 'hoping', 'horizon', 'horizon forbidden', 'horizon hot', 'horizon https', 'horizon zero', 'horizontal', 'horrible', 'horror', 'host', 'hot', 'hot wheels', 'hour', 'hours', 'hours ago', 'house', 'housemarque', 'housemarque published', 'housemarque returnal', 'hoziogq', 'hoziogq jpg', 'http', 'http www', 'https', 'https blog', 'https discord', 'https docs', 'https imgur', 'https news', 'https preview', 'https status', 'https twitter', 'https www', 'https youtu', 'https youtube', 'huge', 'human', 'hundreds', 'hunt', 'hunter', 'hurt', 'hype', 'hyped', 'hz', 'icon', 'icon going', 'icon hdmi', 'icon totally', 'iconic', 'icons', 'id', 'idea', 'idea fix', 'ideally', 'ideas', 'ideas fix', 'identify', 'identify tv', 'idk', 'ign', 'ign com', 'ii', 'ill', 'im', 'im giving', 'im just', 'im looking', 'image', 'image compared', 'images', 'imagine', 'imgur', 'imgur com', 'immediately', 'immediatly', 'immersion', 'immersive', 'impact', 'implemented', 'important', 'impossible', 'impressed', 'impressive', 'improve', 'improve sdr', 'improved', 'improvement', 'improvements', 'inch', 'include', 'included', 'includes', 'including', 'including dolby', 'increase', 'increase level', 'incredible', 'incredibly', 'independently', 'independently time', 'indie', 'indie games', 'industry', 'infamous', 'infinite', 'info', 'info ssd', 'information', 'initially', 'innocence', 'innovation', 'input', 'input lag', 'inputs', 'inputs section', 'insane', 'insects', 'insects demo', 'insert', 'inserted', 'inside', 'insider', 'insight', 'insight paper', 'insights', 'insights dynamic', 'install', 'installation', 'installed', 'installing', 'instantly', 'instead', 'instead ps5', 'instructions', 'intel', 'intense', 'interact', 'interactive', 'interactive drama', 'interactive entertainment', 'interested', 'interesting', 'interface', 'interior', 'interior night', 'internal', 'international', 'internet', 'internet connection', 'internet issues', 'internet places', 'invest', 'invitation', 'invite', 'involved', 'ip', 'iphone', 'ireland', 'isf', 'isf dark', 'island', 'isn', 'isn needed', 'isn working', 'isnt', 'issue', 'issue just', 'issue know', 'issue need', 'issue ps5', 'issue solution', 'issue use', 'issues', 'itch', 'itching', 'item', 'items', 'ive', 'ive tried', 'jack', 'jak', 'japan', 'jedi', 'jedi fallen', 'jet', 'jet set', 'job', 'jobs', 'join', 'join game', 'joined', 'joke', 'jordan', 'jotnar', 'journey', 'joystick', 'joysticks', 'jpg', 'jpg example', 'jpg width', 'jpou5chlb9tvzdi', 'jpou5chlb9tvzdi edit', 'jrpg', 'july', 'july 19th', 'july 28th', 'jump', 'jumped', 'jumping', 'june', 'jurassic', 'jurassic world', 'just', 'just asking', 'just bought', 'just buy', 'just cause', 'just change', 'just curious', 'just delete', 'just didn', 'just doesn', 'just don', 'just downloaded', 'just faulty', 'just feel', 'just feels', 'just fine', 'just finished', 'just game', 'just games', 'just got', 'just isn', 'just keeps', 'just like', 'just look', 'just looking', 'just makes', 'just need', 'just noticed', 'just open', 'just ordered', 'just play', 'just playing', 'just plug', 'just ps5', 'just purchased', 'just quick', 'just really', 'just recently', 'just send', 'just series', 'just started', 'just stay', 'just tell', 'just thought', 'just trying', 'just update', 'just want', 'just wanted', 'just wish', 'just wondering', 'just xbox', 'justify', 'kaira', 'kaira pro', 'keeping', 'keeps', 'keeps saying', 'kept', 'key', 'keyboard', 'keyboard mouse', 'kicking', 'kid', 'kids', 'kill', 'killed', 'killer', 'kills', 'killzone', 'kind', 'kinda', 'kinda sad', 'kinds', 'kinect', 'king', 'kingdom', 'kit', 'knew', 'knight', 'know', 'know doing', 'know fix', 'know game', 'know games', 'know good', 'know hard', 'know ll', 'know microsoft', 'know people', 'know place', 'know ps5', 'know settings', 'know solve', 'know think', 'know ve', 'know way', 'know work', 'know xbox', 'knowledge', 'knowledge reliable', 'known', 'known issue', 'knows', 'kombat', 'kombat 11', 'l2', 'lab', 'label', 'lack', 'lackluster', 'lady', 'lag', 'lag results', 'lagging', 'laggy', 'lan', 'lan cable', 'language', 'laptop', 'large', 'late', 'lately', 'later', 'latest', 'launch', 'launch day', 'launch dolby', 'launch dv', 'launch future', 'launch game', 'launch guide', 'launch hdr', 'launch sdr', 'launched', 'launching', 'law', 'lawyer', 'layout', 'lazy', 'lb', 'lb rt', 'leader', 'leads', 'league', 'leaked', 'leaning', 'learn', 'leave', 'leaving', 'led', 'left', 'left default', 'left right', 'left second', 'left stick', 'legacy', 'legal', 'legend', 'legends', 'legion', 'legit', 'lego', 'lego star', 'length', 'let', 'let check', 'let know', 'let loose', 'let play', 'let say', 'let start', 'lets', 'letter', 'letting', 'level', 'level max', 'levels', 'lg', 'lg 2017', 'lg 2018', 'lg 2019', 'lg b7', 'lg c1', 'lg g2', 'lg oled', 'lg oleds', 'lg remote', 'library', 'licences', 'licences playstation', 'licenses', 'licenses https', 'life', 'life strange', 'light', 'light value', 'lighting', 'lightning', 'lights', 'like', 'like 20', 'like buy', 'like days', 'like game', 'like gamepass', 'like going', 'like gta', 'like halo', 'like having', 'like just', 'like kind', 'like know', 'like nintendo', 'like play', 'like playing', 'like ps4', 'like ps5', 'like quality', 'like said', 'like share', 'like sony', 'like times', 'like ve', 'like warzone', 'like xbox', 'like year', 'liked', 'likely', 'likes', 'limit', 'limitations', 'limited', 'line', 'linear', 'lines', 'link', 'linked', 'links', 'links question', 'list', 'list games', 'list gaming', 'list https', 'list topmost', 'listed', 'listen', 'lists', 'literally', 'little', 'little bit', 'live', 'live gold', 'live play', 'lives', 'living', 'living room', 'll', 'll need', 'll play', 'lmao', 'lmk', 'load', 'load game', 'load games', 'load type', 'loading', 'loading screen', 'loads', 'lobby', 'local', 'local online', 'location', 'lock', 'locked', 'locking', 'locks', 'log', 'log account', 'logged', 'logging', 'logo', 'logo icon', 'lol', 'long', 'long just', 'long really', 'long time', 'longer', 'look', 'look dark', 'look feel', 'look good', 'look great', 'look like', 'look links', 'looked', 'looking', 'looking best', 'looking buy', 'looking forward', 'looking game', 'looking games', 'looking good', 'looking info', 'looking new', 'looking online', 'looking people', 'looking play', 'looking recommendations', 'looks', 'looks good', 'looks like', 'loop', 'loose', 'loot', 'lord', 'lose', 'losing', 'loss', 'lost', 'lot', 'lot games', 'lot people', 'lots', 'loud', 'louder', 'love', 'love hear', 'love ps5', 'love xbox', 'loved', 'loving', 'loving far', 'low', 'lower', 'lower average', 'lowest', 'lowest input', 'lt', 'lt lb', 'luck', 'luckily', 'lucky', 'lucky ps5', 'luminance', 'luminance 10', 'luminance 14', 'luminance 25', 'luminance 54', 'luminance clicks', 'luxembourg', 'mac', 'mac address', 'machine', 'madden', 'mafia', 'mail', 'mail http', 'main', 'main account', 'main menu', 'main story', 'mainly', 'major', 'majority', 'make', 'make game', 'make games', 'make new', 'make ps5', 'make sense', 'make sure', 'makes', 'making', 'making new', 'man', 'man miles', 'man remastered', 'man sky', 'manage', 'managed', 'management', 'manager', 'mankind', 'mankind divided', 'mans', 'mans sky', 'manually', 'manually switch', 'map', 'mapping', 'mapping dolby', 'mapping dtm', 'march', 'mark', 'marked', 'market', 'markets', 'marvel', 'marvel avengers', 'marvel guardians', 'mass', 'mass effect', 'massive', 'master', 'master chief', 'match', 'materials', 'mates', 'matter', 'matter game', 'matters', 'max', 'max hdr', 'max luminance', 'maybe', 'maybe just', 'mbps', 'mcc', 'mean', 'mean newest', 'meaning', 'means', 'meant', 'mechanics', 'media', 'media app', 'mediocre', 'mediocre results', 'medium', 'meet', 'megathread', 'megathread https', 'melee', 'member', 'members', 'membership', 'memes', 'memes screenshots', 'memory', 'mention', 'mentioned', 'mentioning', 'menu', 'menu easy', 'menus', 'mess', 'message', 'message compose', 'messages', 'messing', 'met', 'metacritic', 'metacritic com', 'metacritic https', 'metal', 'method', 'methods', 'metro', 'metro exodus', 'mic', 'mic quality', 'microphone', 'microsoft', 'microsoft account', 'microsoft buys', 'microsoft store', 'microsoft support', 'microsoft website', 'microsoft xbox', 'mid', 'middle', 'middle game', 'midnight', 'miles', 'miles morales', 'million', 'min', 'min luminance', 'mind', 'minecraft', 'minor', 'mins', 'minute', 'minutes', 'misc', 'misc guides', 'miss', 'missed', 'missing', 'mission', 'missions', 'mistake', 'mistakes', 'mix', 'mixamp', 'mixed', 'mj', 'mlb', 'mobile', 'mod', 'mod mail', 'mode', 'mode bug', 'mode functions', 'mode option', 'mode playstation', 'mode using', 'model', 'model including', 'models', 'models lower', 'modem', 'modern', 'modern warfare', 'modes', 'moment', 'moments', 'monday', 'money', 'money xbox', 'monitor', 'monitor supports', 'monitor xbox', 'monitors', 'monster', 'month', 'month ago', 'month amp', 'month party', 'monthly', 'monthly games', 'months', 'months ago', 'months talk', 'morales', 'morning', 'mortal', 'mortal kombat', 'motherboard', 'motion', 'motorsport', 'mouse', 'mouse keyboard', 'moved', 'movement', 'moves', 'movie', 'movie ready', 'movie xbox', 'movies', 'movies sdr', 'movies tv', 'moving', 'ms', 'multiplayer', 'multiplayer games', 'multiple', 'multiple times', 'music', 'mw', 'mw2', 'mysterious', 'named', 'narrative', 'nat', 'nat type', 'national', 'native', 'nature', 'navigate', 'navigating', 'nba', 'near', 'nearby', 'nearly', 'necessary', 'need', 'need buy', 'need help', 'need increase', 'need know', 'need make', 'need new', 'need play', 'need use', 'need xbox', 'needed', 'needed time', 'needs', 'neo', 'nervous', 'net', 'netflix', 'netflix app', 'network', 'network psn', 'network settings', 'new', 'new account', 'new console', 'new controller', 'new features', 'new friends', 'new future', 'new game', 'new games', 'new gen', 'new hdmi', 'new hot', 'new ones', 'new player', 'new playstation', 'new post', 'new ps', 'new ps5', 'new series', 'new threads', 'new tv', 'new xbox', 'newbie', 'newer', 'newer series', 'newest', 'newest additions', 'newest release', 'news', 'news amas', 'news channels', 'news dev', 'nexus', 'nice', 'night', 'ninja', 'nintendo', 'nintendo switch', 'nits', 'nits b7', 'nits cases', 'nits hgig', 'nits option', 'nits recommended', 'noise', 'non', 'non stackable', 'normal', 'normally', 'notch', 'note', 'note don', 'notice', 'noticeable', 'noticed', 'noticed right', 'noticing', 'notification', 'notifications', 'nova', 'number', 'number 000', 'numbers', 'numerical', 'numerical number', 'nvme', 'object', 'obvious', 'obviously', 'occasionally', 'occurring', 'odd', 'odyssey', 'offer', 'offered', 'offers', 'official', 'official playstation', 'official ps5', 'official site', 'offline', 'og', 'oh', 'ok', 'okay', 'old', 'old 360', 'old game', 'old games', 'old xbox', 'older', 'older games', 'oled', 'oled 4k', 'oled apply', 'oled light', 'oled series', 'oled true', 'oled variance', 'oleds', 'oleds optimized', 'oleds variants', 'oleds xbox', 'omg', 'ones', 'online', 'online games', 'online knowledge', 'op', 'open', 'open insects', 'open netflix', 'open world', 'open youtube', 'opened', 'opening', 'opinion', 'opinions', 'opposite', 'ops', 'ops cold', 'optimised', 'optimized', 'optimized settings', 'option', 'option 1b', 'options', 'options weren', 'or3pquc', 'or3pquc jpg', 'orange', 'orange box', 'order', 'order avoid', 'order just', 'order play', 'order unlock', 'ordered', 'ordered new', 'ordering', 'orders', 'orders general', 'org', 'ori', 'origin', 'origin https', 'original', 'original xbox', 'originally', 'origins', 'os', 'ou5lam', 'ou5lam ps5_internal_ssd_expansion_megathread', 'outage', 'outline', 'output', 'outriders', 'outright', 'outside', 'overall', 'overall recommended', 'overall settings', 'overheating', 'overheating issues', 'overnight', 'overpriced', 'overreaching', 'overreaching places', 'owned', 'owned playstation', 'owned xbox', 'owner', 'owners', 'owning', 'owns', 'p5', 'pace', 'paced', 'pacing', 'pack', 'package', 'packed', 'packs', 'pad', 'paddles', 'page', 'paid', 'pain', 'painful', 'pair', 'paired', 'pairing', 'panels', 'paper', 'paper white', 'paradise', 'paradise final', 'paranoid', 'parent', 'park', 'particular', 'particular game', 'particularly', 'partner', 'parts', 'party', 'party games', 'paso', 'pass', 'pass game', 'pass metacritic', 'pass ultimate', 'password', 'past', 'past couple', 'past days', 'past help', 'past months', 'past year', 'paste', 'pasted', 'pasted tv', 'patch', 'patched', 'path', 'patreon', 'patreon com', 'pause', 'pay', 'pay price', 'paying', 'payment', 'pc', 'pc amp', 'pc app', 'pc dolby', 'pc hdmi', 'pc ps4', 'pc ps5', 'pc using', 'pc xbox', 'people', 'people having', 'people need', 'people play', 'people said', 'peoples', 'perfect', 'perfectly', 'perfectly fine', 'performance', 'performance mode', 'performed', 'perks', 'permanently', 'persists', 'person', 'person shooter', 'persona', 'personal', 'personal bias', 'personally', 'perspective', 'pet', 'phone', 'photo', 'physical', 'physical xbox', 'physics', 'pick', 'picked', 'picking', 'picky', 'picture', 'pictures', 'pictures cosplay', 'piece', 'pieces', 'ping', 'pissed', 'pixel', 'pjpg', 'pjpg amp', 'place', 'places', 'places better', 'places internet', 'plague', 'plague tale', 'plan', 'plan buy', 'plane', 'planet', 'planned', 'planning', 'plans', 'plastic', 'platform', 'platformer', 'platforming', 'platforms', 'platinum', 'play', 'play 120', 'play amp', 'play cod', 'play console', 'play couch', 'play different', 'play favourite', 'play fifa', 'play fps', 'play friends', 'play game', 'play games', 'play gen', 'play got', 'play just', 'play like', 'play long', 'play need', 'play new', 'play online', 'play pc', 'play ps4', 'play ps5', 'play series', 'play station', 'play time', 'play way', 'play xbox', 'playable', 'played', 'played game', 'played games', 'player', 'player base', 'player games', 'player just', 'players', 'playing', 'playing altered', 'playing game', 'playing games', 'playing halo', 'playing hours', 'playing ps4', 'playing ps5', 'playroom', 'plays', 'playstation', 'playstation centric', 'playstation com', 'playstation community', 'playstation console', 'playstation deals', 'playstation direct', 'playstation friends', 'playstation guy', 'playstation https', 'playstation instead', 'playstation like', 'playstation misc', 'playstation network', 'playstation official', 'playstation playstation', 'playstation playstationnow', 'playstation plus', 'playstation ps5', 'playstation safe', 'playstation share', 'playstation store', 'playstation support', 'playstation things', 'playstation vr', 'playstation wiki', 'playstationnow', 'playstationnow game', 'playstationplus', 'playstationplus ps', 'plenty', 'plot', 'pls', 'plug', 'plug controller', 'plugged', 'plugging', 'plus', 'plus cms', 'plus extra', 'plus games', 'plus playstationplus', 'plus premium', 'plus service', 'plus subscription', 'plz', 'png', 'png amp', 'png view', 'png width', 'point', 'points', 'policy', 'poor', 'pop', 'popped', 'popping', 'pops', 'popular', 'port', 'portable', 'portal', 'ports', 'position', 'possible', 'possible 4ms', 'possible profiles', 'possible use', 'possibly', 'post', 'post 87028631', 'post https', 'post isn', 'posted', 'posting', 'posts', 'posts 68309490', 'posts 68354628', 'posts 68768852', 'posts 69076578', 'potential', 'potential using', 'power', 'power bank', 'power button', 'power cable', 'power cycling', 'power supply', 'power went', 'powered', 'powerful', 'ppl', 'pq', 'pq lowest', 'pq2vwu706nx51', 'pq2vwu706nx51 png', 'practically', 'praise', 'praise criticise', 'pre', 'pre calibration', 'pre order', 'predictable', 'prefer', 'prefer communities', 'preferably', 'premium', 'preorder', 'prepare', 'present', 'presentation', 'preset', 'preset 2017', 'preset optimized', 'presets', 'presets bring', 'presets plus', 'press', 'press lt', 'press start', 'pressed', 'presses', 'pressing', 'pressure', 'pretty', 'pretty good', 'pretty sure', 'prevent', 'preview', 'preview redd', 'previous', 'previously', 'price', 'price don', 'price tag', 'prices', 'primary', 'prime', 'prime exclusive', 'prime video', 'print', 'print xbox', 'prior', 'priority', 'priority playstation', 'pro', 'pro controller', 'pro skater', 'probably', 'problem', 'problem fix', 'problem just', 'problems', 'proceed', 'proceed updated', 'process', 'processing', 'product', 'product trial', 'products', 'professional', 'professional calibration', 'profile', 'profiles', 'profiles independently', 'profit', 'progress', 'progressing', 'progression', 'project', 'proof', 'proper', 'properly', 'properly calibrated', 'pros', 'protagonist', 'protect', 'protector', 'provide', 'provided', 'ps', 'ps app', 'ps button', 'ps card', 'ps direct', 'ps dualsense', 'ps extra', 'ps follow', 'ps https', 'ps plus', 'ps store', 'ps1', 'ps2', 'ps2 games', 'ps2 ps3', 'ps3', 'ps3 games', 'ps4', 'ps4 account', 'ps4 brother', 'ps4 controller', 'ps4 disc', 'ps4 don', 'ps4 games', 'ps4 got', 'ps4 play', 'ps4 pro', 'ps4 ps5', 'ps4 version', 'ps5', 'ps5 20help', 'ps5 automatically', 'ps5 bundle', 'ps5 comments', 'ps5 controller', 'ps5 days', 'ps5 didn', 'ps5 digital', 'ps5 disc', 'ps5 does', 'ps5 doesn', 'ps5 don', 'ps5 error', 'ps5 finally', 'ps5 game', 'ps5 games', 'ps5 going', 'ps5 got', 'ps5 hdr', 'ps5 instead', 'ps5 just', 'ps5 launch', 'ps5 like', 'ps5 load', 'ps5 looking', 'ps5 month', 'ps5 months', 'ps5 orders', 'ps5 overheating', 'ps5 pc', 'ps5 play', 'ps5 playing', 'ps5 playstation', 'ps5 ps4', 'ps5 ps5', 'ps5 really', 'ps5 received', 'ps5 recently', 'ps5 rest', 'ps5 say', 'ps5 says', 'ps5 sdr', 'ps5 search', 'ps5 started', 'ps5 sure', 'ps5 switch', 'ps5 time', 'ps5 trying', 'ps5 tv', 'ps5 ultimate', 'ps5 upgrade', 'ps5 using', 'ps5 ve', 'ps5 version', 'ps5 versions', 'ps5 want', 'ps5 wanted', 'ps5 webos', 'ps5 weekly', 'ps5 weeks', 'ps5 wiki', 'ps5 won', 'ps5 wouldn', 'ps5 xbox', 'ps5 year', 'ps5_internal_ssd_expansion_megathread', 'ps5_internal_ssd_expansion_megathread just', 'ps5deals', 'ps5deals finding', 'ps5s', 'psn', 'psn account', 'psn service', 'psnfriends', 'psnfriends finding', 'psp', 'psvr', 'psvr playstation', 'pubg', 'public', 'published', 'published sony', 'publisher', 'pull', 'pulled', 'pulse', 'pulse 3d', 'purchase', 'purchased', 'purchased series', 'purchases', 'purchasing', 'purple', 'purpose', 'push', 'pushed', 'pushing', 'putting', 'puzzle', 'puzzle game', 'puzzles', 'qled', 'qn90a', 'quality', 'quality mode', 'quantum', 'quarry', 'quest', 'question', 'question answered', 'question just', 'question thread', 'question ve', 'questions', 'questions threads', 'queue', 'quick', 'quick menu', 'quick question', 'quick resume', 'quick tips', 'quickly', 'quiet', 'quit', 'quite', 'race', 'races', 'racing', 'racing game', 'racing games', 'radio', 'ragnarok', 'ragnarök', 'raider', 'raider https', 'rainbow', 'ran', 'random', 'randomly', 'randoms', 'range', 'rapidly', 'rare', 'rarely', 'ratchet', 'ratchet clank', 'rate', 'rates', 'ray', 'ray disc', 'rays', 'razer', 'razer kaira', 'rb', 'rb button', 'rb time', 'rdr2', 'reach', 'react', 'read', 'read https', 'read recommended', 'reading', 'ready', 'ready apply', 'real', 'real life', 'realised', 'realistic', 'realize', 'realized', 'really', 'really annoying', 'really appreciate', 'really care', 'really don', 'really enjoy', 'really enjoyed', 'really feel', 'really fun', 'really good', 'really great', 'really know', 'really like', 'really liked', 'really looking', 'really need', 'really really', 'really wanna', 'really want', 'reason', 'reason console', 'reason ve', 'reasonable', 'reasons', 'reboot', 'rebuild', 'rebuild factory', 'receive', 'received', 'received email', 'receiver', 'recent', 'recently', 'recently bought', 'recently got', 'recently just', 'recently purchased', 'recently tried', 'recognizes', 'recommend', 'recommend games', 'recommend good', 'recommendation', 'recommendations', 'recommendations games', 'recommended', 'recommended game', 'recommended settings', 'recon', 'record', 'record game', 'recording', 'recurring', 'red', 'red dead', 'redd', 'redd pq2vwu706nx51', 'reddit', 'reddit com', 'reddit search', 'reddit send', 'redditps', 'redditps follow', 'redditps https', 'redeem', 'redeemed', 'redemption', 'reduce', 'reference', 'reference https', 'refresh', 'refund', 'refunded', 'refurbished', 'refuse', 'refuses', 'regarding', 'regardless', 'regards', 'region', 'register', 'registered', 'registering', 'regular', 'regularly', 'reinstall', 'reinstalled', 'reinstalling', 'related', 'relation', 'relation snarky', 'relatively', 'release', 'release date', 'release expansion', 'released', 'releases', 'releasing', 'relevant', 'relevant mean', 'relevant month', 'reliable', 'reliable sources', 'remain', 'remaining', 'remake', 'remake https', 'remaster', 'remastered', 'remastered https', 'remember', 'remote', 'remote play', 'remote search', 'remote start', 'remote webos', 'remotely', 'removals', 'removals talk', 'remove', 'removed', 'renew', 'renewal', 'rep', 'repair', 'repair warranty', 'repaired', 'repairing', 'repairs', 'repeat', 'repetitive', 'replace', 'replaced', 'replacement', 'replay', 'report', 'request', 'request recommendations', 'requested', 'require', 'required', 'requirement', 'requires', 'research', 'reserved', 'reset', 'reset console', 'reset https', 'reset ps5', 'resetera', 'resetera com', 'resets', 'resetting', 'resident', 'resident evil', 'resolution', 'resolved', 'respect', 'respond', 'response', 'responsive', 'rest', 'rest mode', 'restart', 'restarted', 'restarted ps5', 'restarting', 'restarts', 'restock', 'restore', 'restore licences', 'restore licenses', 'restored', 'restored licenses', 'restrict_sr', 'restrict_sr amp', 'restrictions', 'result', 'results', 'results https', 'results possible', 'results using', 'results years', 'resume', 'retail', 'retail price', 'retailers', 'retro', 'retro arch', 'return', 'returnal', 'returnal discord', 'returnal person', 'returnal returnal', 'returned', 'review', 'reviews', 'reviews xbox', 'reward', 'rewarding', 'rewards', 'rich', 'rid', 'ride', 'ridiculous', 'ridiculously', 'rift', 'rift apart', 'right', 'right away', 'right corner', 'right game', 'right stick', 'ring', 'rise', 'rising', 'risk', 'robbery', 'rock', 'rocket', 'rocket league', 'roguelike', 'roguelike video', 'role', 'room', 'rotate', 'rough', 'roughly', 'router', 'royal', 'royal mail', 'rpg', 'rpgs', 'rt', 'rt rb', 'rtx', 'rude', 'ruined', 'rules', 'rumours', 'run', 'run 4k', 'running', 'running 4k', 'running game', 'runs', 'runs 60', 'sad', 'sadly', 'safe', 'safe mode', 'safety', 'saga', 'said', 'said needed', 'sale', 'sales', 'sam', 'samsung', 'samsung qn90a', 'satisfying', 'save', 'save clips', 'save data', 'save file', 'save files', 'save money', 'saved', 'saved data', 'saves', 'saving', 'saving mode', 'saw', 'saw post', 'say', 'say game', 'saying', 'saying game', 'says', 'says connect', 'scale', 'scalpers', 'school', 'screen', 'screen comes', 'screen game', 'screen games', 'screen just', 'screen max', 'screen min', 'screen print', 'screens', 'screenshot', 'screenshots', 'screenshots pictures', 'screw', 'screwdriver', 'scroll', 'scrolling', 'scrolls', 'scrolls online', 'sdr', 'sdr content', 'sdr contents', 'sdr game', 'sdr hdmi', 'sdr hdr', 'sdr isf', 'sdr suggested', 'search', 'search great', 'search hdr', 'search https', 'search ps5', 'search weekly', 'searched', 'searching', 'season', 'season pass', 'second', 'second ps5', 'second screen', 'seconds', 'secs', 'section', 'section apply', 'sections', 'sections identify', 'secure', 'security', 'seeing', 'seemingly', 'seen', 'sees', 'sekiro', 'select', 'selecting', 'selection', 'sell', 'selling', 'sells', 'send', 'send fifa', 'send mod', 'sending', 'sense', 'sent', 'sent microsoft', 'sentences', 'senua', 'separate', 'separate settings', 'separate webos', 'separately', 'sequel', 'serial', 'series', 'series 2019', 'series apply', 'series box', 'series click', 'series console', 'series consoles', 'series controller', 'series default', 'series don', 'series friend', 'series game', 'series games', 'series good', 'series just', 'series like', 'series microsoft', 'series months', 'series option', 'series pc', 'series play', 'series ps4', 'series ps5', 'series reference', 'series right', 'series sections', 'series settings', 'series use', 'series ve', 'series want', 'series week', 'series weeks', 'series xbox', 'series xs', 'series yesterday', 'seriously', 'server', 'servers', 'serves', 'service', 'service amp', 'service menu', 'service newest', 'service praise', 'service status', 'services', 'session', 'set', 'set 10', 'set 200', 'set color', 'set dynamic', 'set numerical', 'set optimized', 'set playstation', 'set radio', 'setting', 'settings', 'settings 2017', 'settings _cannot', 'settings available', 'settings chart', 'settings haven', 'settings https', 'settings know', 'settings latest', 'settings left', 'settings lg', 'settings movies', 'settings read', 'settings recommended', 'settings results', 'settings specifically', 'settings tailor', 'settings xbox', 'setup', 'setup 2017', 'setup 2019', 'setup press', 'setup source', 'setups', 'shadow', 'shadow colossus', 'shadow tomb', 'shadow war', 'shadows', 'shadows die', 'shame', 'share', 'share calibration', 'share experience', 'share memes', 'share play', 'share request', 'share thoughts', 'share ultimate', 'shared', 'sharing', 'sharing _note_', 'sharing enabled', 'sharing offline', 'shelf', 'shell', 'shift', 'shiny', 'ship', 'shipped', 'shipping', 'shipping box', 'ships', 'shit', 'shitty', 'shock', 'shocked', 'shocking', 'shoot', 'shooter', 'shooter roguelike', 'shooters', 'shooters rpgs', 'shooting', 'shooting games', 'shop', 'shopping', 'short', 'shortages', 'shorter', 'shortly', 'shot', 'shots', 'shouldn', 'shout', 'showcase', 'showcases', 'showed', 'showing', 'shown', 'shows', 'shows movies', 'shows quick', 'shows settings', 'shut', 'shutdown', 'shutoff', 'shuts', 'shutting', 'sick', 'sideways', 'siege', 'sign', 'sign account', 'sign psn', 'signal', 'signature', 'signed', 'significant', 'significantly', 'signing', 'signing psn', 'signs', 'silent', 'silent hill', 'silly', 'sim', 'similar', 'similar issue', 'similar issues', 'simple', 'simple just', 'simple question', 'simply', 'simulator', 'simulator https', 'simultaneously', 'single', 'single game', 'single player', 'single thread', 'single word', 'singleplayer', 'sink', 'sit', 'site', 'site https', 'sites', 'sits', 'situation', 'situations', 'size', 'skater', 'skater https', 'skeptical', 'skill', 'skill trees', 'skills', 'skins', 'skip', 'skipped', 'skipped ps4', 'sky', 'sky hdr', 'sky high', 'sky https', 'skyrim', 'skywalker', 'skywalker saga', 'slash', 'slay', 'slay spire', 'sleep', 'sleep just', 'slide', 'slider', 'slider make', 'sliders', 'sliders game', 'slight', 'slightly', 'slim', 'slot', 'slow', 'slow play', 'slower', 'slowly', 'sluggish', 'sly', 'sly cooper', 'small', 'smaller', 'smart', 'smart delivery', 'smart gaming', 'smart google', 'smart tv', 'smartphone', 'smash', 'smith', 'smith https', 'smooth', 'smoother', 'snarky', 'snarky comments', 'snes', 'snes gameboy', 'sniper', 'sniper elite', 'social', 'soft', 'software', 'software update', 'software valuable', 'sold', 'sold separately', 'solely', 'solid', 'solo', 'solution', 'solution issue', 'solution thanks', 'solutions', 'solve', 'solve issue', 'solve puzzles', 'solved', 'somebody', 'somewhat', 'son', 'son https', 'song', 'songs', 'sony', 'sony a80j', 'sony charge', 'sony interactive', 'sony like', 'sony making', 'sony playstation', 'sony right', 'sony said', 'sony website', 'sonys', 'soon', 'soon service', 'soon want', 'sooner', 'sooo', 'sooooo', 'sorry', 'sorry bad', 'sorry english', 'sorry really', 'sorry stupid', 'sort', 'sort like', 'sort new', 'sorts', 'soul', 'souls', 'souls gt7', 'souls remake', 'sound', 'sound games', 'sound like', 'sound settings', 'sound xbox', 'soundbar', 'sounded', 'sounded like', 'sounds', 'sounds like', 'soundtrack', 'source', 'source content', 'source want', 'sources', 'sources direct', 'sources https', 'south', 'space', 'spare', 'speak', 'speaker', 'speakers', 'speaking', 'speaks', 'special', 'special edition', 'specially', 'specific', 'specific games', 'specifically', 'specifically lg', 'specifically xbox', 'specs', 'speed', 'speed features', 'speed really', 'speeds', 'spend', 'spend 100', 'spend 500', 'spending', 'spending money', 'spends', 'spent', 'spider', 'spider man', 'spiderman', 'spikes', 'spin', 'spins', 'spire', 'spirits', 'spirits https', 'split', 'split screen', 'splitter', 'spoilers', 'spoke', 'sport', 'sport https', 'sports', 'spot', 'spotify', 'spread', 'spreadsheets', 'spreadsheets 1giozspyht8ogngaoxggxi3hzxmmn8wdbokzrzxyuz', 'square', 'square enix', 'squeeze', 'ssd', 'ssd expansion', 'ssd ps5', 'ssd slot', 'stack', 'stackable', 'stackable https', 'staff', 'stages', 'staggering', 'stand', 'stand chance', 'standard', 'standards', 'standby', 'standby mode', 'standing', 'standout', 'stands', 'star', 'star wars', 'stardew', 'stardew valley', 'starfield', 'start', 'start calibrating', 'start finish', 'start game', 'start like', 'start playing', 'start xbox', 'started', 'started game', 'started getting', 'started happening', 'started installing', 'started new', 'started playing', 'started series', 'started set', 'starting', 'starting game', 'starting gt', 'starting just', 'starting really', 'starting screen', 'starting second', 'starting xbox', 'starts', 'startup', 'stat', 'stat fps', 'state', 'stated', 'states', 'states like', 'states region', 'static', 'stating', 'station', 'status', 'status https', 'status playstation', 'stay', 'stay dashboard', 'staying', 'stays', 'stealth', 'stealth 700', 'steam', 'steelseries', 'steelseries arctis', 'stellar', 'stellar track', 'step', 'step possible', 'steps', 'stereo', 'stick', 'stick drift', 'stick drifting', 'stick drifts', 'stick feels', 'stick shooter', 'sticking', 'sticks', 'stock', 'stock opinion', 'stock pre', 'stockx', 'stole', 'stolen', 'stop', 'stop doing', 'stop working', 'stoped', 'stopped', 'stopped game', 'stopped working', 'stopping', 'stops', 'stops download', 'storage', 'storage deleting', 'storage does', 'storage play', 'storage xbox', 'store', 'store available', 'store download', 'store game', 'store https', 'store just', 'store like', 'store metacritic', 'store ps5', 'store really', 'store say', 'store stock', 'stored', 'stores', 'stories', 'storm', 'story', 'story characters', 'story driven', 'story gameplay', 'story mode', 'story short', 'storyline', 'straight', 'straight just', 'straightforward', 'stranding', 'stranding https', 'strange', 'strange true', 'stranger', 'stranger paradise', 'strategy', 'strategy games', 'stray', 'stream', 'stream ps3', 'streamers', 'streaming', 'streaming amp', 'streaming app', 'streaming service', 'streamlined', 'streams', 'street', 'strength', 'stress', 'strictly', 'strike', 'strikes', 'strong', 'stronger', 'structure', 'struggle', 'struggled', 'struggling', 'stuck', 'stuck ps5', 'student', 'studio', 'studio make', 'studios', 'stuff', 'stuff game', 'stumped', 'stunning', 'stupid', 'stupid question', 'stutters', 'style', 'style gameplay', 'style makes', 'sub', 'sub accounts', 'sub reddit', 'sub want', 'subject', 'subject gamesubwiki', 'subreddit', 'subs', 'subsampling', 'subsampling sdr', 'subscribe', 'subscribed', 'subscriber', 'subscription', 'subscription codes', 'subscription ends', 'subscription new', 'subscription service', 'subscriptions', 'subtitles', 'success', 'successfully', 'suck', 'sucks', 'sudden', 'suddenly', 'suddenly changes', 'suffer', 'suggest', 'suggested', 'suggested settings', 'suggestion', 'suggestions', 'suggestions appreciated', 'suggestions fix', 'suggestions games', 'suggestions headsets', 'suggestions helpful', 'suggestions welcome', 'suit', 'suitcase', 'summer', 'summer sale', 'summon', 'sun', 'sunset', 'sunset overdrive', 'super', 'super annoying', 'superior', 'supply', 'support', 'support 4k', 'support amp', 'support ask', 'support chance', 'support controller', 'support dolby', 'support freesync', 'support games', 'support hardware', 'support hdr10', 'support help', 'support https', 'support playstation', 'support ve', 'supported', 'supporting', 'supporting patreon', 'supports', 'supposed', 'supposedly', 'sure', 'sure buy', 'sure did', 'sure disc', 'sure going', 'sure issue', 'sure just', 'sure ll', 'sure ve', 'sure warranty', 'surely', 'surge', 'surge protector', 'surprise', 'surprised', 'surprises', 'surround', 'surround sound', 'survival', 'survive', 'suspects', 'suspended', 'swap', 'swear', 'sweet', 'swing', 'switch', 'switch games', 'switch gaming', 'switch just', 'switch ps5', 'switch thanks', 'switched', 'switched xbox', 'switching', 'switching xbox', 'sx', 'sx better', 'sx play', 'sync', 'sync button', 'synced', 'syncing', 'systems', 'tab', 'table', 'tablet', 'tactical', 'tactics', 'tag', 'tailor', 'tailor compatible', 'taken', 'taken long', 'takes', 'takes long', 'taking', 'taking advantage', 'taking apart', 'tale', 'tale innocence', 'tales', 'tales arise', 'talk', 'talk just', 'talk people', 'talk service', 'talked', 'talking', 'talking games', 'tap', 'target', 'taste', 'tax', 'tb', 'tbh', 'team', 'teams', 'tech', 'tech support', 'technical', 'technically', 'techniques', 'technology', 'techoptimized', 'techoptimized following', 'techoptimized including', 'tekken', 'tell', 'tell send', 'telling', 'telling need', 'tells', 'telltale', 'temperature', 'tempest', 'tempest audio', 'temporarily', 'temporary', 'temporary fix', 'tempted', 'tend', 'term', 'terms', 'terms power', 'terrible', 'test', 'test mode', 'tested', 'tested lg', 'testing', 'testing amp', 'text', 'textures', 'thank', 'thank advance', 'thankfully', 'thanks', 'thanks advance', 'thanks forced', 'thanks guys', 'thanks help', 'thanks reading', 'thanks suggestions', 'thanks time', 'thats', 'theft', 'theft auto', 'theirs', 'themes', 'theres', 'theyre', 'thief', 'thief end', 'thing', 'thing bought', 'thing happened', 'thing just', 'thing ve', 'thing watching', 'things', 'things haven', 'things just', 'things like', 'things people', 'things playstation', 'think', 'think console', 'think game', 'think games', 'think great', 'think hope', 'think just', 'think ll', 'think need', 'think ps5', 'think sony', 'think try', 'think ve', 'thinking', 'thinking buy', 'thinking getting', 'thinking giving', 'thinking maybe', 'thinking trying', 'thinks', 'tho', 'thought', 'thought controller', 'thought maybe', 'thought ps5', 'thoughts', 'thousands', 'thread', 'thread helping', 'thread https', 'threads', 'threads https', 'threads lg', 'threads playstation', 'threw', 'thrill', 'throw', 'throws', 'thumb', 'thumb stick', 'thumbs', 'ti', 'tia', 'tied', 'tier', 'tiers', 'tight', 'til', 'till', 'time', 'time check', 'time control', 'time didn', 'time dynamically', 'time finding', 'time friends', 'time game', 'time games', 'time getting', 'time got', 'time heat', 'time help', 'time just', 'time know', 'time launch', 'time like', 'time limit', 'time load', 'time menu', 'time open', 'time pc', 'time play', 'time playing', 'time ps5', 'time really', 'time setup', 'time spent', 'time time', 'time tried', 'time try', 'time trying', 'time turn', 'time upgrade', 'time use', 'time ve', 'time want', 'time xbox', 'timed', 'timeline', 'times', 'times cleared', 'times does', 'times got', 'times making', 'times time', 'times working', 'tina', 'tina wonderlands', 'tinas', 'tinas hdr', 'tint', 'tint hdr', 'tiny', 'tiny tina', 'tiny tinas', 'tip', 'tips', 'tips tricks', 'tired', 'tiring', 'titans', 'title', 'title remember', 'title says', 'title states', 'title ve', 'titles', 'titles like', 'tl', 'tl dr', 'tldr', 'tldr ps5', 'tlou', 'tmnt', 'today', 'today games', 'today looking', 'today new', 'today playing', 'today ps5', 'tokyo', 'tokyo https', 'told', 'told don', 'tom', 'tom clancy', 'tomb', 'tomb raider', 'tomorrow', 'ton', 'tone', 'tone mapping', 'tonight', 'tons', 'tony', 'tony hawk', 'took', 'took video', 'tools', 'topic', 'topmost', 'topmost relevant', 'total', 'totally', 'totally disappear', 'touch', 'touched', 'touched order', 'touching', 'tough', 'tow', 'town', 'tracing', 'track', 'track record', 'tracker', 'tracking', 'tracking number', 'tracks', 'trade', 'traditional', 'trailer', 'trailer https', 'trailers', 'transaction', 'transaction costs', 'transactions', 'transfer', 'transfer data', 'transfer game', 'transfer ps4', 'transfer rate', 'transfer screen', 'transfer speed', 'transferred', 'transferring', 'transit', 'transparency', 'trash', 'travel', 'traveling', 'travelling', 'traverse', 'trees', 'trend', 'trending', 'trending game', 'trends', 'trial', 'trial code', 'trial version', 'trick', 'tricks', 'tricky', 'tried', 'tried changing', 'tried contacting', 'tried deleting', 'tried different', 'tried doing', 'tried fix', 'tried games', 'tried googling', 'tried hard', 'tried just', 'tried launch', 'tried make', 'tried multiple', 'tried new', 'tried play', 'tried playing', 'tried plugging', 'tried power', 'tried remote', 'tried resetting', 'tried restarting', 'tried switching', 'tried thank', 'tried troubleshooting', 'tried uninstalling', 'tried using', 'tries', 'trigger', 'triggers', 'triggers kind', 'trilogy', 'trilogy https', 'trophies', 'trophy', 'trouble', 'trouble finding', 'troubleshooting', 'troubleshooting steps', 'trough', 'true', 'true 4k', 'true colors', 'true potential', 'trueachievements', 'trueachievements com', 'trueachievements https', 'truly', 'trust', 'trusted', 'truth', 'try', 'try different', 'try download', 'try fix', 'try game', 'try getting', 'try join', 'try later', 'try launch', 'try make', 'try new', 'try play', 'try playing', 'try says', 'try update', 'try use', 'trying', 'trying console', 'trying decide', 'trying figure', 'trying load', 'trying play', 'trying ps5', 'trying redeem', 'trying sign', 'trying watch', 'trying way', 'tsushima', 'tsushima god', 'tsushima horizon', 'tsushima https', 'tuf', 'turbo', 'turismo', 'turismo https', 'turismo sport', 'turn', 'turn auto', 'turn based', 'turn console', 'turn ps5', 'turn xbox', 'turned', 'turned console', 'turning', 'turns', 'turtle', 'turtle beach', 'tutorial', 'tv', 'tv 3840', 'tv 697', 'tv channels', 'tv different_', 'tv doesn', 'tv dolby', 'tv game', 'tv hdmi', 'tv hdr', 'tv hdr10', 'tv home', 'tv just', 'tv like', 'tv ps5', 'tv samsung', 'tv series', 'tv settings', 'tv shows', 'tv stand', 'tv sure', 'tv tv', 'tv usb', 'tv ve', 'tv xbox', 'tvs', 'tvs accessories', 'tvs need', 'tvs properly', 'tweak', 'tweet', 'twice', 'twice https', 'twin', 'twin stick', 'twitch', 'twitter', 'twitter com', 'twitter https', 'type', 'type cable', 'type content', 'type game', 'type stat', 'type video', 'types', 'types games', 'typically', 'typing', 'ubisoft', 'uhd', 'uhd quantum', 'ui', 'uk', 'ultimate', 'ultimate code', 'ultimate edition', 'ultimate faq', 'ultimate home', 'ultimate set', 'ultimately', 'ultra', 'ultra hd', 'unable', 'unable connect', 'unavailable', 'unbelievable', 'uncharted', 'uncharted games', 'uncharted lost', 'uncharted spider', 'uncharted thief', 'uncover', 'underappreciated', 'underappreciated people', 'underneath', 'underrated', 'underrated darlings', 'understand', 'understand hype', 'understandable', 'understanding', 'unfortunately', 'uninstall', 'uninstalled', 'uninstalling', 'uninstalling reinstalling', 'unique', 'unique abilities', 'unit', 'unit profit', 'united', 'united states', 'units', 'unless', 'unlike', 'unlike games', 'unlikely', 'unlock', 'unlock chroma', 'unlock lg', 'unlocked', 'unlocks', 'unlucky', 'unplayable', 'unplug', 'unplugged', 'unplugging', 'unresponsive', 'unscrew', 'unsupported', 'unsure', 'unusable', 'upcoming', 'upcoming games', 'update', 'update available', 'update controller', 'update firmware', 'update game', 'update install', 'update know', 'update like', 'update ps5', 'updated', 'updated firmware', 'updated gen', 'updated overall', 'updated xbox', 'updates', 'updating', 'upgrade', 'upgrade 10', 'upgrade existing', 'upgrade extra', 'upgrade just', 'upgrade old', 'upgrade ps', 'upgrade ps5', 'upgrade wait', 'upgraded', 'upgrades', 'upgrading', 'uplay', 'upload', 'uploads', 'upper', 'upper right', 'upscaled', 'upwards', 'usa', 'usage', 'usb', 'usb type', 'usd', 'use', 'use controller', 'use external', 'use pc', 'use ps4', 'use ps5', 'use settings', 'use single', 'use xbox', 'used', 'used xbox', 'useful', 'useful insights', 'useless', 'user', 'username', 'users', 'uses', 'using', 'using account', 'using controller', 'using dtm', 'using external', 'using gamepass', 'using hgig', 'using hidden', 'using like', 'using main', 'using monitor', 'using new', 'using ps5', 'using remote', 'using series', 'using tv', 'using xbox', 'usp', 'usp sharing', 'usual', 'usually', 'usually just', 'usually play', 'usually tvs', 'utilize', 'utm_medium', 'utm_source', 'utm_source share', 'utter', 'utterly', 'v2', 'vacation', 'valhalla', 'valhalla https', 'valido', 'valido https', 'valley', 'valuable', 'valuable online', 'value', 'value 50', 'value 60', 'vanguard', 'vanguard https', 'variance', 'variance error', 'variance experience', 'variance models', 'variants', 'variants lg', 'variety', 'various', 'vast', 'vast overreaching', 've', 've able', 've bought', 've cleaned', 've collected', 've come', 've connected', 've correctly', 've deleted', 've downloaded', 've enjoyed', 've finally', 've gone', 've got', 've gotten', 've hard', 've heard', 've just', 've like', 've looked', 've looking', 've loved', 've noticed', 've owned', 've played', 've playing', 've playstation', 've problems', 've ps5', 've read', 've recently', 've restarted', 've seen', 've series', 've started', 've thought', 've tried', 've troubleshooting', 've trying', 've turned', 've waited', 've wanting', 've xbox', 've xsx', 've years', 'vegas', 'vehicle', 'vehicles', 'vent', 'ventilated', 'ventilation', 'verified', 'verify', 'verify ve', 'versa', 'version', 'version downloaded', 'version downloading', 'version game', 'version just', 'version playable', 'version ps4', 'version ps5', 'version regular', 'version run', 'version spider', 'version update', 'version works', 'versions', 'versions ps4', 'versus', 'versus https', 'vertical', 'vertically', 'vibrant', 'vibration', 'vibrations', 'vice', 'vice versa', 'video', 'video content', 'video game', 'video games', 'video https', 'video source', 'videogame', 'videogames', 'videos', 'videos reviews', 'videos webos', 'view', 'view game', 'view past', 'view screen', 'viewing', 'vii', 'vii remake', 'village', 'village https', 'virtual', 'virtual machine', 'virtually', 'visible', 'vision', 'vision change', 'vision content', 'vision contents', 'vision games', 'vision hdr', 'vision movie', 'vision suggested', 'vision webos', 'visit', 'visit parents', 'visiting', 'visual', 'visual novels', 'visually', 'visuals', 'vivid', 'vizio', 'voice', 'voice chat', 'voice chats', 'voice lines', 'voices', 'void', 'volume', 'volume way', 'vpn', 'vr', 'vr games', 'vr psvr', 'vrr', 'vs', 'vs capcom', 'vs hgig', 'w7', 'w7 newer', 'wait', 'wait does', 'wait receive', 'wait update', 'waited', 'waiting', 'waiting months', 'waiting years', 'wake', 'walk', 'walked', 'walking', 'wall', 'wall plug', 'wallet', 'walmart', 'wanna', 'wanna buy', 'wanna play', 'want', 'want added', 'want buy', 'want calibrate', 'want change', 'want download', 'want hear', 'want invest', 'want know', 'want make', 'want new', 'want play', 'want ps5', 'want return', 'want series', 'want spend', 'want transfer', 'want try', 'want turn', 'want use', 'want xbox', 'wanted', 'wanted ask', 'wanted buy', 'wanted check', 'wanted confirm', 'wanted got', 'wanted know', 'wanted play', 'wanted try', 'wanting', 'wanting play', 'wants', 'wants play', 'wants use', 'war', 'war games', 'war https', 'war persona', 'war ps5', 'war ragnarök', 'warfare', 'warfare 2019', 'warm', 'warning', 'warrant', 'warranty', 'warranty expired', 'wars', 'wars battlefront', 'wars jedi', 'wars skywalker', 'warzone', 'warzone https', 'washed', 'washed settings', 'washington', 'wasn', 'wasn caught', 'wasn sure', 'wasnt', 'waste', 'waste time', 'wasted', 'wasted potential', 'wasteland', 'watch', 'watch movie', 'watch netflix', 'watchdogs', 'watchdogs legion', 'watching', 'watching movie', 'watching videos', 'water', 'way', 'way answer', 'way better', 'way buy', 'way check', 'way connect', 'way console', 'way don', 'way download', 'way fix', 'way https', 'way just', 'way know', 'way left', 'way let', 'way new', 'way play', 'way possible', 'way ps5', 'way search', 'way thanks', 'way transfer', 'way ve', 'way way', 'ways', 'wb', 'wb advanced', 'weak', 'weapon', 'weapons', 'wear', 'wearing', 'web', 'web page', 'webcam', 'webcam works', 'webos', 'webos built', 'webos dolby', 'webos hdr', 'webos movies', 'webos netflix', 'webos sdr', 'webp', 'webp amp', 'website', 'website got', 'website says', 'websites', 'week', 'week ago', 'week just', 'week playing', 'weekend', 'weekly', 'weekly 20questions', 'weekly question', 'weeks', 'weeks ago', 'weeks ll', 'weight', 'weird', 'weirdest', 'welcome', 'went', 'went 360', 'went black', 'went check', 'went hours', 'went play', 'went wrong', 'weren', 'weren touched', 'west', 'west bundle', 'west games', 'west https', 'western', 'wfwumtw', 'wfwumtw jpg', 'whats', 'whats going', 'whatsoever', 'wheels', 'whilst', 'whim', 'whisper', 'white', 'white background', 'white set', 'wi', 'wi fi', 'wicked', 'wide', 'width', 'width 1080', 'width 1600', 'width 323', 'width 614', 'wife', 'wife said', 'wifi', 'wifi works', 'wii', 'wiki', 'wiki communities', 'wiki guides', 'wiki list', 'wiki ps5', 'wild', 'wild hunt', 'wile', 'willing', 'willing sell', 'win', 'window', 'windows', 'windows 10', 'windows pc', 'wingman', 'wingman xb', 'winning', 'wire', 'wired', 'wired connection', 'wired controller', 'wired router', 'wired wireless', 'wireless', 'wireless controller', 'wireless headset', 'wires', 'wise', 'wish', 'wish list', 'wished', 'wisps', 'wisps https', 'witch', 'witcher', 'witcher wild', 'woke', 'woke morning', 'wolverine', 'won', 'won connect', 'won home', 'won let', 'won react', 'won turn', 'won update', 'won work', 'wonder', 'wondered', 'wonderful', 'wondering', 'wondering able', 'wondering games', 'wondering good', 'wondering guys', 'wondering help', 'wondering know', 'wondering knows', 'wondering like', 'wondering ll', 'wondering new', 'wondering use', 'wondering way', 'wondering worth', 'wonderlands', 'wonderlands https', 'wonky', 'wont', 'wont turn', 'word', 'word unlike', 'words', 'wordtohtml', 'wordtohtml net', 'work', 'work anymore', 'work buy', 'work don', 'work just', 'work laptop', 'work like', 'work lot', 'work need', 'work ps5', 'work series', 'work thanks', 'work unless', 'work way', 'work xbox', 'workaround', 'worked', 'worked fine', 'worked great', 'worked intended', 'worked just', 'worked perfectly', 'working', 'working controller', 'working fine', 'working just', 'working perfectly', 'working properly', 'works', 'works fine', 'works great', 'works just', 'works new', 'works phone', 'works ps5', 'works series', 'world', 'world evolution', 'world games', 'world https', 'worlds', 'worried', 'worry', 'worrying', 'worse', 'worst', 'worth', 'worth buying', 'worth getting', 'worth just', 'worth playing', 'wouldn', 'wouldn make', 'wouldn turn', 'wow', 'wp3hw', 'wp3hw mp9wz', 'wrap', 'write', 'writing', 'written', 'wrong', 'wrong says', 'wrong ve', 'wtf', 'wwii', 'wwii https', 'www', 'www google', 'www ign', 'www jandusoft', 'www metacritic', 'www patreon', 'www playstation', 'www reddit', 'www resetera', 'www square', 'www trueachievements', 'www xbox', 'www youtube', 'x200b', 'x200b amp', 'x200b dualsense', 'x200b https', 'x200b july', 'x200b playstation', 'x200b relevant', 'x200b returnal', 'x200b share', 'x200b xo', 'xb', 'xb1', 'xbone', 'xbox', 'xbox 360', 'xbox account', 'xbox accounts', 'xbox amp', 'xbox anymore', 'xbox app', 'xbox automatically', 'xbox basically', 'xbox bought', 'xbox button', 'xbox buy', 'xbox c8', 'xbox com', 'xbox coming', 'xbox console', 'xbox consoles', 'xbox controller', 'xbox controllers', 'xbox days', 'xbox decided', 'xbox did', 'xbox does', 'xbox doesn', 'xbox dolby', 'xbox don', 'xbox exclusive', 'xbox exclusives', 'xbox game', 'xbox gamepass', 'xbox games', 'xbox gave', 'xbox gift', 'xbox having', 'xbox hdr', 'xbox headset', 'xbox home', 'xbox insider', 'xbox just', 'xbox know', 'xbox let', 'xbox like', 'xbox live', 'xbox love', 'xbox months', 'xbox morning', 'xbox option', 'xbox pc', 'xbox play', 'xbox played', 'xbox playstation', 'xbox ps5', 'xbox really', 'xbox sdr', 'xbox series', 'xbox set', 'xbox specifically', 'xbox store', 'xbox studios', 'xbox support', 'xbox sx', 'xbox thank', 'xbox time', 'xbox tips', 'xbox tried', 'xbox ve', 'xbox ventilated', 'xbox version', 'xbox want', 'xbox wanted', 'xbox wireless', 'xbox work', 'xbox works', 'xbox wouldn', 'xbox xbox', 'xbox years', 'xboxera', 'xboxera com', 'xbsx', 'xcloud', 'xcloud streaming', 'xo', 'xo https', 'xr', 'xr oled', 'xs', 'xss', 'xsx', 'xsx does', 'xsx run', 'xv', 'xv https', 'ya', 'yakuza', 'yakuza games', 'yall', 'yeah', 'yeah know', 'year', 'year ago', 'year half', 'year https', 'year just', 'year old', 'year ps5', 'year really', 'yearly', 'yearly subscription', 'years', 'years ago', 'years doesn', 'years finally', 'years gathering', 'years later', 'years ps5', 'years worth', 'years years', 'yes', 'yesterday', 'yesterday xbox', 'ylhhqhktjf4ri1ngw4', 'ylhhqhktjf4ri1ngw4 edit', 'york', 'younger', 'youtu', 'youtube', 'youtube app', 'youtube com', 'youtube video', 'youtuber', 'yzi_75tboxrkbrnofoxym', 'yzi_75tboxrkbrnofoxym edit', 'z_oyx5gj4o', 'z_oyx5gj4o yzi_75tboxrkbrnofoxym', 'zelda', 'zero', 'zero dawn', 'zombies', 'zone']\n"
     ]
    },
    {
     "name": "stderr",
     "output_type": "stream",
     "text": [
      "/Users/ezizkerem/opt/anaconda3/lib/python3.9/site-packages/sklearn/utils/deprecation.py:87: FutureWarning: Function get_feature_names is deprecated; get_feature_names is deprecated in 1.0 and will be removed in 1.2. Please use get_feature_names_out instead.\n",
      "  warnings.warn(msg, category=FutureWarning)\n"
     ]
    }
   ],
   "source": [
    "print(cvec.get_feature_names())"
   ]
  },
  {
   "cell_type": "code",
   "execution_count": 13,
   "id": "bdf339d0",
   "metadata": {},
   "outputs": [
    {
     "name": "stderr",
     "output_type": "stream",
     "text": [
      "/Users/ezizkerem/opt/anaconda3/lib/python3.9/site-packages/sklearn/utils/deprecation.py:87: FutureWarning: Function get_feature_names is deprecated; get_feature_names is deprecated in 1.0 and will be removed in 1.2. Please use get_feature_names_out instead.\n",
      "  warnings.warn(msg, category=FutureWarning)\n",
      "/Users/ezizkerem/opt/anaconda3/lib/python3.9/site-packages/sklearn/utils/deprecation.py:87: FutureWarning: Function get_feature_names is deprecated; get_feature_names is deprecated in 1.0 and will be removed in 1.2. Please use get_feature_names_out instead.\n",
      "  warnings.warn(msg, category=FutureWarning)\n"
     ]
    }
   ],
   "source": [
    "ss = StandardScaler()\n",
    "X_train_cvec = pd.DataFrame(X_train_cvec.toarray(), columns=cvec.get_feature_names())\n",
    "X_test_cvec = pd.DataFrame(X_test_cvec.toarray(), columns=cvec.get_feature_names())\n",
    "\n",
    "X_train_cvec = ss.fit_transform(X_train_cvec)\n",
    "X_test_cvec = ss.transform(X_test_cvec)"
   ]
  },
  {
   "cell_type": "markdown",
   "id": "111d043f",
   "metadata": {},
   "source": [
    "## Logistic Regression"
   ]
  },
  {
   "cell_type": "code",
   "execution_count": 149,
   "id": "525ce3f5",
   "metadata": {},
   "outputs": [],
   "source": [
    "from sklearn.linear_model import LogisticRegression"
   ]
  },
  {
   "cell_type": "code",
   "execution_count": 150,
   "id": "96c25684",
   "metadata": {},
   "outputs": [],
   "source": [
    "logreg_cvec = LogisticRegression(max_iter=1000) "
   ]
  },
  {
   "cell_type": "code",
   "execution_count": 151,
   "id": "9bff86c8",
   "metadata": {},
   "outputs": [
    {
     "data": {
      "text/plain": [
       "LogisticRegression(max_iter=1000)"
      ]
     },
     "execution_count": 151,
     "metadata": {},
     "output_type": "execute_result"
    }
   ],
   "source": [
    "lr.fit(X_train_cvec, y_train)"
   ]
  },
  {
   "cell_type": "code",
   "execution_count": 154,
   "id": "92c8dfd4",
   "metadata": {},
   "outputs": [
    {
     "data": {
      "text/plain": [
       "0.9962476547842402"
      ]
     },
     "execution_count": 154,
     "metadata": {},
     "output_type": "execute_result"
    }
   ],
   "source": [
    "lr.score(X_train_cvec, y_train)"
   ]
  },
  {
   "cell_type": "code",
   "execution_count": 155,
   "id": "499ab5ac",
   "metadata": {},
   "outputs": [
    {
     "data": {
      "text/plain": [
       "0.6573033707865169"
      ]
     },
     "execution_count": 155,
     "metadata": {},
     "output_type": "execute_result"
    }
   ],
   "source": [
    "lr.score(X_test_cvec, y_test)"
   ]
  },
  {
   "cell_type": "markdown",
   "id": "b743556c",
   "metadata": {},
   "source": [
    "#### Model tuning"
   ]
  },
  {
   "cell_type": "code",
   "execution_count": 129,
   "id": "803fb76d",
   "metadata": {},
   "outputs": [],
   "source": [
    "pipe = Pipeline([('cvec', CountVectorizer()),('logreg', LogisticRegression())])"
   ]
  },
  {
   "cell_type": "code",
   "execution_count": 130,
   "id": "2126aca9",
   "metadata": {},
   "outputs": [],
   "source": [
    "pipe_params = {\n",
    "    'cvec__max_features' : [6000, 7000, 8000],\n",
    "    'cvec__min_df' : [1, 2],\n",
    "    'cvec__max_df' : [0.7, 0.8],\n",
    "    'cvec__ngram_range' : [(1,1), (1,2)],\n",
    "    'logreg__max_iter' : [500, 1000]\n",
    "}"
   ]
  },
  {
   "cell_type": "code",
   "execution_count": 131,
   "id": "a0020da5",
   "metadata": {},
   "outputs": [],
   "source": [
    "gs = GridSearchCV(pipe, param_grid=pipe_params, cv = 5)"
   ]
  },
  {
   "cell_type": "code",
   "execution_count": 132,
   "id": "f0444bc9",
   "metadata": {},
   "outputs": [
    {
     "data": {
      "text/plain": [
       "GridSearchCV(cv=5,\n",
       "             estimator=Pipeline(steps=[('cvec', CountVectorizer()),\n",
       "                                       ('logreg', LogisticRegression())]),\n",
       "             param_grid={'cvec__max_df': [0.7, 0.8],\n",
       "                         'cvec__max_features': [6000, 7000, 8000],\n",
       "                         'cvec__min_df': [1, 2],\n",
       "                         'cvec__ngram_range': [(1, 1), (1, 2)],\n",
       "                         'logreg__max_iter': [500, 1000]})"
      ]
     },
     "execution_count": 132,
     "metadata": {},
     "output_type": "execute_result"
    }
   ],
   "source": [
    "gs.fit(X_train, y_train)"
   ]
  },
  {
   "cell_type": "code",
   "execution_count": 133,
   "id": "b2839625",
   "metadata": {},
   "outputs": [
    {
     "data": {
      "text/plain": [
       "0.8161363636363637"
      ]
     },
     "execution_count": 133,
     "metadata": {},
     "output_type": "execute_result"
    }
   ],
   "source": [
    "gs.best_score_"
   ]
  },
  {
   "cell_type": "code",
   "execution_count": 134,
   "id": "a86df1db",
   "metadata": {},
   "outputs": [
    {
     "data": {
      "text/plain": [
       "{'cvec__max_df': 0.7,\n",
       " 'cvec__max_features': 8000,\n",
       " 'cvec__min_df': 2,\n",
       " 'cvec__ngram_range': (1, 2),\n",
       " 'logreg__max_iter': 500}"
      ]
     },
     "execution_count": 134,
     "metadata": {},
     "output_type": "execute_result"
    }
   ],
   "source": [
    "gs.best_params_"
   ]
  },
  {
   "cell_type": "markdown",
   "id": "9081b4b0",
   "metadata": {},
   "source": [
    "## Random Forest"
   ]
  },
  {
   "cell_type": "code",
   "execution_count": 20,
   "id": "b4a5fa6f",
   "metadata": {},
   "outputs": [],
   "source": [
    "rf = RandomForestClassifier()"
   ]
  },
  {
   "cell_type": "code",
   "execution_count": 25,
   "id": "dca7bdc6",
   "metadata": {},
   "outputs": [
    {
     "data": {
      "text/plain": [
       "0.8323922413793102"
      ]
     },
     "execution_count": 25,
     "metadata": {},
     "output_type": "execute_result"
    }
   ],
   "source": [
    "cross_val_score(rf, X_train_tvec, y_train, cv = 5).mean()"
   ]
  },
  {
   "cell_type": "code",
   "execution_count": 156,
   "id": "ec4f0289",
   "metadata": {},
   "outputs": [],
   "source": [
    "rf_params = {\n",
    "    'n_estimators': [50, 75, 100],\n",
    "    'max_depth': [10, 15, 20],\n",
    "    'min_samples_split': [2, 5, 10],\n",
    "    'min_samples_leaf': [3, 5, 8]\n",
    "}"
   ]
  },
  {
   "cell_type": "code",
   "execution_count": 158,
   "id": "6563889c",
   "metadata": {},
   "outputs": [
    {
     "name": "stdout",
     "output_type": "stream",
     "text": [
      "Fitting 5 folds for each of 81 candidates, totalling 405 fits\n",
      "0.8305211598746082\n"
     ]
    }
   ],
   "source": [
    "rf_gs = GridSearchCV(estimator=RandomForestClassifier(random_state=42), param_grid=rf_params, cv = 5, verbose=1, n_jobs=-1)\n",
    "rf_gs.fit(X_train_cvec, y_train)\n",
    "print(rf_gs.best_score_)"
   ]
  },
  {
   "cell_type": "code",
   "execution_count": 159,
   "id": "f8eafb66",
   "metadata": {},
   "outputs": [
    {
     "data": {
      "text/plain": [
       "{'max_depth': 20,\n",
       " 'min_samples_leaf': 3,\n",
       " 'min_samples_split': 10,\n",
       " 'n_estimators': 100}"
      ]
     },
     "execution_count": 159,
     "metadata": {},
     "output_type": "execute_result"
    }
   ],
   "source": [
    "rf_gs.best_params_"
   ]
  },
  {
   "cell_type": "code",
   "execution_count": 170,
   "id": "31aa34d4",
   "metadata": {},
   "outputs": [],
   "source": [
    "best_rf = rf_gs.best_estimator_"
   ]
  },
  {
   "cell_type": "code",
   "execution_count": 171,
   "id": "b11ae4e5",
   "metadata": {},
   "outputs": [
    {
     "data": {
      "text/plain": [
       "RandomForestClassifier(max_depth=20, min_samples_leaf=3, min_samples_split=10,\n",
       "                       random_state=42)"
      ]
     },
     "execution_count": 171,
     "metadata": {},
     "output_type": "execute_result"
    }
   ],
   "source": [
    "best_rf.fit(X_train_cvec, y_train)"
   ]
  },
  {
   "cell_type": "code",
   "execution_count": 172,
   "id": "7c809b7c",
   "metadata": {},
   "outputs": [
    {
     "data": {
      "text/plain": [
       "0.866166353971232"
      ]
     },
     "execution_count": 172,
     "metadata": {},
     "output_type": "execute_result"
    }
   ],
   "source": [
    "best_rf.score(X_train_cvec, y_train)"
   ]
  },
  {
   "cell_type": "code",
   "execution_count": 174,
   "id": "8cc662a7",
   "metadata": {},
   "outputs": [
    {
     "data": {
      "text/plain": [
       "0.8370786516853933"
      ]
     },
     "execution_count": 174,
     "metadata": {},
     "output_type": "execute_result"
    }
   ],
   "source": [
    "best_rf.score(X_test_cvec, y_test)"
   ]
  },
  {
   "cell_type": "markdown",
   "id": "7b37958c",
   "metadata": {},
   "source": [
    "## KNN"
   ]
  },
  {
   "cell_type": "code",
   "execution_count": 37,
   "id": "d534ad38",
   "metadata": {},
   "outputs": [],
   "source": [
    "from sklearn.neighbors import KNeighborsClassifier"
   ]
  },
  {
   "cell_type": "code",
   "execution_count": 40,
   "id": "19ad581e",
   "metadata": {},
   "outputs": [],
   "source": []
  },
  {
   "cell_type": "code",
   "execution_count": 45,
   "id": "37ebaf10",
   "metadata": {},
   "outputs": [],
   "source": [
    "# pd.DataFrame(X_train_cvec.toarray(), columns=cvec.get_feature_names())"
   ]
  },
  {
   "cell_type": "code",
   "execution_count": 39,
   "id": "4066ef78",
   "metadata": {},
   "outputs": [
    {
     "name": "stderr",
     "output_type": "stream",
     "text": [
      "/Users/ezizkerem/opt/anaconda3/lib/python3.9/site-packages/sklearn/utils/deprecation.py:87: FutureWarning: Function get_feature_names is deprecated; get_feature_names is deprecated in 1.0 and will be removed in 1.2. Please use get_feature_names_out instead.\n",
      "  warnings.warn(msg, category=FutureWarning)\n",
      "/Users/ezizkerem/opt/anaconda3/lib/python3.9/site-packages/sklearn/utils/deprecation.py:87: FutureWarning: Function get_feature_names is deprecated; get_feature_names is deprecated in 1.0 and will be removed in 1.2. Please use get_feature_names_out instead.\n",
      "  warnings.warn(msg, category=FutureWarning)\n"
     ]
    }
   ],
   "source": [
    "X_train_cvec = pd.DataFrame(X_train_cvec.toarray(), columns=cvec.get_feature_names())\n",
    "X_test_cvec = pd.DataFrame(X_test_cvec.toarray(), columns=cvec.get_feature_names())\n"
   ]
  },
  {
   "cell_type": "code",
   "execution_count": 41,
   "id": "68a024b9",
   "metadata": {},
   "outputs": [
    {
     "data": {
      "text/plain": [
       "0.5465869905956113"
      ]
     },
     "execution_count": 41,
     "metadata": {},
     "output_type": "execute_result"
    }
   ],
   "source": [
    "knn = KNeighborsClassifier()\n",
    "cross_val_score(knn, X_train_cvec, y_train, cv = 5).mean()"
   ]
  },
  {
   "cell_type": "code",
   "execution_count": 160,
   "id": "364379ce",
   "metadata": {},
   "outputs": [],
   "source": [
    "knn_params = {\n",
    "    'n_neighbors' : [3, 5, 10],\n",
    "    'weights': ['uniform', 'distance']\n",
    "}"
   ]
  },
  {
   "cell_type": "code",
   "execution_count": 161,
   "id": "f3d31553",
   "metadata": {},
   "outputs": [
    {
     "name": "stdout",
     "output_type": "stream",
     "text": [
      "Fitting 5 folds for each of 6 candidates, totalling 30 fits\n",
      "0.5515967868338558\n",
      "{'n_neighbors': 3, 'weights': 'distance'}\n"
     ]
    }
   ],
   "source": [
    "knn_gs = GridSearchCV(KNeighborsClassifier(), param_grid=knn_params, cv=5, verbose =1, n_jobs=-1)\n",
    "knn_gs.fit(X_train_cvec, y_train)\n",
    "print(knn_gs.best_score_)\n",
    "print(knn_gs.best_params_)"
   ]
  },
  {
   "cell_type": "code",
   "execution_count": 180,
   "id": "be83051e",
   "metadata": {},
   "outputs": [
    {
     "name": "stdout",
     "output_type": "stream",
     "text": [
      "0.9993746091307066\n",
      "0.5561797752808989\n"
     ]
    }
   ],
   "source": [
    "best_knn = knn_gs.best_estimator_\n",
    "best_knn.fit(X_train_cvec, y_train)\n",
    "print(best_knn.score(X_train_cvec, y_train))\n",
    "print(best_knn.score(X_test_cvec, y_test))"
   ]
  },
  {
   "cell_type": "markdown",
   "id": "76affb20",
   "metadata": {},
   "source": [
    "## SVM"
   ]
  },
  {
   "cell_type": "code",
   "execution_count": 14,
   "id": "b2f3f58d",
   "metadata": {},
   "outputs": [],
   "source": [
    "from sklearn.svm import SVC"
   ]
  },
  {
   "cell_type": "code",
   "execution_count": 27,
   "id": "353d94d3",
   "metadata": {},
   "outputs": [
    {
     "data": {
      "text/plain": [
       "0.5384669539016079"
      ]
     },
     "execution_count": 27,
     "metadata": {},
     "output_type": "execute_result"
    }
   ],
   "source": [
    "svc = SVC(kernel='poly', degree=3)\n",
    "cross_val_score(svc, X_train_cvec, y_train, cv =6).mean()"
   ]
  },
  {
   "cell_type": "code",
   "execution_count": 16,
   "id": "71f47cb0",
   "metadata": {},
   "outputs": [],
   "source": [
    "svm_params = {\n",
    "    'kernel' : ['rbf', 'linear', 'poly'],\n",
    "    'C': [1, 3, 5],\n",
    "    'degree': [2, 3]\n",
    "}"
   ]
  },
  {
   "cell_type": "code",
   "execution_count": 18,
   "id": "40596f50",
   "metadata": {},
   "outputs": [
    {
     "name": "stdout",
     "output_type": "stream",
     "text": [
      "Fitting 5 folds for each of 18 candidates, totalling 90 fits\n"
     ]
    },
    {
     "ename": "KeyboardInterrupt",
     "evalue": "",
     "output_type": "error",
     "traceback": [
      "\u001b[0;31m---------------------------------------------------------------------------\u001b[0m",
      "\u001b[0;31mKeyboardInterrupt\u001b[0m                         Traceback (most recent call last)",
      "Input \u001b[0;32mIn [18]\u001b[0m, in \u001b[0;36m<cell line: 2>\u001b[0;34m()\u001b[0m\n\u001b[1;32m      1\u001b[0m svm_gs \u001b[38;5;241m=\u001b[39m GridSearchCV(SVC(), param_grid\u001b[38;5;241m=\u001b[39msvm_params, cv\u001b[38;5;241m=\u001b[39m\u001b[38;5;241m5\u001b[39m, verbose \u001b[38;5;241m=\u001b[39m\u001b[38;5;241m1\u001b[39m, n_jobs\u001b[38;5;241m=\u001b[39m\u001b[38;5;241m-\u001b[39m\u001b[38;5;241m1\u001b[39m)\n\u001b[0;32m----> 2\u001b[0m \u001b[43msvm_gs\u001b[49m\u001b[38;5;241;43m.\u001b[39;49m\u001b[43mfit\u001b[49m\u001b[43m(\u001b[49m\u001b[43mX_train_cvec\u001b[49m\u001b[43m,\u001b[49m\u001b[43m \u001b[49m\u001b[43my_train\u001b[49m\u001b[43m)\u001b[49m\n\u001b[1;32m      3\u001b[0m \u001b[38;5;28mprint\u001b[39m(svm_gs\u001b[38;5;241m.\u001b[39mbest_score_)\n\u001b[1;32m      4\u001b[0m \u001b[38;5;28mprint\u001b[39m(svm_gs\u001b[38;5;241m.\u001b[39mbest_params_)\n",
      "File \u001b[0;32m~/opt/anaconda3/lib/python3.9/site-packages/sklearn/model_selection/_search.py:891\u001b[0m, in \u001b[0;36mBaseSearchCV.fit\u001b[0;34m(self, X, y, groups, **fit_params)\u001b[0m\n\u001b[1;32m    885\u001b[0m     results \u001b[38;5;241m=\u001b[39m \u001b[38;5;28mself\u001b[39m\u001b[38;5;241m.\u001b[39m_format_results(\n\u001b[1;32m    886\u001b[0m         all_candidate_params, n_splits, all_out, all_more_results\n\u001b[1;32m    887\u001b[0m     )\n\u001b[1;32m    889\u001b[0m     \u001b[38;5;28;01mreturn\u001b[39;00m results\n\u001b[0;32m--> 891\u001b[0m \u001b[38;5;28;43mself\u001b[39;49m\u001b[38;5;241;43m.\u001b[39;49m\u001b[43m_run_search\u001b[49m\u001b[43m(\u001b[49m\u001b[43mevaluate_candidates\u001b[49m\u001b[43m)\u001b[49m\n\u001b[1;32m    893\u001b[0m \u001b[38;5;66;03m# multimetric is determined here because in the case of a callable\u001b[39;00m\n\u001b[1;32m    894\u001b[0m \u001b[38;5;66;03m# self.scoring the return type is only known after calling\u001b[39;00m\n\u001b[1;32m    895\u001b[0m first_test_score \u001b[38;5;241m=\u001b[39m all_out[\u001b[38;5;241m0\u001b[39m][\u001b[38;5;124m\"\u001b[39m\u001b[38;5;124mtest_scores\u001b[39m\u001b[38;5;124m\"\u001b[39m]\n",
      "File \u001b[0;32m~/opt/anaconda3/lib/python3.9/site-packages/sklearn/model_selection/_search.py:1392\u001b[0m, in \u001b[0;36mGridSearchCV._run_search\u001b[0;34m(self, evaluate_candidates)\u001b[0m\n\u001b[1;32m   1390\u001b[0m \u001b[38;5;28;01mdef\u001b[39;00m \u001b[38;5;21m_run_search\u001b[39m(\u001b[38;5;28mself\u001b[39m, evaluate_candidates):\n\u001b[1;32m   1391\u001b[0m     \u001b[38;5;124;03m\"\"\"Search all candidates in param_grid\"\"\"\u001b[39;00m\n\u001b[0;32m-> 1392\u001b[0m     \u001b[43mevaluate_candidates\u001b[49m\u001b[43m(\u001b[49m\u001b[43mParameterGrid\u001b[49m\u001b[43m(\u001b[49m\u001b[38;5;28;43mself\u001b[39;49m\u001b[38;5;241;43m.\u001b[39;49m\u001b[43mparam_grid\u001b[49m\u001b[43m)\u001b[49m\u001b[43m)\u001b[49m\n",
      "File \u001b[0;32m~/opt/anaconda3/lib/python3.9/site-packages/sklearn/model_selection/_search.py:838\u001b[0m, in \u001b[0;36mBaseSearchCV.fit.<locals>.evaluate_candidates\u001b[0;34m(candidate_params, cv, more_results)\u001b[0m\n\u001b[1;32m    830\u001b[0m \u001b[38;5;28;01mif\u001b[39;00m \u001b[38;5;28mself\u001b[39m\u001b[38;5;241m.\u001b[39mverbose \u001b[38;5;241m>\u001b[39m \u001b[38;5;241m0\u001b[39m:\n\u001b[1;32m    831\u001b[0m     \u001b[38;5;28mprint\u001b[39m(\n\u001b[1;32m    832\u001b[0m         \u001b[38;5;124m\"\u001b[39m\u001b[38;5;124mFitting \u001b[39m\u001b[38;5;132;01m{0}\u001b[39;00m\u001b[38;5;124m folds for each of \u001b[39m\u001b[38;5;132;01m{1}\u001b[39;00m\u001b[38;5;124m candidates,\u001b[39m\u001b[38;5;124m\"\u001b[39m\n\u001b[1;32m    833\u001b[0m         \u001b[38;5;124m\"\u001b[39m\u001b[38;5;124m totalling \u001b[39m\u001b[38;5;132;01m{2}\u001b[39;00m\u001b[38;5;124m fits\u001b[39m\u001b[38;5;124m\"\u001b[39m\u001b[38;5;241m.\u001b[39mformat(\n\u001b[1;32m    834\u001b[0m             n_splits, n_candidates, n_candidates \u001b[38;5;241m*\u001b[39m n_splits\n\u001b[1;32m    835\u001b[0m         )\n\u001b[1;32m    836\u001b[0m     )\n\u001b[0;32m--> 838\u001b[0m out \u001b[38;5;241m=\u001b[39m \u001b[43mparallel\u001b[49m\u001b[43m(\u001b[49m\n\u001b[1;32m    839\u001b[0m \u001b[43m    \u001b[49m\u001b[43mdelayed\u001b[49m\u001b[43m(\u001b[49m\u001b[43m_fit_and_score\u001b[49m\u001b[43m)\u001b[49m\u001b[43m(\u001b[49m\n\u001b[1;32m    840\u001b[0m \u001b[43m        \u001b[49m\u001b[43mclone\u001b[49m\u001b[43m(\u001b[49m\u001b[43mbase_estimator\u001b[49m\u001b[43m)\u001b[49m\u001b[43m,\u001b[49m\n\u001b[1;32m    841\u001b[0m \u001b[43m        \u001b[49m\u001b[43mX\u001b[49m\u001b[43m,\u001b[49m\n\u001b[1;32m    842\u001b[0m \u001b[43m        \u001b[49m\u001b[43my\u001b[49m\u001b[43m,\u001b[49m\n\u001b[1;32m    843\u001b[0m \u001b[43m        \u001b[49m\u001b[43mtrain\u001b[49m\u001b[38;5;241;43m=\u001b[39;49m\u001b[43mtrain\u001b[49m\u001b[43m,\u001b[49m\n\u001b[1;32m    844\u001b[0m \u001b[43m        \u001b[49m\u001b[43mtest\u001b[49m\u001b[38;5;241;43m=\u001b[39;49m\u001b[43mtest\u001b[49m\u001b[43m,\u001b[49m\n\u001b[1;32m    845\u001b[0m \u001b[43m        \u001b[49m\u001b[43mparameters\u001b[49m\u001b[38;5;241;43m=\u001b[39;49m\u001b[43mparameters\u001b[49m\u001b[43m,\u001b[49m\n\u001b[1;32m    846\u001b[0m \u001b[43m        \u001b[49m\u001b[43msplit_progress\u001b[49m\u001b[38;5;241;43m=\u001b[39;49m\u001b[43m(\u001b[49m\u001b[43msplit_idx\u001b[49m\u001b[43m,\u001b[49m\u001b[43m \u001b[49m\u001b[43mn_splits\u001b[49m\u001b[43m)\u001b[49m\u001b[43m,\u001b[49m\n\u001b[1;32m    847\u001b[0m \u001b[43m        \u001b[49m\u001b[43mcandidate_progress\u001b[49m\u001b[38;5;241;43m=\u001b[39;49m\u001b[43m(\u001b[49m\u001b[43mcand_idx\u001b[49m\u001b[43m,\u001b[49m\u001b[43m \u001b[49m\u001b[43mn_candidates\u001b[49m\u001b[43m)\u001b[49m\u001b[43m,\u001b[49m\n\u001b[1;32m    848\u001b[0m \u001b[43m        \u001b[49m\u001b[38;5;241;43m*\u001b[39;49m\u001b[38;5;241;43m*\u001b[39;49m\u001b[43mfit_and_score_kwargs\u001b[49m\u001b[43m,\u001b[49m\n\u001b[1;32m    849\u001b[0m \u001b[43m    \u001b[49m\u001b[43m)\u001b[49m\n\u001b[1;32m    850\u001b[0m \u001b[43m    \u001b[49m\u001b[38;5;28;43;01mfor\u001b[39;49;00m\u001b[43m \u001b[49m\u001b[43m(\u001b[49m\u001b[43mcand_idx\u001b[49m\u001b[43m,\u001b[49m\u001b[43m \u001b[49m\u001b[43mparameters\u001b[49m\u001b[43m)\u001b[49m\u001b[43m,\u001b[49m\u001b[43m \u001b[49m\u001b[43m(\u001b[49m\u001b[43msplit_idx\u001b[49m\u001b[43m,\u001b[49m\u001b[43m \u001b[49m\u001b[43m(\u001b[49m\u001b[43mtrain\u001b[49m\u001b[43m,\u001b[49m\u001b[43m \u001b[49m\u001b[43mtest\u001b[49m\u001b[43m)\u001b[49m\u001b[43m)\u001b[49m\u001b[43m \u001b[49m\u001b[38;5;129;43;01min\u001b[39;49;00m\u001b[43m \u001b[49m\u001b[43mproduct\u001b[49m\u001b[43m(\u001b[49m\n\u001b[1;32m    851\u001b[0m \u001b[43m        \u001b[49m\u001b[38;5;28;43menumerate\u001b[39;49m\u001b[43m(\u001b[49m\u001b[43mcandidate_params\u001b[49m\u001b[43m)\u001b[49m\u001b[43m,\u001b[49m\u001b[43m \u001b[49m\u001b[38;5;28;43menumerate\u001b[39;49m\u001b[43m(\u001b[49m\u001b[43mcv\u001b[49m\u001b[38;5;241;43m.\u001b[39;49m\u001b[43msplit\u001b[49m\u001b[43m(\u001b[49m\u001b[43mX\u001b[49m\u001b[43m,\u001b[49m\u001b[43m \u001b[49m\u001b[43my\u001b[49m\u001b[43m,\u001b[49m\u001b[43m \u001b[49m\u001b[43mgroups\u001b[49m\u001b[43m)\u001b[49m\u001b[43m)\u001b[49m\n\u001b[1;32m    852\u001b[0m \u001b[43m    \u001b[49m\u001b[43m)\u001b[49m\n\u001b[1;32m    853\u001b[0m \u001b[43m\u001b[49m\u001b[43m)\u001b[49m\n\u001b[1;32m    855\u001b[0m \u001b[38;5;28;01mif\u001b[39;00m \u001b[38;5;28mlen\u001b[39m(out) \u001b[38;5;241m<\u001b[39m \u001b[38;5;241m1\u001b[39m:\n\u001b[1;32m    856\u001b[0m     \u001b[38;5;28;01mraise\u001b[39;00m \u001b[38;5;167;01mValueError\u001b[39;00m(\n\u001b[1;32m    857\u001b[0m         \u001b[38;5;124m\"\u001b[39m\u001b[38;5;124mNo fits were performed. \u001b[39m\u001b[38;5;124m\"\u001b[39m\n\u001b[1;32m    858\u001b[0m         \u001b[38;5;124m\"\u001b[39m\u001b[38;5;124mWas the CV iterator empty? \u001b[39m\u001b[38;5;124m\"\u001b[39m\n\u001b[1;32m    859\u001b[0m         \u001b[38;5;124m\"\u001b[39m\u001b[38;5;124mWere there no candidates?\u001b[39m\u001b[38;5;124m\"\u001b[39m\n\u001b[1;32m    860\u001b[0m     )\n",
      "File \u001b[0;32m~/opt/anaconda3/lib/python3.9/site-packages/joblib/parallel.py:1056\u001b[0m, in \u001b[0;36mParallel.__call__\u001b[0;34m(self, iterable)\u001b[0m\n\u001b[1;32m   1053\u001b[0m     \u001b[38;5;28mself\u001b[39m\u001b[38;5;241m.\u001b[39m_iterating \u001b[38;5;241m=\u001b[39m \u001b[38;5;28;01mFalse\u001b[39;00m\n\u001b[1;32m   1055\u001b[0m \u001b[38;5;28;01mwith\u001b[39;00m \u001b[38;5;28mself\u001b[39m\u001b[38;5;241m.\u001b[39m_backend\u001b[38;5;241m.\u001b[39mretrieval_context():\n\u001b[0;32m-> 1056\u001b[0m     \u001b[38;5;28;43mself\u001b[39;49m\u001b[38;5;241;43m.\u001b[39;49m\u001b[43mretrieve\u001b[49m\u001b[43m(\u001b[49m\u001b[43m)\u001b[49m\n\u001b[1;32m   1057\u001b[0m \u001b[38;5;66;03m# Make sure that we get a last message telling us we are done\u001b[39;00m\n\u001b[1;32m   1058\u001b[0m elapsed_time \u001b[38;5;241m=\u001b[39m time\u001b[38;5;241m.\u001b[39mtime() \u001b[38;5;241m-\u001b[39m \u001b[38;5;28mself\u001b[39m\u001b[38;5;241m.\u001b[39m_start_time\n",
      "File \u001b[0;32m~/opt/anaconda3/lib/python3.9/site-packages/joblib/parallel.py:935\u001b[0m, in \u001b[0;36mParallel.retrieve\u001b[0;34m(self)\u001b[0m\n\u001b[1;32m    933\u001b[0m \u001b[38;5;28;01mtry\u001b[39;00m:\n\u001b[1;32m    934\u001b[0m     \u001b[38;5;28;01mif\u001b[39;00m \u001b[38;5;28mgetattr\u001b[39m(\u001b[38;5;28mself\u001b[39m\u001b[38;5;241m.\u001b[39m_backend, \u001b[38;5;124m'\u001b[39m\u001b[38;5;124msupports_timeout\u001b[39m\u001b[38;5;124m'\u001b[39m, \u001b[38;5;28;01mFalse\u001b[39;00m):\n\u001b[0;32m--> 935\u001b[0m         \u001b[38;5;28mself\u001b[39m\u001b[38;5;241m.\u001b[39m_output\u001b[38;5;241m.\u001b[39mextend(\u001b[43mjob\u001b[49m\u001b[38;5;241;43m.\u001b[39;49m\u001b[43mget\u001b[49m\u001b[43m(\u001b[49m\u001b[43mtimeout\u001b[49m\u001b[38;5;241;43m=\u001b[39;49m\u001b[38;5;28;43mself\u001b[39;49m\u001b[38;5;241;43m.\u001b[39;49m\u001b[43mtimeout\u001b[49m\u001b[43m)\u001b[49m)\n\u001b[1;32m    936\u001b[0m     \u001b[38;5;28;01melse\u001b[39;00m:\n\u001b[1;32m    937\u001b[0m         \u001b[38;5;28mself\u001b[39m\u001b[38;5;241m.\u001b[39m_output\u001b[38;5;241m.\u001b[39mextend(job\u001b[38;5;241m.\u001b[39mget())\n",
      "File \u001b[0;32m~/opt/anaconda3/lib/python3.9/site-packages/joblib/_parallel_backends.py:542\u001b[0m, in \u001b[0;36mLokyBackend.wrap_future_result\u001b[0;34m(future, timeout)\u001b[0m\n\u001b[1;32m    539\u001b[0m \u001b[38;5;124;03m\"\"\"Wrapper for Future.result to implement the same behaviour as\u001b[39;00m\n\u001b[1;32m    540\u001b[0m \u001b[38;5;124;03mAsyncResults.get from multiprocessing.\"\"\"\u001b[39;00m\n\u001b[1;32m    541\u001b[0m \u001b[38;5;28;01mtry\u001b[39;00m:\n\u001b[0;32m--> 542\u001b[0m     \u001b[38;5;28;01mreturn\u001b[39;00m \u001b[43mfuture\u001b[49m\u001b[38;5;241;43m.\u001b[39;49m\u001b[43mresult\u001b[49m\u001b[43m(\u001b[49m\u001b[43mtimeout\u001b[49m\u001b[38;5;241;43m=\u001b[39;49m\u001b[43mtimeout\u001b[49m\u001b[43m)\u001b[49m\n\u001b[1;32m    543\u001b[0m \u001b[38;5;28;01mexcept\u001b[39;00m CfTimeoutError \u001b[38;5;28;01mas\u001b[39;00m e:\n\u001b[1;32m    544\u001b[0m     \u001b[38;5;28;01mraise\u001b[39;00m \u001b[38;5;167;01mTimeoutError\u001b[39;00m \u001b[38;5;28;01mfrom\u001b[39;00m \u001b[38;5;21;01me\u001b[39;00m\n",
      "File \u001b[0;32m~/opt/anaconda3/lib/python3.9/concurrent/futures/_base.py:441\u001b[0m, in \u001b[0;36mFuture.result\u001b[0;34m(self, timeout)\u001b[0m\n\u001b[1;32m    438\u001b[0m \u001b[38;5;28;01melif\u001b[39;00m \u001b[38;5;28mself\u001b[39m\u001b[38;5;241m.\u001b[39m_state \u001b[38;5;241m==\u001b[39m FINISHED:\n\u001b[1;32m    439\u001b[0m     \u001b[38;5;28;01mreturn\u001b[39;00m \u001b[38;5;28mself\u001b[39m\u001b[38;5;241m.\u001b[39m__get_result()\n\u001b[0;32m--> 441\u001b[0m \u001b[38;5;28;43mself\u001b[39;49m\u001b[38;5;241;43m.\u001b[39;49m\u001b[43m_condition\u001b[49m\u001b[38;5;241;43m.\u001b[39;49m\u001b[43mwait\u001b[49m\u001b[43m(\u001b[49m\u001b[43mtimeout\u001b[49m\u001b[43m)\u001b[49m\n\u001b[1;32m    443\u001b[0m \u001b[38;5;28;01mif\u001b[39;00m \u001b[38;5;28mself\u001b[39m\u001b[38;5;241m.\u001b[39m_state \u001b[38;5;129;01min\u001b[39;00m [CANCELLED, CANCELLED_AND_NOTIFIED]:\n\u001b[1;32m    444\u001b[0m     \u001b[38;5;28;01mraise\u001b[39;00m CancelledError()\n",
      "File \u001b[0;32m~/opt/anaconda3/lib/python3.9/threading.py:312\u001b[0m, in \u001b[0;36mCondition.wait\u001b[0;34m(self, timeout)\u001b[0m\n\u001b[1;32m    310\u001b[0m \u001b[38;5;28;01mtry\u001b[39;00m:    \u001b[38;5;66;03m# restore state no matter what (e.g., KeyboardInterrupt)\u001b[39;00m\n\u001b[1;32m    311\u001b[0m     \u001b[38;5;28;01mif\u001b[39;00m timeout \u001b[38;5;129;01mis\u001b[39;00m \u001b[38;5;28;01mNone\u001b[39;00m:\n\u001b[0;32m--> 312\u001b[0m         \u001b[43mwaiter\u001b[49m\u001b[38;5;241;43m.\u001b[39;49m\u001b[43macquire\u001b[49m\u001b[43m(\u001b[49m\u001b[43m)\u001b[49m\n\u001b[1;32m    313\u001b[0m         gotit \u001b[38;5;241m=\u001b[39m \u001b[38;5;28;01mTrue\u001b[39;00m\n\u001b[1;32m    314\u001b[0m     \u001b[38;5;28;01melse\u001b[39;00m:\n",
      "\u001b[0;31mKeyboardInterrupt\u001b[0m: "
     ]
    }
   ],
   "source": [
    "svm_gs = GridSearchCV(SVC(), param_grid=svm_params, cv=5, verbose =1, n_jobs=-1)\n",
    "svm_gs.fit(X_train_cvec, y_train)\n",
    "print(svm_gs.best_score_)\n",
    "print(svm_gs.best_params_)"
   ]
  },
  {
   "cell_type": "code",
   "execution_count": 175,
   "id": "c7983305",
   "metadata": {},
   "outputs": [],
   "source": [
    "best_svm = svm_gs.best_estimator_"
   ]
  },
  {
   "cell_type": "code",
   "execution_count": 176,
   "id": "63ed7520",
   "metadata": {},
   "outputs": [
    {
     "data": {
      "text/plain": [
       "0.6722846441947565"
      ]
     },
     "execution_count": 176,
     "metadata": {},
     "output_type": "execute_result"
    }
   ],
   "source": [
    "best_svm.fit(X_train_cvec, y_train)\n",
    "print(best_svm.score(X_train_cvec, y_train))\n",
    "print(best_svm.score(X_test_cvec, y_test))"
   ]
  },
  {
   "cell_type": "code",
   "execution_count": 177,
   "id": "b7154e18",
   "metadata": {},
   "outputs": [
    {
     "name": "stdout",
     "output_type": "stream",
     "text": [
      "0.991869918699187\n",
      "0.6722846441947565\n"
     ]
    }
   ],
   "source": [
    "print(best_svm.score(X_train_cvec, y_train))\n",
    "print(best_svm.score(X_test_cvec, y_test))"
   ]
  },
  {
   "cell_type": "markdown",
   "id": "f6e6a3b7",
   "metadata": {},
   "source": [
    "# TF-IDF Vectorizer"
   ]
  },
  {
   "cell_type": "code",
   "execution_count": 22,
   "id": "88920d3f",
   "metadata": {},
   "outputs": [],
   "source": [
    "from sklearn.feature_extraction.text import TfidfVectorizer"
   ]
  },
  {
   "cell_type": "code",
   "execution_count": 23,
   "id": "35a11cb1",
   "metadata": {},
   "outputs": [],
   "source": [
    "tvec = TfidfVectorizer(max_features=6000, stop_words='english', min_df=2, max_df=0.98, ngram_range=(1,2))\n",
    "X_train_tvec = tvec.fit_transform(X_train)\n",
    "\n",
    "X_test_tvec = tvec.transform(X_test)"
   ]
  },
  {
   "cell_type": "code",
   "execution_count": 24,
   "id": "58b15bc6",
   "metadata": {},
   "outputs": [
    {
     "ename": "NameError",
     "evalue": "name 'lr' is not defined",
     "output_type": "error",
     "traceback": [
      "\u001b[0;31m---------------------------------------------------------------------------\u001b[0m",
      "\u001b[0;31mNameError\u001b[0m                                 Traceback (most recent call last)",
      "Input \u001b[0;32mIn [24]\u001b[0m, in \u001b[0;36m<cell line: 1>\u001b[0;34m()\u001b[0m\n\u001b[0;32m----> 1\u001b[0m cross_val_score(\u001b[43mlr\u001b[49m, X_train_tvec, y_train, cv \u001b[38;5;241m=\u001b[39m \u001b[38;5;241m5\u001b[39m)\u001b[38;5;241m.\u001b[39mmean()\n",
      "\u001b[0;31mNameError\u001b[0m: name 'lr' is not defined"
     ]
    }
   ],
   "source": [
    "cross_val_score(lr, X_train_tvec, y_train, cv = 5).mean()"
   ]
  },
  {
   "cell_type": "code",
   "execution_count": 89,
   "id": "a70eee33",
   "metadata": {},
   "outputs": [],
   "source": [
    "logreg_tvec = LogisticRegression()"
   ]
  },
  {
   "cell_type": "code",
   "execution_count": 90,
   "id": "5e46e5e5",
   "metadata": {},
   "outputs": [
    {
     "data": {
      "text/plain": [
       "LogisticRegression()"
      ]
     },
     "execution_count": 90,
     "metadata": {},
     "output_type": "execute_result"
    }
   ],
   "source": [
    "logreg_tvec.fit(X_train_tvec, y_train)"
   ]
  },
  {
   "cell_type": "code",
   "execution_count": 91,
   "id": "0c022d8d",
   "metadata": {},
   "outputs": [
    {
     "data": {
      "text/plain": [
       "0.9631019387116948"
      ]
     },
     "execution_count": 91,
     "metadata": {},
     "output_type": "execute_result"
    }
   ],
   "source": [
    "logreg_tvec.score(X_train_tvec, y_train)"
   ]
  },
  {
   "cell_type": "code",
   "execution_count": 93,
   "id": "cee3f1f4",
   "metadata": {},
   "outputs": [
    {
     "data": {
      "text/plain": [
       "0.8539325842696629"
      ]
     },
     "execution_count": 93,
     "metadata": {},
     "output_type": "execute_result"
    }
   ],
   "source": [
    "logreg_tvec.score(X_test_tvec, y_test)"
   ]
  },
  {
   "cell_type": "code",
   "execution_count": 164,
   "id": "5432b920",
   "metadata": {},
   "outputs": [],
   "source": [
    "tf = Pipeline([('tf', TfidfVectorizer()),('logreg', LogisticRegression())])"
   ]
  },
  {
   "cell_type": "code",
   "execution_count": 165,
   "id": "c98bcb7d",
   "metadata": {},
   "outputs": [],
   "source": [
    "tf_params = {\n",
    "    'tf__max_features' : [6000, 7000, 8000],\n",
    "    'tf__min_df' : [1, 2],\n",
    "    'tf__max_df' : [0.7, 0.8],\n",
    "    'tf__ngram_range' : [(1,1), (1,2)],\n",
    "    'logreg__max_iter' : [500, 1000]\n",
    "}"
   ]
  },
  {
   "cell_type": "code",
   "execution_count": 166,
   "id": "1a2e21a0",
   "metadata": {},
   "outputs": [
    {
     "data": {
      "text/plain": [
       "GridSearchCV(cv=5,\n",
       "             estimator=Pipeline(steps=[('cvec', CountVectorizer()),\n",
       "                                       ('logreg', LogisticRegression())]),\n",
       "             param_grid={'cvec__max_df': [0.7, 0.8],\n",
       "                         'cvec__max_features': [6000, 7000, 8000],\n",
       "                         'cvec__min_df': [1, 2],\n",
       "                         'cvec__ngram_range': [(1, 1), (1, 2)],\n",
       "                         'logreg__max_iter': [500, 1000]})"
      ]
     },
     "execution_count": 166,
     "metadata": {},
     "output_type": "execute_result"
    }
   ],
   "source": [
    "tf_gs = GridSearchCV(pipe, param_grid=pipe_params, cv = 5)\n",
    "tf_gs.fit(X_train, y_train)"
   ]
  },
  {
   "cell_type": "code",
   "execution_count": 168,
   "id": "2018f71f",
   "metadata": {},
   "outputs": [
    {
     "data": {
      "text/plain": [
       "0.8161363636363637"
      ]
     },
     "execution_count": 168,
     "metadata": {},
     "output_type": "execute_result"
    }
   ],
   "source": [
    "tf_gs.best_score_"
   ]
  },
  {
   "cell_type": "code",
   "execution_count": 169,
   "id": "926a7c9f",
   "metadata": {},
   "outputs": [
    {
     "data": {
      "text/plain": [
       "{'cvec__max_df': 0.7,\n",
       " 'cvec__max_features': 8000,\n",
       " 'cvec__min_df': 2,\n",
       " 'cvec__ngram_range': (1, 2),\n",
       " 'logreg__max_iter': 500}"
      ]
     },
     "execution_count": 169,
     "metadata": {},
     "output_type": "execute_result"
    }
   ],
   "source": [
    "tf_gs.best_params_"
   ]
  },
  {
   "cell_type": "code",
   "execution_count": null,
   "id": "25193a09",
   "metadata": {},
   "outputs": [],
   "source": []
  },
  {
   "cell_type": "code",
   "execution_count": null,
   "id": "119855ce",
   "metadata": {},
   "outputs": [],
   "source": []
  },
  {
   "cell_type": "code",
   "execution_count": null,
   "id": "6225be04",
   "metadata": {},
   "outputs": [],
   "source": []
  }
 ],
 "metadata": {
  "kernelspec": {
   "display_name": "Python 3 (ipykernel)",
   "language": "python",
   "name": "python3"
  },
  "language_info": {
   "codemirror_mode": {
    "name": "ipython",
    "version": 3
   },
   "file_extension": ".py",
   "mimetype": "text/x-python",
   "name": "python",
   "nbconvert_exporter": "python",
   "pygments_lexer": "ipython3",
   "version": "3.9.12"
  }
 },
 "nbformat": 4,
 "nbformat_minor": 5
}
